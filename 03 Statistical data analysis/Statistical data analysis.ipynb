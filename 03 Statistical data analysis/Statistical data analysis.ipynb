{
 "cells": [
  {
   "cell_type": "markdown",
   "metadata": {},
   "source": [
    "## Введение\n",
    "\n",
    "### Описание проекта\n",
    "Федерального оператор сотовой связи «Мегалайн». Клиентам предлагают два тарифных плана: «Смарт» и «Ультра». Чтобы скорректировать рекламный бюджет, коммерческому департаменту необходимо понять, какой тариф приносит больше денег.\n",
    "в проекте предстоит сделать предварительный анализ тарифов на небольшой выборке клиентов. В распоряжении данные 500 пользователей «Мегалайна»: кто они, откуда, каким тарифом пользуются, сколько звонков и сообщений каждый отправил за 2018 год. \n",
    "    \n",
    "* Задача — проанализировать поведение клиентов \n",
    "* сделать вывод — какой тариф лучше для компании.\n",
    "\n",
    "### Описание тарифов\n",
    "Тариф «Смарт»\n",
    "Ежемесячная плата: 550 рублей\n",
    "Включено 500 минут разговора, 50 сообщений и 15 Гб интернет-трафика\n",
    "Стоимость услуг сверх тарифного пакета:\n",
    "минута разговора: 3 рубля\n",
    "сообщение: 3 рубля\n",
    "1 Гб интернет-трафика: 200 рублей\n",
    "Тариф «Ультра»\n",
    "Ежемесячная плата: 1950 рублей\n",
    "Включено 3000 минут разговора, 1000 сообщений и 30 Гб интернет-трафика\n",
    "Стоимость услуг сверх тарифного пакета:\n",
    "минута разговора: 1 рубль\n",
    "сообщение: 1 рубль\n",
    "1 Гб интернет-трафика: 150 рублей\n",
    "### Обратить внимание: \n",
    "«Мегалайн» всегда округляет вверх значения минут и мегабайтов. Если пользователь проговорил всего 1 секунду, в тарифе засчитывается целая минута."
   ]
  },
  {
   "cell_type": "markdown",
   "metadata": {},
   "source": [
    "<h2> План Исследования: </h2>\n",
    "\n"
   ]
  },
  {
   "cell_type": "markdown",
   "metadata": {},
   "source": [
    "1. Изучение общей информации \n",
    "> * Получение информации в виде файлов\n",
    "> * Открытие файлов, оценка их читаемости\n",
    "> * Получение общей информации о данных\n",
    "> * Осмотр \"глазами\"\n",
    "> * Вывод\n",
    "2. Подготовка данных\n",
    "> * Проверка и устранение пропусков\n",
    "> * Проверка и устранение дубликатов\n",
    "> * Приведение данных к нужным типам\n",
    "> * Поиск и исправление ошибок в данных: выбросы, неправильные названия, значения, артефакты.\n",
    "> * Группировка данных по месяцам и пользователям, сведение в общую таблицу\n",
    "> * Вывод\n",
    "3. Анализ данных\n",
    "> * Подсчет среднего количества, дисперсии и стандартного отклонения услуг по тарифам.\n",
    "> * Построение гистограмм распределения услуг по тарифам\n",
    "> * Вывод: описание распределений, поведение клиентов оператора, исходя из выборки.\n",
    "4. Проверка гипотез\n",
    "> * Пояснение в формулировании нулевой и альтернативной гипотезы\n",
    "> * Гипотеза: Средняя выручка пользователей тарифов «Ультра» и «Смарт» различается\n",
    "> * Вывод по гипотезе\n",
    "> * Гипотеза: Средняя выручка пользователей из Москвы отличается от выручки пользователей из других регионов\n",
    "> * Вывод по гипотезе\n",
    "5. Вывод"
   ]
  },
  {
   "cell_type": "markdown",
   "metadata": {},
   "source": [
    "## 1. Открытие файла с данными и изучение общей информации"
   ]
  },
  {
   "cell_type": "code",
   "execution_count": 1,
   "metadata": {},
   "outputs": [],
   "source": [
    "import pandas as pd\n",
    "import numpy as np\n",
    "from math import factorial, ceil\n",
    "from scipy import stats as st\n",
    "import matplotlib.pyplot as plt\n",
    "import seaborn as sns\n",
    "\n",
    "pd.set_option('display.max_columns', 35) # настройка отображения таблиц"
   ]
  },
  {
   "cell_type": "markdown",
   "metadata": {},
   "source": [
    "**Открытие файлов, оценка их читаемости**"
   ]
  },
  {
   "cell_type": "code",
   "execution_count": 2,
   "metadata": {},
   "outputs": [],
   "source": [
    " # словарь с парами 'имя_таблицы:DataFrame' для удобства итерации по датафреймам. позже вынести в глобальные\n",
    "dict_frames = {}\n",
    "\n",
    "# Функция читате файл csv\n",
    "def read_files(name_df, file): \n",
    "    try:\n",
    "        name_df = pd.read_csv(file)\n",
    "    except:\n",
    "        print('Не удалось прочитать', file, 'проверьте расположение файла')\n",
    "    return name_df\n",
    "# Функция разбирает пути из списка, выделяет из каждого имя файла и записывает в индекс словаря: имя \n",
    "# а результат работы функции read_files в значение \n",
    "def read_files_get_list(files):\n",
    "    for file in files:\n",
    "        only_file_name = file.split(\"/\")[-1][0:-4]\n",
    "        dict_frames[only_file_name] = read_files(only_file_name, file)\n"
   ]
  },
  {
   "cell_type": "code",
   "execution_count": 3,
   "metadata": {},
   "outputs": [],
   "source": [
    "files = [\n",
    "    './datasets/users.csv', #     пользователи\n",
    "    './datasets/calls.csv', #     звонкаи\n",
    "    './datasets/messages.csv', #  сообщения\n",
    "    './datasets/internet.csv', #  интернет - сессии\n",
    "    './datasets/tariffs.csv' #    тарифы\n",
    "]\n",
    "# сохраняем фреймы в словарь\n",
    "read_files_get_list(files)\n",
    "\n",
    "globals().update(dict_frames) # Передаем названия и объекты таблиц в глобальное пространство имен"
   ]
  },
  {
   "cell_type": "code",
   "execution_count": 4,
   "metadata": {},
   "outputs": [],
   "source": [
    "globals().update(dict_frames) # Передаем названия и объекты таблиц в глобальное пространство имен"
   ]
  },
  {
   "cell_type": "markdown",
   "metadata": {},
   "source": [
    "**Проверяем данные \"глазами\", смотрим информацию**"
   ]
  },
  {
   "cell_type": "code",
   "execution_count": 5,
   "metadata": {
    "scrolled": true
   },
   "outputs": [
    {
     "name": "stdout",
     "output_type": "stream",
     "text": [
      "==================== Таблица users ====================\n",
      "\n",
      "<class 'pandas.core.frame.DataFrame'>\n",
      "RangeIndex: 500 entries, 0 to 499\n",
      "Data columns (total 8 columns):\n",
      " #   Column      Non-Null Count  Dtype \n",
      "---  ------      --------------  ----- \n",
      " 0   user_id     500 non-null    int64 \n",
      " 1   age         500 non-null    int64 \n",
      " 2   churn_date  38 non-null     object\n",
      " 3   city        500 non-null    object\n",
      " 4   first_name  500 non-null    object\n",
      " 5   last_name   500 non-null    object\n",
      " 6   reg_date    500 non-null    object\n",
      " 7   tariff      500 non-null    object\n",
      "dtypes: int64(2), object(6)\n",
      "memory usage: 31.4+ KB\n",
      "------------------------------------------------------------\n"
     ]
    },
    {
     "data": {
      "text/html": [
       "<div>\n",
       "<style scoped>\n",
       "    .dataframe tbody tr th:only-of-type {\n",
       "        vertical-align: middle;\n",
       "    }\n",
       "\n",
       "    .dataframe tbody tr th {\n",
       "        vertical-align: top;\n",
       "    }\n",
       "\n",
       "    .dataframe thead th {\n",
       "        text-align: right;\n",
       "    }\n",
       "</style>\n",
       "<table border=\"1\" class=\"dataframe\">\n",
       "  <thead>\n",
       "    <tr style=\"text-align: right;\">\n",
       "      <th></th>\n",
       "      <th>user_id</th>\n",
       "      <th>age</th>\n",
       "      <th>churn_date</th>\n",
       "      <th>city</th>\n",
       "      <th>first_name</th>\n",
       "      <th>last_name</th>\n",
       "      <th>reg_date</th>\n",
       "      <th>tariff</th>\n",
       "    </tr>\n",
       "  </thead>\n",
       "  <tbody>\n",
       "    <tr>\n",
       "      <th>0</th>\n",
       "      <td>1000</td>\n",
       "      <td>52</td>\n",
       "      <td>NaN</td>\n",
       "      <td>Краснодар</td>\n",
       "      <td>Рафаил</td>\n",
       "      <td>Верещагин</td>\n",
       "      <td>2018-05-25</td>\n",
       "      <td>ultra</td>\n",
       "    </tr>\n",
       "    <tr>\n",
       "      <th>1</th>\n",
       "      <td>1001</td>\n",
       "      <td>41</td>\n",
       "      <td>NaN</td>\n",
       "      <td>Москва</td>\n",
       "      <td>Иван</td>\n",
       "      <td>Ежов</td>\n",
       "      <td>2018-11-01</td>\n",
       "      <td>smart</td>\n",
       "    </tr>\n",
       "    <tr>\n",
       "      <th>2</th>\n",
       "      <td>1002</td>\n",
       "      <td>59</td>\n",
       "      <td>NaN</td>\n",
       "      <td>Стерлитамак</td>\n",
       "      <td>Евгений</td>\n",
       "      <td>Абрамович</td>\n",
       "      <td>2018-06-17</td>\n",
       "      <td>smart</td>\n",
       "    </tr>\n",
       "  </tbody>\n",
       "</table>\n",
       "</div>"
      ],
      "text/plain": [
       "   user_id  age churn_date         city first_name  last_name    reg_date  \\\n",
       "0     1000   52        NaN    Краснодар     Рафаил  Верещагин  2018-05-25   \n",
       "1     1001   41        NaN       Москва       Иван       Ежов  2018-11-01   \n",
       "2     1002   59        NaN  Стерлитамак    Евгений  Абрамович  2018-06-17   \n",
       "\n",
       "  tariff  \n",
       "0  ultra  \n",
       "1  smart  \n",
       "2  smart  "
      ]
     },
     "metadata": {},
     "output_type": "display_data"
    },
    {
     "name": "stdout",
     "output_type": "stream",
     "text": [
      "------------------------------------------------------------\n",
      "==================== Таблица calls ====================\n",
      "\n",
      "<class 'pandas.core.frame.DataFrame'>\n",
      "RangeIndex: 202607 entries, 0 to 202606\n",
      "Data columns (total 4 columns):\n",
      " #   Column     Non-Null Count   Dtype  \n",
      "---  ------     --------------   -----  \n",
      " 0   id         202607 non-null  object \n",
      " 1   call_date  202607 non-null  object \n",
      " 2   duration   202607 non-null  float64\n",
      " 3   user_id    202607 non-null  int64  \n",
      "dtypes: float64(1), int64(1), object(2)\n",
      "memory usage: 6.2+ MB\n",
      "------------------------------------------------------------\n"
     ]
    },
    {
     "data": {
      "text/html": [
       "<div>\n",
       "<style scoped>\n",
       "    .dataframe tbody tr th:only-of-type {\n",
       "        vertical-align: middle;\n",
       "    }\n",
       "\n",
       "    .dataframe tbody tr th {\n",
       "        vertical-align: top;\n",
       "    }\n",
       "\n",
       "    .dataframe thead th {\n",
       "        text-align: right;\n",
       "    }\n",
       "</style>\n",
       "<table border=\"1\" class=\"dataframe\">\n",
       "  <thead>\n",
       "    <tr style=\"text-align: right;\">\n",
       "      <th></th>\n",
       "      <th>id</th>\n",
       "      <th>call_date</th>\n",
       "      <th>duration</th>\n",
       "      <th>user_id</th>\n",
       "    </tr>\n",
       "  </thead>\n",
       "  <tbody>\n",
       "    <tr>\n",
       "      <th>0</th>\n",
       "      <td>1000_0</td>\n",
       "      <td>2018-07-25</td>\n",
       "      <td>0.00</td>\n",
       "      <td>1000</td>\n",
       "    </tr>\n",
       "    <tr>\n",
       "      <th>1</th>\n",
       "      <td>1000_1</td>\n",
       "      <td>2018-08-17</td>\n",
       "      <td>0.00</td>\n",
       "      <td>1000</td>\n",
       "    </tr>\n",
       "    <tr>\n",
       "      <th>2</th>\n",
       "      <td>1000_2</td>\n",
       "      <td>2018-06-11</td>\n",
       "      <td>2.85</td>\n",
       "      <td>1000</td>\n",
       "    </tr>\n",
       "  </tbody>\n",
       "</table>\n",
       "</div>"
      ],
      "text/plain": [
       "       id   call_date  duration  user_id\n",
       "0  1000_0  2018-07-25      0.00     1000\n",
       "1  1000_1  2018-08-17      0.00     1000\n",
       "2  1000_2  2018-06-11      2.85     1000"
      ]
     },
     "metadata": {},
     "output_type": "display_data"
    },
    {
     "name": "stdout",
     "output_type": "stream",
     "text": [
      "------------------------------------------------------------\n",
      "==================== Таблица messages ====================\n",
      "\n",
      "<class 'pandas.core.frame.DataFrame'>\n",
      "RangeIndex: 123036 entries, 0 to 123035\n",
      "Data columns (total 3 columns):\n",
      " #   Column        Non-Null Count   Dtype \n",
      "---  ------        --------------   ----- \n",
      " 0   id            123036 non-null  object\n",
      " 1   message_date  123036 non-null  object\n",
      " 2   user_id       123036 non-null  int64 \n",
      "dtypes: int64(1), object(2)\n",
      "memory usage: 2.8+ MB\n",
      "------------------------------------------------------------\n"
     ]
    },
    {
     "data": {
      "text/html": [
       "<div>\n",
       "<style scoped>\n",
       "    .dataframe tbody tr th:only-of-type {\n",
       "        vertical-align: middle;\n",
       "    }\n",
       "\n",
       "    .dataframe tbody tr th {\n",
       "        vertical-align: top;\n",
       "    }\n",
       "\n",
       "    .dataframe thead th {\n",
       "        text-align: right;\n",
       "    }\n",
       "</style>\n",
       "<table border=\"1\" class=\"dataframe\">\n",
       "  <thead>\n",
       "    <tr style=\"text-align: right;\">\n",
       "      <th></th>\n",
       "      <th>id</th>\n",
       "      <th>message_date</th>\n",
       "      <th>user_id</th>\n",
       "    </tr>\n",
       "  </thead>\n",
       "  <tbody>\n",
       "    <tr>\n",
       "      <th>0</th>\n",
       "      <td>1000_0</td>\n",
       "      <td>2018-06-27</td>\n",
       "      <td>1000</td>\n",
       "    </tr>\n",
       "    <tr>\n",
       "      <th>1</th>\n",
       "      <td>1000_1</td>\n",
       "      <td>2018-10-08</td>\n",
       "      <td>1000</td>\n",
       "    </tr>\n",
       "    <tr>\n",
       "      <th>2</th>\n",
       "      <td>1000_2</td>\n",
       "      <td>2018-08-04</td>\n",
       "      <td>1000</td>\n",
       "    </tr>\n",
       "  </tbody>\n",
       "</table>\n",
       "</div>"
      ],
      "text/plain": [
       "       id message_date  user_id\n",
       "0  1000_0   2018-06-27     1000\n",
       "1  1000_1   2018-10-08     1000\n",
       "2  1000_2   2018-08-04     1000"
      ]
     },
     "metadata": {},
     "output_type": "display_data"
    },
    {
     "name": "stdout",
     "output_type": "stream",
     "text": [
      "------------------------------------------------------------\n",
      "==================== Таблица internet ====================\n",
      "\n",
      "<class 'pandas.core.frame.DataFrame'>\n",
      "RangeIndex: 149396 entries, 0 to 149395\n",
      "Data columns (total 5 columns):\n",
      " #   Column        Non-Null Count   Dtype  \n",
      "---  ------        --------------   -----  \n",
      " 0   Unnamed: 0    149396 non-null  int64  \n",
      " 1   id            149396 non-null  object \n",
      " 2   mb_used       149396 non-null  float64\n",
      " 3   session_date  149396 non-null  object \n",
      " 4   user_id       149396 non-null  int64  \n",
      "dtypes: float64(1), int64(2), object(2)\n",
      "memory usage: 5.7+ MB\n",
      "------------------------------------------------------------\n"
     ]
    },
    {
     "data": {
      "text/html": [
       "<div>\n",
       "<style scoped>\n",
       "    .dataframe tbody tr th:only-of-type {\n",
       "        vertical-align: middle;\n",
       "    }\n",
       "\n",
       "    .dataframe tbody tr th {\n",
       "        vertical-align: top;\n",
       "    }\n",
       "\n",
       "    .dataframe thead th {\n",
       "        text-align: right;\n",
       "    }\n",
       "</style>\n",
       "<table border=\"1\" class=\"dataframe\">\n",
       "  <thead>\n",
       "    <tr style=\"text-align: right;\">\n",
       "      <th></th>\n",
       "      <th>Unnamed: 0</th>\n",
       "      <th>id</th>\n",
       "      <th>mb_used</th>\n",
       "      <th>session_date</th>\n",
       "      <th>user_id</th>\n",
       "    </tr>\n",
       "  </thead>\n",
       "  <tbody>\n",
       "    <tr>\n",
       "      <th>0</th>\n",
       "      <td>0</td>\n",
       "      <td>1000_0</td>\n",
       "      <td>112.95</td>\n",
       "      <td>2018-11-25</td>\n",
       "      <td>1000</td>\n",
       "    </tr>\n",
       "    <tr>\n",
       "      <th>1</th>\n",
       "      <td>1</td>\n",
       "      <td>1000_1</td>\n",
       "      <td>1052.81</td>\n",
       "      <td>2018-09-07</td>\n",
       "      <td>1000</td>\n",
       "    </tr>\n",
       "    <tr>\n",
       "      <th>2</th>\n",
       "      <td>2</td>\n",
       "      <td>1000_2</td>\n",
       "      <td>1197.26</td>\n",
       "      <td>2018-06-25</td>\n",
       "      <td>1000</td>\n",
       "    </tr>\n",
       "  </tbody>\n",
       "</table>\n",
       "</div>"
      ],
      "text/plain": [
       "   Unnamed: 0      id  mb_used session_date  user_id\n",
       "0           0  1000_0   112.95   2018-11-25     1000\n",
       "1           1  1000_1  1052.81   2018-09-07     1000\n",
       "2           2  1000_2  1197.26   2018-06-25     1000"
      ]
     },
     "metadata": {},
     "output_type": "display_data"
    },
    {
     "name": "stdout",
     "output_type": "stream",
     "text": [
      "------------------------------------------------------------\n",
      "==================== Таблица tariffs ====================\n",
      "\n",
      "<class 'pandas.core.frame.DataFrame'>\n",
      "RangeIndex: 2 entries, 0 to 1\n",
      "Data columns (total 8 columns):\n",
      " #   Column                 Non-Null Count  Dtype \n",
      "---  ------                 --------------  ----- \n",
      " 0   messages_included      2 non-null      int64 \n",
      " 1   mb_per_month_included  2 non-null      int64 \n",
      " 2   minutes_included       2 non-null      int64 \n",
      " 3   rub_monthly_fee        2 non-null      int64 \n",
      " 4   rub_per_gb             2 non-null      int64 \n",
      " 5   rub_per_message        2 non-null      int64 \n",
      " 6   rub_per_minute         2 non-null      int64 \n",
      " 7   tariff_name            2 non-null      object\n",
      "dtypes: int64(7), object(1)\n",
      "memory usage: 256.0+ bytes\n",
      "------------------------------------------------------------\n"
     ]
    },
    {
     "data": {
      "text/html": [
       "<div>\n",
       "<style scoped>\n",
       "    .dataframe tbody tr th:only-of-type {\n",
       "        vertical-align: middle;\n",
       "    }\n",
       "\n",
       "    .dataframe tbody tr th {\n",
       "        vertical-align: top;\n",
       "    }\n",
       "\n",
       "    .dataframe thead th {\n",
       "        text-align: right;\n",
       "    }\n",
       "</style>\n",
       "<table border=\"1\" class=\"dataframe\">\n",
       "  <thead>\n",
       "    <tr style=\"text-align: right;\">\n",
       "      <th></th>\n",
       "      <th>messages_included</th>\n",
       "      <th>mb_per_month_included</th>\n",
       "      <th>minutes_included</th>\n",
       "      <th>rub_monthly_fee</th>\n",
       "      <th>rub_per_gb</th>\n",
       "      <th>rub_per_message</th>\n",
       "      <th>rub_per_minute</th>\n",
       "      <th>tariff_name</th>\n",
       "    </tr>\n",
       "  </thead>\n",
       "  <tbody>\n",
       "    <tr>\n",
       "      <th>0</th>\n",
       "      <td>50</td>\n",
       "      <td>15360</td>\n",
       "      <td>500</td>\n",
       "      <td>550</td>\n",
       "      <td>200</td>\n",
       "      <td>3</td>\n",
       "      <td>3</td>\n",
       "      <td>smart</td>\n",
       "    </tr>\n",
       "    <tr>\n",
       "      <th>1</th>\n",
       "      <td>1000</td>\n",
       "      <td>30720</td>\n",
       "      <td>3000</td>\n",
       "      <td>1950</td>\n",
       "      <td>150</td>\n",
       "      <td>1</td>\n",
       "      <td>1</td>\n",
       "      <td>ultra</td>\n",
       "    </tr>\n",
       "  </tbody>\n",
       "</table>\n",
       "</div>"
      ],
      "text/plain": [
       "   messages_included  mb_per_month_included  minutes_included  \\\n",
       "0                 50                  15360               500   \n",
       "1               1000                  30720              3000   \n",
       "\n",
       "   rub_monthly_fee  rub_per_gb  rub_per_message  rub_per_minute tariff_name  \n",
       "0              550         200                3               3       smart  \n",
       "1             1950         150                1               1       ultra  "
      ]
     },
     "metadata": {},
     "output_type": "display_data"
    },
    {
     "name": "stdout",
     "output_type": "stream",
     "text": [
      "------------------------------------------------------------\n"
     ]
    }
   ],
   "source": [
    "for name, frame in dict_frames.items():\n",
    "    print('=='*10, 'Таблица', name, '=='*10)\n",
    "    print('')\n",
    "    frame.info()\n",
    "    print('------'*10)\n",
    "    display(frame.head(3))\n",
    "    print('------'*10)\n",
    "    "
   ]
  },
  {
   "cell_type": "markdown",
   "metadata": {},
   "source": [
    "## Вывод"
   ]
  },
  {
   "cell_type": "markdown",
   "metadata": {},
   "source": [
    "Данные читаются. В таблице users имеются пропуски. Имеется необходимость менять типы данных. В таблице internet имеется столбец \"Unnamed\", неуказанный в условии. Надо далее решить что с ним делать."
   ]
  },
  {
   "cell_type": "markdown",
   "metadata": {},
   "source": [
    "## 2. Подготовка данных"
   ]
  },
  {
   "cell_type": "markdown",
   "metadata": {},
   "source": [
    "### Пропуски"
   ]
  },
  {
   "cell_type": "markdown",
   "metadata": {},
   "source": [
    "Проверим весь датасет на пропуски"
   ]
  },
  {
   "cell_type": "code",
   "execution_count": 6,
   "metadata": {},
   "outputs": [
    {
     "name": "stdout",
     "output_type": "stream",
     "text": [
      "Пропуски в users\n",
      "user_id         0\n",
      "age             0\n",
      "churn_date    462\n",
      "city            0\n",
      "first_name      0\n",
      "last_name       0\n",
      "reg_date        0\n",
      "tariff          0\n",
      "dtype: int64\n",
      "В calls Пропусков не имеется\n",
      "В messages Пропусков не имеется\n",
      "В internet Пропусков не имеется\n",
      "В tariffs Пропусков не имеется\n"
     ]
    }
   ],
   "source": [
    "for name, frame in dict_frames.items():\n",
    "    if frame.isnull().sum().sum() > 0:\n",
    "        print('Пропуски в {}'.format(name))\n",
    "        print(frame.isnull().sum())\n",
    "    else:\n",
    "        print('В {} Пропусков не имеется'.format(name))"
   ]
  },
  {
   "cell_type": "markdown",
   "metadata": {},
   "source": [
    "В таблице 'users[churn_date]' за исключением 38 записей пропуски. обрабатывать их не стоит. Это колонка о завершении исплользования тарифа. Отсутствие означает, что тариф еще действует."
   ]
  },
  {
   "cell_type": "markdown",
   "metadata": {},
   "source": [
    "### Дубликаты"
   ]
  },
  {
   "cell_type": "code",
   "execution_count": 7,
   "metadata": {},
   "outputs": [
    {
     "name": "stdout",
     "output_type": "stream",
     "text": [
      "Дубликатов строк не имеется\n",
      "Дубликатов строк не имеется\n",
      "Дубликатов строк не имеется\n",
      "Дубликатов строк не имеется\n",
      "Дубликатов строк не имеется\n"
     ]
    }
   ],
   "source": [
    "for frame in dict_frames.values():\n",
    "    if frame.duplicated().sum().sum() > 0:\n",
    "        print(frame.duplicated().sum())\n",
    "    else:\n",
    "        print('Дубликатов строк не имеется')"
   ]
  },
  {
   "cell_type": "markdown",
   "metadata": {},
   "source": [
    "### Приведение данных к нужным типам"
   ]
  },
  {
   "cell_type": "markdown",
   "metadata": {},
   "source": [
    "В замене типов нуждаются следующие колонки:\n",
    "\n",
    "Таблица users\n",
    "- churn_date    object на datetime\n",
    "- reg_date      object на datetime\n",
    "---\n",
    "Таблица calls \n",
    "- call_date    object на datetime\n",
    "- duration     float64 на int64 с округлением в большему целому (из условия)\n",
    "---\n",
    "Таблица messages\n",
    "- message_date    object на datetime\n",
    "---\n",
    "Таблица internet\n",
    "- session_date    object на datetime\n",
    "- В mb_used      float64 на int64 с округлением в большему целому (из условия)"
   ]
  },
  {
   "cell_type": "code",
   "execution_count": 8,
   "metadata": {},
   "outputs": [],
   "source": [
    "# Функция получает список столбцов для замены типа на datetime64. \n",
    "# Ищет столбцы по названиям во фреймах списка \"datasets\" и заменяет найденные на datetime64\n",
    "# с обработкой возможных ошибок\n",
    "def replace_to_date(replace_list, datasets):\n",
    "    for name, frame in datasets.items():\n",
    "        for column in replace_list:\n",
    "            if column in frame.columns:\n",
    "                if frame[column].dtypes != 'datetime64[ns]':\n",
    "                    print('Попытка заменить тип данных {0}.{1}'.format(name, column))\n",
    "                    try:\n",
    "                        frame[column] = pd.to_datetime(frame[column], format = '%Y-%m-%dT%H:%M:%S')\n",
    "                        print('Успех!')\n",
    "                    except:\n",
    "                        print('Отказ! Ошибка при изменении типа!')\n",
    "                else:\n",
    "                    print('Отказ! {0}.{1} Тип уже был datetime64'.format(name, column))"
   ]
  },
  {
   "cell_type": "code",
   "execution_count": 9,
   "metadata": {},
   "outputs": [
    {
     "name": "stdout",
     "output_type": "stream",
     "text": [
      "Попытка заменить тип данных users.churn_date\n",
      "Успех!\n",
      "Попытка заменить тип данных users.reg_date\n",
      "Успех!\n",
      "Попытка заменить тип данных calls.call_date\n",
      "Успех!\n",
      "Попытка заменить тип данных messages.message_date\n",
      "Успех!\n",
      "Попытка заменить тип данных internet.session_date\n",
      "Успех!\n"
     ]
    }
   ],
   "source": [
    "# все столбцы для замены типа данных на datetime64\n",
    "date_list = ['churn_date', 'reg_date', 'call_date', 'message_date', 'session_date']\n",
    "\n",
    "replace_to_date(date_list, dict_frames)"
   ]
  },
  {
   "cell_type": "code",
   "execution_count": 10,
   "metadata": {},
   "outputs": [],
   "source": [
    "#calls['duration'].dtypes"
   ]
  },
  {
   "cell_type": "code",
   "execution_count": 11,
   "metadata": {},
   "outputs": [],
   "source": [
    "# Округление до большего целого \n",
    "#Параметры: dataframe - dataframe, columns - список столбцов для работы\n",
    "\n",
    "def round_ceil (dataframe, columns):\n",
    "    for column in columns:\n",
    "        dataframe[column].apply(lambda x: ceil(x))\n",
    "        print('{0} Оеруглено до большего целого'.format(column))"
   ]
  },
  {
   "cell_type": "code",
   "execution_count": 12,
   "metadata": {},
   "outputs": [],
   "source": [
    "# Замена на другой тип. \n",
    "# Параметры: dataframe - dataframe, columns - список колонок, types - на какой надо тип сменить по умолчанию 'int'\n",
    "\n",
    "def exch_type(dataframe, columns, types = 'int'):\n",
    "    for column in columns:\n",
    "        if dataframe[column].dtypes != types:\n",
    "            print('Попытка заменить тип данных {0}'.format(column))\n",
    "            try:\n",
    "                dataframe[column] = dataframe[column].astype(types)\n",
    "                print('Успех!')\n",
    "            except:\n",
    "                print('не удалось сменить тип в', column)\n",
    "        else:\n",
    "            print('Отказ! {0} Тип уже был {1}'.format(column, types))\n",
    "    #print(dataframe.info())"
   ]
  },
  {
   "cell_type": "code",
   "execution_count": 13,
   "metadata": {},
   "outputs": [
    {
     "name": "stdout",
     "output_type": "stream",
     "text": [
      "duration Оеруглено до большего целого\n",
      "mb_used Оеруглено до большего целого\n",
      "Попытка заменить тип данных duration\n",
      "Успех!\n",
      "Попытка заменить тип данных mb_used\n",
      "Успех!\n"
     ]
    }
   ],
   "source": [
    "#calls['duration'].apply(lambda x: ceil(x)) #Округляем до большего целого\n",
    "#calls['duration'] = calls['duration'].astype('int') # Заменяем тип на int\n",
    "#calls['duration'].dtypes\n",
    "\n",
    "round_ceil (calls, ['duration'])\n",
    "round_ceil (internet, ['mb_used'])\n",
    "\n",
    "exch_type(calls, ['duration'])\n",
    "exch_type(internet, ['mb_used'])\n",
    "\n"
   ]
  },
  {
   "cell_type": "markdown",
   "metadata": {},
   "source": [
    "### Поиск и исправление ошибок в данных"
   ]
  },
  {
   "cell_type": "markdown",
   "metadata": {},
   "source": [
    "Изучим предварительно данные на возможные аномалии, выбросы, оценим распределение."
   ]
  },
  {
   "cell_type": "code",
   "execution_count": 14,
   "metadata": {},
   "outputs": [
    {
     "name": "stdout",
     "output_type": "stream",
     "text": [
      "==================== Таблица users ====================\n",
      "           user_id        age\n",
      "count   500.000000  500.00000\n",
      "mean   1249.500000   46.58800\n",
      "std     144.481833   16.66763\n",
      "min    1000.000000   18.00000\n",
      "25%    1124.750000   32.00000\n",
      "50%    1249.500000   46.00000\n",
      "75%    1374.250000   62.00000\n",
      "max    1499.000000   75.00000\n",
      "============================================================\n",
      "\n",
      "==================== Таблица calls ====================\n",
      "            duration        user_id\n",
      "count  202607.000000  202607.000000\n",
      "mean        6.361350    1253.940619\n",
      "std         5.735426     144.722751\n",
      "min         0.000000    1000.000000\n",
      "25%         1.000000    1126.000000\n",
      "50%         6.000000    1260.000000\n",
      "75%        10.000000    1379.000000\n",
      "max        38.000000    1499.000000\n",
      "============================================================\n",
      "\n",
      "==================== Таблица messages ====================\n",
      "             user_id\n",
      "count  123036.000000\n",
      "mean     1256.989410\n",
      "std       143.523967\n",
      "min      1000.000000\n",
      "25%      1134.000000\n",
      "50%      1271.000000\n",
      "75%      1381.000000\n",
      "max      1499.000000\n",
      "============================================================\n",
      "\n",
      "==================== Таблица internet ====================\n",
      "          Unnamed: 0        mb_used        user_id\n",
      "count  149396.000000  149396.000000  149396.000000\n",
      "mean    74697.500000     369.762223    1252.099842\n",
      "std     43127.054745     278.214201     144.050823\n",
      "min         0.000000       0.000000    1000.000000\n",
      "25%     37348.750000     138.000000    1130.000000\n",
      "50%     74697.500000     348.000000    1251.000000\n",
      "75%    112046.250000     559.000000    1380.000000\n",
      "max    149395.000000    1724.000000    1499.000000\n",
      "============================================================\n",
      "\n",
      "==================== Таблица tariffs ====================\n",
      "       messages_included  mb_per_month_included  minutes_included  \\\n",
      "count           2.000000               2.000000          2.000000   \n",
      "mean          525.000000           23040.000000       1750.000000   \n",
      "std           671.751442           10861.160159       1767.766953   \n",
      "min            50.000000           15360.000000        500.000000   \n",
      "25%           287.500000           19200.000000       1125.000000   \n",
      "50%           525.000000           23040.000000       1750.000000   \n",
      "75%           762.500000           26880.000000       2375.000000   \n",
      "max          1000.000000           30720.000000       3000.000000   \n",
      "\n",
      "       rub_monthly_fee  rub_per_gb  rub_per_message  rub_per_minute  \n",
      "count         2.000000    2.000000         2.000000        2.000000  \n",
      "mean       1250.000000  175.000000         2.000000        2.000000  \n",
      "std         989.949494   35.355339         1.414214        1.414214  \n",
      "min         550.000000  150.000000         1.000000        1.000000  \n",
      "25%         900.000000  162.500000         1.500000        1.500000  \n",
      "50%        1250.000000  175.000000         2.000000        2.000000  \n",
      "75%        1600.000000  187.500000         2.500000        2.500000  \n",
      "max        1950.000000  200.000000         3.000000        3.000000  \n",
      "============================================================\n",
      "\n"
     ]
    }
   ],
   "source": [
    "for name, frame in dict_frames.items():\n",
    "    print('=='*10, 'Таблица', name, '=='*10)\n",
    "    print(frame.describe())\n",
    "    print('==='*20)\n",
    "    print()"
   ]
  },
  {
   "cell_type": "markdown",
   "metadata": {},
   "source": [
    "Колонка \"Unnamed: 0\" в таблице internet является дубликатом индекса. попавшим сюда, возможно, по ошибке выгрузки. Ее можно удалить."
   ]
  },
  {
   "cell_type": "code",
   "execution_count": 15,
   "metadata": {},
   "outputs": [],
   "source": [
    "internet.drop(['Unnamed: 0'], axis='columns', inplace=True)"
   ]
  },
  {
   "cell_type": "markdown",
   "metadata": {},
   "source": [
    "В таблице calls длительность звонков \"duration\"имеются нулевые значения. Посмотрим сколько это в процентах"
   ]
  },
  {
   "cell_type": "code",
   "execution_count": 16,
   "metadata": {},
   "outputs": [],
   "source": [
    "def get_top_percent(data):\n",
    "    total = data.value_counts()\n",
    "    percent = (data.value_counts() / data.value_counts().sum()*100)\n",
    "    return pd.concat([total, percent], axis=1, keys=['Total', 'Percent']).head(5)"
   ]
  },
  {
   "cell_type": "code",
   "execution_count": 17,
   "metadata": {},
   "outputs": [
    {
     "data": {
      "text/html": [
       "<div>\n",
       "<style scoped>\n",
       "    .dataframe tbody tr th:only-of-type {\n",
       "        vertical-align: middle;\n",
       "    }\n",
       "\n",
       "    .dataframe tbody tr th {\n",
       "        vertical-align: top;\n",
       "    }\n",
       "\n",
       "    .dataframe thead th {\n",
       "        text-align: right;\n",
       "    }\n",
       "</style>\n",
       "<table border=\"1\" class=\"dataframe\">\n",
       "  <thead>\n",
       "    <tr style=\"text-align: right;\">\n",
       "      <th></th>\n",
       "      <th>Total</th>\n",
       "      <th>Percent</th>\n",
       "    </tr>\n",
       "  </thead>\n",
       "  <tbody>\n",
       "    <tr>\n",
       "      <th>0</th>\n",
       "      <td>47927</td>\n",
       "      <td>23.655155</td>\n",
       "    </tr>\n",
       "    <tr>\n",
       "      <th>6</th>\n",
       "      <td>11509</td>\n",
       "      <td>5.680455</td>\n",
       "    </tr>\n",
       "    <tr>\n",
       "      <th>5</th>\n",
       "      <td>11457</td>\n",
       "      <td>5.654790</td>\n",
       "    </tr>\n",
       "    <tr>\n",
       "      <th>4</th>\n",
       "      <td>11405</td>\n",
       "      <td>5.629124</td>\n",
       "    </tr>\n",
       "    <tr>\n",
       "      <th>7</th>\n",
       "      <td>11268</td>\n",
       "      <td>5.561506</td>\n",
       "    </tr>\n",
       "  </tbody>\n",
       "</table>\n",
       "</div>"
      ],
      "text/plain": [
       "   Total    Percent\n",
       "0  47927  23.655155\n",
       "6  11509   5.680455\n",
       "5  11457   5.654790\n",
       "4  11405   5.629124\n",
       "7  11268   5.561506"
      ]
     },
     "execution_count": 17,
     "metadata": {},
     "output_type": "execute_result"
    }
   ],
   "source": [
    "get_top_percent(calls['duration'])"
   ]
  },
  {
   "cell_type": "markdown",
   "metadata": {},
   "source": [
    "Звонки с продолжительностью 0.0 мин составляют почти четверть датасета. Скорее всего это неотвеченые вызовы. Удалять их не стоит. Эти значения будут учитываться в расчетах."
   ]
  },
  {
   "cell_type": "markdown",
   "metadata": {},
   "source": [
    " В остальном ничего аномального."
   ]
  },
  {
   "cell_type": "markdown",
   "metadata": {},
   "source": [
    "### Группировка данных для каждого пользователя по месяцам"
   ]
  },
  {
   "cell_type": "markdown",
   "metadata": {},
   "source": [
    "Добавим в таблицы информацию о месяце. Сгруппируем по 'user_id' и месяцам.\n",
    "Объединим данные по звонкам, сообщениям, интернет траффику по id пользователя"
   ]
  },
  {
   "cell_type": "code",
   "execution_count": 18,
   "metadata": {},
   "outputs": [],
   "source": [
    "internet['month'] = internet['session_date'].dt.month\n",
    "messages['month'] = messages['message_date'].dt.month\n",
    "calls['month'] = calls['call_date'].dt.month\n",
    "#calls"
   ]
  },
  {
   "cell_type": "code",
   "execution_count": 19,
   "metadata": {},
   "outputs": [],
   "source": [
    "internet_month = (\n",
    "    internet.pivot_table(index=['user_id', 'month'], \n",
    "                         values=[\"mb_used\"], \n",
    "                         aggfunc=['sum'])\n",
    ")\n",
    "internet_month.columns = ['month_mb_used']\n",
    "#internet_month\n",
    "internet_month = internet_month.reset_index(level = 'month') # Сброс индекса 'month'"
   ]
  },
  {
   "cell_type": "code",
   "execution_count": 20,
   "metadata": {},
   "outputs": [],
   "source": [
    "\n",
    "messages_month = (\n",
    "    messages.pivot_table(index=['user_id', 'month'], \n",
    "                         values=[\"id\"], \n",
    "                         aggfunc=['count']))\n",
    "messages_month.columns = ['message_used']\n",
    "#messages_month\n",
    "messages_month = messages_month.reset_index(level = 'month') # Сброс индекса 'month'"
   ]
  },
  {
   "cell_type": "code",
   "execution_count": 21,
   "metadata": {},
   "outputs": [],
   "source": [
    "calls_month = (calls\n",
    "               .pivot_table(index=['user_id', 'month'], \n",
    "                            values= ['duration', 'id'], \n",
    "                            aggfunc={'id' : 'count', 'duration' : 'sum'})\n",
    "              )\n",
    "calls_month.columns = ['minut_sum', 'Calls_count']\n",
    "calls_month = calls_month.reset_index(level = 'month') # Сброс индекса 'month'\n",
    "#calls_month.head(3)\n"
   ]
  },
  {
   "cell_type": "markdown",
   "metadata": {},
   "source": [
    "Объединим данные по звонкам, сообщениям, интернет траффику по id пользователя"
   ]
  },
  {
   "cell_type": "code",
   "execution_count": 22,
   "metadata": {},
   "outputs": [],
   "source": [
    "total_month = calls_month.merge(internet_month, on= ['user_id', 'month']) \n",
    "total_month = total_month.merge(messages_month, on= ['user_id', 'month'])\n",
    "total_month = total_month.merge(users, on='user_id') # calls + users"
   ]
  },
  {
   "cell_type": "markdown",
   "metadata": {},
   "source": [
    "Информацию по тарифам соединим по 'tariff_name', предварительно переименовов импортированный столбец 'tariff' из таблицы 'users'"
   ]
  },
  {
   "cell_type": "code",
   "execution_count": 23,
   "metadata": {},
   "outputs": [],
   "source": [
    "total_month.rename(columns={'tariff': 'tariff_name'}, inplace=True)"
   ]
  },
  {
   "cell_type": "code",
   "execution_count": 24,
   "metadata": {},
   "outputs": [],
   "source": [
    "total_month = total_month.merge(tariffs, on= 'tariff_name')"
   ]
  },
  {
   "cell_type": "markdown",
   "metadata": {},
   "source": [
    "Подсчитаем экономическую часть."
   ]
  },
  {
   "cell_type": "code",
   "execution_count": 25,
   "metadata": {},
   "outputs": [],
   "source": [
    "# Минуты разговора\n",
    "total_month['income_calls_over_limit'] = (\n",
    "    np.where(total_month['minut_sum'] - total_month['minutes_included'] > 0, \n",
    "             (total_month['minut_sum'] - total_month['minutes_included']) * total_month['rub_per_minute'], \n",
    "             0)\n",
    ")\n",
    "# сообщения\n",
    "total_month['income_messages_over_limit'] = (\n",
    "    np.where(total_month['message_used'] - total_month['messages_included'] > 0, \n",
    "             (total_month['message_used'] - total_month['messages_included']) * total_month['rub_per_message'], \n",
    "             0)\n",
    ")\n",
    "# интернет - траффик\n",
    "total_month['income_session_over_limit'] = (\n",
    "    np.where(total_month['month_mb_used'] - total_month['mb_per_month_included'] > 0, \n",
    "             (np.ceil((total_month['month_mb_used'] - total_month['mb_per_month_included']) / 1024)) * total_month['rub_per_gb'], \n",
    "             0)\n",
    ")\n",
    "#общий помесячный итог \n",
    "total_month['income_total'] = (\n",
    "    total_month['income_calls_over_limit'] \n",
    "    + total_month['income_messages_over_limit'] \n",
    "    + total_month['income_session_over_limit'] \n",
    "    + total_month['rub_monthly_fee']\n",
    ")"
   ]
  },
  {
   "cell_type": "code",
   "execution_count": 26,
   "metadata": {},
   "outputs": [
    {
     "data": {
      "text/html": [
       "<div>\n",
       "<style scoped>\n",
       "    .dataframe tbody tr th:only-of-type {\n",
       "        vertical-align: middle;\n",
       "    }\n",
       "\n",
       "    .dataframe tbody tr th {\n",
       "        vertical-align: top;\n",
       "    }\n",
       "\n",
       "    .dataframe thead th {\n",
       "        text-align: right;\n",
       "    }\n",
       "</style>\n",
       "<table border=\"1\" class=\"dataframe\">\n",
       "  <thead>\n",
       "    <tr style=\"text-align: right;\">\n",
       "      <th></th>\n",
       "      <th>user_id</th>\n",
       "      <th>month</th>\n",
       "      <th>minut_sum</th>\n",
       "      <th>Calls_count</th>\n",
       "      <th>month_mb_used</th>\n",
       "      <th>message_used</th>\n",
       "      <th>age</th>\n",
       "      <th>churn_date</th>\n",
       "      <th>city</th>\n",
       "      <th>first_name</th>\n",
       "      <th>last_name</th>\n",
       "      <th>reg_date</th>\n",
       "      <th>tariff_name</th>\n",
       "      <th>messages_included</th>\n",
       "      <th>mb_per_month_included</th>\n",
       "      <th>minutes_included</th>\n",
       "      <th>rub_monthly_fee</th>\n",
       "      <th>rub_per_gb</th>\n",
       "      <th>rub_per_message</th>\n",
       "      <th>rub_per_minute</th>\n",
       "      <th>income_calls_over_limit</th>\n",
       "      <th>income_messages_over_limit</th>\n",
       "      <th>income_session_over_limit</th>\n",
       "      <th>income_total</th>\n",
       "    </tr>\n",
       "  </thead>\n",
       "  <tbody>\n",
       "    <tr>\n",
       "      <th>0</th>\n",
       "      <td>1000</td>\n",
       "      <td>5</td>\n",
       "      <td>142</td>\n",
       "      <td>22</td>\n",
       "      <td>2252</td>\n",
       "      <td>22</td>\n",
       "      <td>52</td>\n",
       "      <td>NaT</td>\n",
       "      <td>Краснодар</td>\n",
       "      <td>Рафаил</td>\n",
       "      <td>Верещагин</td>\n",
       "      <td>2018-05-25</td>\n",
       "      <td>ultra</td>\n",
       "      <td>1000</td>\n",
       "      <td>30720</td>\n",
       "      <td>3000</td>\n",
       "      <td>1950</td>\n",
       "      <td>150</td>\n",
       "      <td>1</td>\n",
       "      <td>1</td>\n",
       "      <td>0</td>\n",
       "      <td>0</td>\n",
       "      <td>0.0</td>\n",
       "      <td>1950.0</td>\n",
       "    </tr>\n",
       "    <tr>\n",
       "      <th>1</th>\n",
       "      <td>1000</td>\n",
       "      <td>6</td>\n",
       "      <td>144</td>\n",
       "      <td>43</td>\n",
       "      <td>23213</td>\n",
       "      <td>60</td>\n",
       "      <td>52</td>\n",
       "      <td>NaT</td>\n",
       "      <td>Краснодар</td>\n",
       "      <td>Рафаил</td>\n",
       "      <td>Верещагин</td>\n",
       "      <td>2018-05-25</td>\n",
       "      <td>ultra</td>\n",
       "      <td>1000</td>\n",
       "      <td>30720</td>\n",
       "      <td>3000</td>\n",
       "      <td>1950</td>\n",
       "      <td>150</td>\n",
       "      <td>1</td>\n",
       "      <td>1</td>\n",
       "      <td>0</td>\n",
       "      <td>0</td>\n",
       "      <td>0.0</td>\n",
       "      <td>1950.0</td>\n",
       "    </tr>\n",
       "    <tr>\n",
       "      <th>2</th>\n",
       "      <td>1000</td>\n",
       "      <td>7</td>\n",
       "      <td>299</td>\n",
       "      <td>47</td>\n",
       "      <td>13988</td>\n",
       "      <td>75</td>\n",
       "      <td>52</td>\n",
       "      <td>NaT</td>\n",
       "      <td>Краснодар</td>\n",
       "      <td>Рафаил</td>\n",
       "      <td>Верещагин</td>\n",
       "      <td>2018-05-25</td>\n",
       "      <td>ultra</td>\n",
       "      <td>1000</td>\n",
       "      <td>30720</td>\n",
       "      <td>3000</td>\n",
       "      <td>1950</td>\n",
       "      <td>150</td>\n",
       "      <td>1</td>\n",
       "      <td>1</td>\n",
       "      <td>0</td>\n",
       "      <td>0</td>\n",
       "      <td>0.0</td>\n",
       "      <td>1950.0</td>\n",
       "    </tr>\n",
       "  </tbody>\n",
       "</table>\n",
       "</div>"
      ],
      "text/plain": [
       "   user_id  month  minut_sum  Calls_count  month_mb_used  message_used  age  \\\n",
       "0     1000      5        142           22           2252            22   52   \n",
       "1     1000      6        144           43          23213            60   52   \n",
       "2     1000      7        299           47          13988            75   52   \n",
       "\n",
       "  churn_date       city first_name  last_name   reg_date tariff_name  \\\n",
       "0        NaT  Краснодар     Рафаил  Верещагин 2018-05-25       ultra   \n",
       "1        NaT  Краснодар     Рафаил  Верещагин 2018-05-25       ultra   \n",
       "2        NaT  Краснодар     Рафаил  Верещагин 2018-05-25       ultra   \n",
       "\n",
       "   messages_included  mb_per_month_included  minutes_included  \\\n",
       "0               1000                  30720              3000   \n",
       "1               1000                  30720              3000   \n",
       "2               1000                  30720              3000   \n",
       "\n",
       "   rub_monthly_fee  rub_per_gb  rub_per_message  rub_per_minute  \\\n",
       "0             1950         150                1               1   \n",
       "1             1950         150                1               1   \n",
       "2             1950         150                1               1   \n",
       "\n",
       "   income_calls_over_limit  income_messages_over_limit  \\\n",
       "0                        0                           0   \n",
       "1                        0                           0   \n",
       "2                        0                           0   \n",
       "\n",
       "   income_session_over_limit  income_total  \n",
       "0                        0.0        1950.0  \n",
       "1                        0.0        1950.0  \n",
       "2                        0.0        1950.0  "
      ]
     },
     "execution_count": 26,
     "metadata": {},
     "output_type": "execute_result"
    }
   ],
   "source": [
    "total_month.head(3)"
   ]
  },
  {
   "cell_type": "markdown",
   "metadata": {},
   "source": [
    "## Вывод "
   ]
  },
  {
   "cell_type": "markdown",
   "metadata": {},
   "source": [
    "* Данные были проверены на пропуски и дубликаты. \n",
    "* Пропуски в столбце о завершении использования тарифа обработке не подлежат, так как не мешают дальнейшему анализу. \n",
    "* Дубликаты отсутствуют. \n",
    "* Колонка \"Unnamed: 0\" в internet была удалена, так как дублировала индекс и имела пробел в названии. \n",
    "* Оставлены звонки с продолжительностью 0.0 мин. Они составляют почти четверть (23.7%) датасета. Их удаление привело бы к значительной потере данных.\n",
    "* Тип данных в столбцы 'churn_date', 'reg_date', 'call_date', 'message_date', 'session_date' заменен на datetime64. Столбцы 'duration''mb_used' из таблиц 'calls' и 'internet' округлены до большего целого и приведены в тип 'int'\n",
    "\n",
    "---\n",
    "\n",
    "* В таблицы 'session_date','message_date','call_date' были добавлены номера месяцев, сгруппированы по месяцам, сброшен индекс месяца и объеденины между собой по полям 'user_id' и 'month' и с 'users' по полю 'user_id'  методом merge(). Таблица tariffs добавлена по 'tariff_name' после переименования соответствующего столбца в сборной таблице.\n",
    "* На превышение тарифа по каждому из параметров посчитана и добавлена в таблицу стоимость доплат. \"вычтитен бесплатный лимит из суммарного количества звонков, сообщений и интернет-трафика; остаток умножьтен на значение из тарифного плана\"\n",
    "* В общий помесячный итог к суммам превышения лимитов прибавлена абонентская плату, соответствующая тарифному плану.\n",
    "\n",
    "\n",
    "Таким образом имеется датафрейм для анализа с помесячными данными суммарного количества звонков, сообщений, интернет-трафика и выручки с каждого пользователя, а также все остальной информацией о пользователях и тарифах"
   ]
  },
  {
   "cell_type": "markdown",
   "metadata": {},
   "source": [
    "## 3. Анализ данных"
   ]
  },
  {
   "cell_type": "markdown",
   "metadata": {},
   "source": [
    "**Посчитаем среднее количество, медиану, дисперсию и стандартное отклонение**"
   ]
  },
  {
   "cell_type": "code",
   "execution_count": 27,
   "metadata": {},
   "outputs": [
    {
     "data": {
      "text/html": [
       "<div>\n",
       "<style scoped>\n",
       "    .dataframe tbody tr th:only-of-type {\n",
       "        vertical-align: middle;\n",
       "    }\n",
       "\n",
       "    .dataframe tbody tr th {\n",
       "        vertical-align: top;\n",
       "    }\n",
       "\n",
       "    .dataframe thead tr th {\n",
       "        text-align: left;\n",
       "    }\n",
       "\n",
       "    .dataframe thead tr:last-of-type th {\n",
       "        text-align: right;\n",
       "    }\n",
       "</style>\n",
       "<table border=\"1\" class=\"dataframe\">\n",
       "  <thead>\n",
       "    <tr>\n",
       "      <th></th>\n",
       "      <th colspan=\"3\" halign=\"left\">mean</th>\n",
       "      <th colspan=\"3\" halign=\"left\">median</th>\n",
       "      <th colspan=\"3\" halign=\"left\">var</th>\n",
       "      <th colspan=\"3\" halign=\"left\">std</th>\n",
       "    </tr>\n",
       "    <tr>\n",
       "      <th></th>\n",
       "      <th>message_used</th>\n",
       "      <th>minut_sum</th>\n",
       "      <th>month_mb_used</th>\n",
       "      <th>message_used</th>\n",
       "      <th>minut_sum</th>\n",
       "      <th>month_mb_used</th>\n",
       "      <th>message_used</th>\n",
       "      <th>minut_sum</th>\n",
       "      <th>month_mb_used</th>\n",
       "      <th>message_used</th>\n",
       "      <th>minut_sum</th>\n",
       "      <th>month_mb_used</th>\n",
       "    </tr>\n",
       "    <tr>\n",
       "      <th>tariff_name</th>\n",
       "      <th></th>\n",
       "      <th></th>\n",
       "      <th></th>\n",
       "      <th></th>\n",
       "      <th></th>\n",
       "      <th></th>\n",
       "      <th></th>\n",
       "      <th></th>\n",
       "      <th></th>\n",
       "      <th></th>\n",
       "      <th></th>\n",
       "      <th></th>\n",
       "    </tr>\n",
       "  </thead>\n",
       "  <tbody>\n",
       "    <tr>\n",
       "      <th>smart</th>\n",
       "      <td>38.767102</td>\n",
       "      <td>374.228198</td>\n",
       "      <td>16224.363446</td>\n",
       "      <td>34</td>\n",
       "      <td>380</td>\n",
       "      <td>16441.0</td>\n",
       "      <td>718.803619</td>\n",
       "      <td>28096.018431</td>\n",
       "      <td>3.347878e+07</td>\n",
       "      <td>26.810513</td>\n",
       "      <td>167.618670</td>\n",
       "      <td>5786.085325</td>\n",
       "    </tr>\n",
       "    <tr>\n",
       "      <th>ultra</th>\n",
       "      <td>61.640957</td>\n",
       "      <td>494.740691</td>\n",
       "      <td>19578.083777</td>\n",
       "      <td>53</td>\n",
       "      <td>477</td>\n",
       "      <td>19424.5</td>\n",
       "      <td>2008.550011</td>\n",
       "      <td>77033.372084</td>\n",
       "      <td>9.256154e+07</td>\n",
       "      <td>44.816850</td>\n",
       "      <td>277.548864</td>\n",
       "      <td>9620.890892</td>\n",
       "    </tr>\n",
       "  </tbody>\n",
       "</table>\n",
       "</div>"
      ],
      "text/plain": [
       "                    mean                                 median            \\\n",
       "            message_used   minut_sum month_mb_used message_used minut_sum   \n",
       "tariff_name                                                                 \n",
       "smart          38.767102  374.228198  16224.363446           34       380   \n",
       "ultra          61.640957  494.740691  19578.083777           53       477   \n",
       "\n",
       "                                   var                              \\\n",
       "            month_mb_used message_used     minut_sum month_mb_used   \n",
       "tariff_name                                                          \n",
       "smart             16441.0   718.803619  28096.018431  3.347878e+07   \n",
       "ultra             19424.5  2008.550011  77033.372084  9.256154e+07   \n",
       "\n",
       "                     std                            \n",
       "            message_used   minut_sum month_mb_used  \n",
       "tariff_name                                         \n",
       "smart          26.810513  167.618670   5786.085325  \n",
       "ultra          44.816850  277.548864   9620.890892  "
      ]
     },
     "execution_count": 27,
     "metadata": {},
     "output_type": "execute_result"
    }
   ],
   "source": [
    "total_month.pivot_table(\n",
    "    index=['tariff_name'],\n",
    "    values= ['minut_sum', 'month_mb_used', 'message_used'],\n",
    "    aggfunc=['mean', 'median', 'var', 'std']\n",
    ")"
   ]
  },
  {
   "cell_type": "markdown",
   "metadata": {},
   "source": [
    "Разобъем 'total_month'на два датафрейма по названию тарифа."
   ]
  },
  {
   "cell_type": "code",
   "execution_count": 28,
   "metadata": {},
   "outputs": [],
   "source": [
    "ultra = total_month[total_month['tariff_name'] == 'ultra']\n",
    "smart = total_month[total_month['tariff_name'] == 'smart']"
   ]
  },
  {
   "cell_type": "code",
   "execution_count": 29,
   "metadata": {},
   "outputs": [],
   "source": [
    "def division_ultra_smart(column, title):\n",
    "    gridsize = (3, 1)\n",
    "    fig = plt.figure(figsize=(12, 6))    \n",
    "    ax1 = plt.subplot2grid(gridsize, (0, 0), colspan=1, rowspan=2) \n",
    "    ax2 = plt.subplot2grid(gridsize, (2, 0))\n",
    "    ax1.set_title(title,fontsize=20)   \n",
    "    ax1.hist(ultra[column], bins=50, alpha=0.5, label = 'ultra')\n",
    "    ax1.hist(smart[column], bins=50, alpha=0.5, label = 'smart')\n",
    "    ax2.boxplot([ultra[column], smart[column]], labels = ['ultra', 'smart'], vert=False, widths = 0.5)\n",
    "    ax1.legend(loc = 'upper right', fontsize = 18)\n",
    "    fig.tight_layout()"
   ]
  },
  {
   "cell_type": "markdown",
   "metadata": {},
   "source": [
    "**Строим гистограммы распределения услуг по тарифам**"
   ]
  },
  {
   "cell_type": "code",
   "execution_count": 30,
   "metadata": {},
   "outputs": [
    {
     "data": {
      "image/png": "[encoded data removed]",
      "text/plain": [
       "<Figure size 864x432 with 2 Axes>"
      ]
     },
     "metadata": {
      "needs_background": "light"
     },
     "output_type": "display_data"
    },
    {
     "data": {
      "image/png": "[encoded data removed]",
      "text/plain": [
       "<Figure size 864x432 with 2 Axes>"
      ]
     },
     "metadata": {
      "needs_background": "light"
     },
     "output_type": "display_data"
    },
    {
     "data": {
      "image/png": "[encoded data removed]",
      "text/plain": [
       "<Figure size 864x432 with 2 Axes>"
      ]
     },
     "metadata": {
      "needs_background": "light"
     },
     "output_type": "display_data"
    }
   ],
   "source": [
    "column_title = {\n",
    "    'minut_sum':'Распределение длительности разговоров, Мин.',\n",
    "    'month_mb_used':'Распределение использования интернет- траффика, Mb',\n",
    "    'message_used':'Распределение использования сообщений, Кол-во '\n",
    "}\n",
    "for column, title in column_title.items():\n",
    "    division_ultra_smart(column, title)"
   ]
  },
  {
   "cell_type": "markdown",
   "metadata": {},
   "source": [
    "Пользователи тарифа ultra используют время разговора, интернет траффик и сообщения больше пользователей тарифа \"smart\"."
   ]
  },
  {
   "cell_type": "markdown",
   "metadata": {},
   "source": [
    "## Вывод"
   ]
  },
  {
   "cell_type": "markdown",
   "metadata": {},
   "source": [
    "Пользователи тарифа ultra являются общительными: ~480 мин, против ~380 мин, пользователей тарифа smart , используют больше сообщений: ~55 против ~30 и интернет траффика: ~20 против ~16Gb среднемесячно.\n",
    "\n",
    "Датасеты длительности разговоров и траффика интернета в тарифе smart скошены влево, остальные с положительной скошенностью.\n",
    "Для скошенных вправо данных медианы меньше среднего, а для скошенных влево — больше. "
   ]
  },
  {
   "cell_type": "markdown",
   "metadata": {},
   "source": [
    "## 4. Проверка гипотез"
   ]
  },
  {
   "cell_type": "markdown",
   "metadata": {},
   "source": [
    "Гипотезы являетюся двусторонними. Две группы проверяемых количественных значений, в каждой проверяемой гипотезе являются независимыми. Для проверки будет использоваться T-критерий Стьюдента для средних значений двух независимых выборок. Это двусторонний тест для нулевой гипотезы о том, что 2 независимые выборки имеют одинаковые средние (ожидаемые) значения. Этот тест предполагает, что популяции имеют одинаковые отклонения по умолчанию.Тест измеряет, является ли среднее (ожидаемое) значение существенно отличается в разных выборках. Если мы наблюдаем большое значение p, например больше alpha = 0,05 или 0,1, тогда мы не можем отвергнуть нулевую гипотезу об одинаковых средних баллах. Если значение p меньше порогового значения alpha, тогда мы отвергаем нулевую гипотезу о равных средних значениях."
   ]
  },
  {
   "cell_type": "code",
   "execution_count": 31,
   "metadata": {},
   "outputs": [],
   "source": [
    "# совместное распределение данных с отображением нормального распределения функции плотности вероятности\n",
    "def print_distplot(name, column, binss):\n",
    "    sns.distplot(column, hist=True, fit=st.norm, kde=False, bins = binss, label = name)\n",
    "    \n",
    "    \n",
    "def hist_norm (df_list, binss=15):\n",
    "    fig = plt.figure(figsize=(12, 5))\n",
    "    for name, column in df_list.items():\n",
    "        print_distplot(name, column, binss)\n",
    "    fig.legend(loc = 'upper right', fontsize = 18)\n",
    "    fig.tight_layout()"
   ]
  },
  {
   "cell_type": "code",
   "execution_count": 32,
   "metadata": {},
   "outputs": [],
   "source": [
    "# Т-Критерий Стьюдента\n",
    "def t_criteria_student(frame1, frame2, alpha = .05):\n",
    "    results = st.ttest_ind(frame1, frame2)\n",
    "    print('p-значение:', results.pvalue)\n",
    "# если p-value окажется меньше критический уровеня статистической значимости - отвергнем гипотезу\n",
    "    if (results.pvalue < alpha):    \n",
    "        print(\"Отвергаем нулевую гипотезу\")\n",
    "    else:\n",
    "        print(\"Нет оснований для отвержения нулевой гипотезы.\")"
   ]
  },
  {
   "cell_type": "markdown",
   "metadata": {},
   "source": [
    "### Cредняя выручка пользователей тарифов «Ультра» и «Смарт» различается?"
   ]
  },
  {
   "cell_type": "markdown",
   "metadata": {},
   "source": [
    "Посмотрим на графике совместное распределение тарифов с отображением нормального распределения функции плотности вероятности"
   ]
  },
  {
   "cell_type": "code",
   "execution_count": 33,
   "metadata": {
    "scrolled": false
   },
   "outputs": [
    {
     "name": "stderr",
     "output_type": "stream",
     "text": [
      "c:\\program files (x86)\\microsoft visual studio\\shared\\python37_64\\lib\\site-packages\\seaborn\\distributions.py:2557: FutureWarning: `distplot` is a deprecated function and will be removed in a future version. Please adapt your code to use either `displot` (a figure-level function with similar flexibility) or `histplot` (an axes-level function for histograms).\n",
      "  warnings.warn(msg, FutureWarning)\n",
      "c:\\program files (x86)\\microsoft visual studio\\shared\\python37_64\\lib\\site-packages\\seaborn\\distributions.py:2557: FutureWarning: `distplot` is a deprecated function and will be removed in a future version. Please adapt your code to use either `displot` (a figure-level function with similar flexibility) or `histplot` (an axes-level function for histograms).\n",
      "  warnings.warn(msg, FutureWarning)\n"
     ]
    },
    {
     "data": {
      "image/png": "[encoded data removed]",
      "text/plain": [
       "<Figure size 864x360 with 1 Axes>"
      ]
     },
     "metadata": {
      "needs_background": "light"
     },
     "output_type": "display_data"
    }
   ],
   "source": [
    "hist_list = {\n",
    "    'ultra':ultra['income_total'],\n",
    "    'smart':smart['income_total']\n",
    "}\n",
    "hist_norm (hist_list, binss=15)"
   ]
  },
  {
   "cell_type": "markdown",
   "metadata": {},
   "source": [
    "**Проверим среднюю выручку по тарифам на равенство**"
   ]
  },
  {
   "cell_type": "markdown",
   "metadata": {},
   "source": [
    "Исходя из природы Т критерия - о равенстве сравниваемых групп, формируем нулевую гипотезу H₀:\n",
    "- «Нет. **Рразницы в выручке** тарифов «Ультра» и «Смарт» **нет**», то есть исследуемые параметры равны.\n",
    "\n",
    "Исходя из H₀ формулируется альтернативная гипотеза H₁: \n",
    "- «Да. Cредняя выручка пользователей тарифов «Ультра» и «Смарт» **различается**»"
   ]
  },
  {
   "cell_type": "code",
   "execution_count": 34,
   "metadata": {},
   "outputs": [
    {
     "name": "stdout",
     "output_type": "stream",
     "text": [
      "p-значение: 6.490713759770489e-148\n",
      "Отвергаем нулевую гипотезу\n"
     ]
    }
   ],
   "source": [
    "t_criteria_student(ultra['income_total'], smart['income_total'], alpha = .05)"
   ]
  },
  {
   "cell_type": "markdown",
   "metadata": {},
   "source": [
    "### Вывод по гипотезе\n",
    "Да, средняя выручка пользователей тарифов «Ультра» и «Смарт» различается."
   ]
  },
  {
   "cell_type": "markdown",
   "metadata": {},
   "source": [
    "### Средняя выручка пользователей из Москвы отличается от выручки пользователей из других регионов?"
   ]
  },
  {
   "cell_type": "code",
   "execution_count": 35,
   "metadata": {},
   "outputs": [],
   "source": [
    "Moskow = total_month[total_month['city'] == 'Москва']\n",
    "Russia = total_month[total_month['city'] != 'Москва']"
   ]
  },
  {
   "cell_type": "code",
   "execution_count": 36,
   "metadata": {
    "scrolled": true
   },
   "outputs": [
    {
     "name": "stderr",
     "output_type": "stream",
     "text": [
      "c:\\program files (x86)\\microsoft visual studio\\shared\\python37_64\\lib\\site-packages\\seaborn\\distributions.py:2557: FutureWarning: `distplot` is a deprecated function and will be removed in a future version. Please adapt your code to use either `displot` (a figure-level function with similar flexibility) or `histplot` (an axes-level function for histograms).\n",
      "  warnings.warn(msg, FutureWarning)\n",
      "c:\\program files (x86)\\microsoft visual studio\\shared\\python37_64\\lib\\site-packages\\seaborn\\distributions.py:2557: FutureWarning: `distplot` is a deprecated function and will be removed in a future version. Please adapt your code to use either `displot` (a figure-level function with similar flexibility) or `histplot` (an axes-level function for histograms).\n",
      "  warnings.warn(msg, FutureWarning)\n"
     ]
    },
    {
     "data": {
      "image/png": "[encoded data removed]",
      "text/plain": [
       "<Figure size 864x360 with 1 Axes>"
      ]
     },
     "metadata": {
      "needs_background": "light"
     },
     "output_type": "display_data"
    }
   ],
   "source": [
    "hist_list = {\n",
    "    'Москва':Moskow.loc[:,'income_total'],\n",
    "    'Россия':Russia.loc[:,'income_total']\n",
    "}\n",
    "hist_norm (hist_list, binss = 30)"
   ]
  },
  {
   "cell_type": "markdown",
   "metadata": {},
   "source": [
    "**Сравним среднюю выручку из Москвы и выручку из других регионов**"
   ]
  },
  {
   "cell_type": "markdown",
   "metadata": {},
   "source": [
    "Формируем нулевую гипотезу H₀:\n",
    "- «Нет, Средняя выручка пользователей из Москвы **не отличается** от выручки пользователей из других регионов», то есть исследуемые параметры равны.\n",
    "\n",
    "Исходя из H₀ формулируется альтернативная гипотеза H₁: \n",
    "- «Да. Средняя выручка пользователей из Москвы **отличается** от выручки пользователей из других регионов»"
   ]
  },
  {
   "cell_type": "code",
   "execution_count": 37,
   "metadata": {},
   "outputs": [
    {
     "name": "stdout",
     "output_type": "stream",
     "text": [
      "p-значение: 0.057497690490394465\n",
      "Нет оснований для отвержения нулевой гипотезы.\n"
     ]
    }
   ],
   "source": [
    "t_criteria_student(Moskow['income_total'], Russia['income_total'], alpha = .05)"
   ]
  },
  {
   "cell_type": "markdown",
   "metadata": {},
   "source": [
    "### Вывод по гипотезе\n",
    "Нет, Средняя выручка пользователей из Москвы не отличается от выручки пользователей из других регионов"
   ]
  },
  {
   "cell_type": "markdown",
   "metadata": {},
   "source": [
    "## 5. Вывод"
   ]
  },
  {
   "cell_type": "markdown",
   "metadata": {},
   "source": [
    "Были получены данные в виде пяти файлов .csv. Файлы были прочитаны, обработаны по пропускам, типам данных, возможным ошибкам. Сформировна таблица для каждого пользователя помесячного расхода минут разговора, числа сообщений и расхода интернет траффика. Посчитаны помесячные платежи пользователей, добавлены в таблицу. В датафрейме также  имеется вся личная информация пользователей и информация о тарифах провайдера.\n",
    "\n",
    "Анализ данных показал, что пользователи тарифа «Ультра» намного активнее пользуются предоставляемыми услугами.\n",
    "На основе имеющихся данных имеется возможность сделать экономический анализ.\n",
    "\n",
    "Проверка гипотез проводилась Т - критерием Стьюдента, критический уровеня статистической значимости был принят 0,05.\n",
    "\n",
    "- Гипотеза: **Cредняя выручка пользователей тарифов «Ультра» и «Смарт» различается?**\n",
    "- Ответ: **Да, средняя выручка пользователей тарифов «Ультра» и «Смарт» различается.**\n",
    "\n",
    "\n",
    "- Гипотеза: **Средняя выручка пользователей из Москвы отличается от выручки пользователей из других регионов?**\n",
    "- Ответ: **Нет, Средняя выручка пользователей из Москвы не отличается от выручки пользователей из других регионов**\n",
    "\n"
   ]
  },
  {
   "cell_type": "markdown",
   "metadata": {},
   "source": [
    "### Баг-репорт"
   ]
  },
  {
   "cell_type": "markdown",
   "metadata": {},
   "source": [
    "Колонка \"Unnamed: 0\" в таблице \"internet\" дублирует индекс. В описании датасета о ней нет информации."
   ]
  }
 ],
 "metadata": {
  "kernelspec": {
   "display_name": "Python 3",
   "language": "python",
   "name": "python3"
  },
  "language_info": {
   "codemirror_mode": {
    "name": "ipython",
    "version": 3
   },
   "file_extension": ".py",
   "mimetype": "text/x-python",
   "name": "python",
   "nbconvert_exporter": "python",
   "pygments_lexer": "ipython3",
   "version": "3.7.5"
  }
 },
 "nbformat": 4,
 "nbformat_minor": 2
}
