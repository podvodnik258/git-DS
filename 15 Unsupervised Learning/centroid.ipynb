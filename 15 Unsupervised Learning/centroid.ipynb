{
 "cells": [
  {
   "cell_type": "code",
   "execution_count": null,
   "metadata": {},
   "outputs": [],
   "source": [
    "import pandas as pd\n",
    "import numpy as np\n",
    "from sklearn.cluster import KMeans\n",
    "import seaborn as sns\n",
    "import warnings\n",
    "warnings.filterwarnings(\"ignore\", category=RuntimeWarning)\n"
   ]
  },
  {
   "cell_type": "code",
   "execution_count": null,
   "metadata": {},
   "outputs": [],
   "source": [
    "\n",
    "data = pd.read_csv('/datasets/segments.csv')\n",
    "centers = np.array([[20, 80, 8], [50, 20, 5], [20, 30, 10]])\n",
    "data.to_csv()\n",
    "model = KMeans(n_clusters=3, init=centers, random_state=12345)\n",
    "model.fit(data)\n",
    "centroids = pd.DataFrame(model.cluster_centers_, columns=data.columns)\n",
    "\n"
   ]
  },
  {
   "cell_type": "code",
   "execution_count": null,
   "metadata": {},
   "outputs": [],
   "source": [
    "centroids_init = pd.DataFrame(centers, columns=data.columns)\n",
    "data['label'] = model.labels_.astype(str)\n",
    "centroids['label'] = ['0 centroid', '1 centroid', '2 centroid']\n",
    "# Сброс индекса нужен для составления pairgrid.data\n",
    "data_all = pd.concat([data, centroids], ignore_index=True)\n"
   ]
  },
  {
   "cell_type": "code",
   "execution_count": null,
   "metadata": {},
   "outputs": [],
   "source": [
    "\n",
    "pairgrid = sns.pairplot(data_all, hue='label', diag_kind='hist')\n",
    "# Дополнительный слой для центроидов\n",
    "pairgrid.data = centroids_init\n",
    "pairgrid.map_offdiag(func=sns.scatterplot, s=200, marker='*', color='red')\n"
   ]
  }
 ],
 "metadata": {
  "kernelspec": {
   "display_name": "Python 3",
   "language": "python",
   "name": "python3"
  },
  "language_info": {
   "codemirror_mode": {
    "name": "ipython",
    "version": 3
   },
   "file_extension": ".py",
   "mimetype": "text/x-python",
   "name": "python",
   "nbconvert_exporter": "python",
   "pygments_lexer": "ipython3",
   "version": "3.7.5"
  }
 },
 "nbformat": 4,
 "nbformat_minor": 4
}
