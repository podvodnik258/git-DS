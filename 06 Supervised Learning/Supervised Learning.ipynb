{
 "cells": [
  {
   "cell_type": "markdown",
   "metadata": {},
   "source": [
    "# План работы\n",
    "- 1 Предварительная обработка\n",
    "- 2 Предварительный анализ. Изучение данных.\n",
    "- 3 Подготовка данных\n",
    "- 4 Исследование задачи\n",
    "- 5 Борьба с дисбалансом\n",
    "\n",
    "> - Взвешивание классов\n",
    "> - upsampling \n",
    "> - downsampling\n",
    "\n",
    "- 6 Тестирование модели\n",
    "\n",
    "- Вывод"
   ]
  },
  {
   "cell_type": "code",
   "execution_count": 1,
   "metadata": {},
   "outputs": [],
   "source": [
    "import numpy as np\n",
    "import pandas as pd\n",
    "import seaborn as sns\n",
    "import matplotlib.pyplot as plt\n",
    "import random\n",
    "import itertools\n",
    "\n",
    "from timeit import default_timer as timer\n",
    "from sklearn.tree import DecisionTreeClassifier\n",
    "from sklearn.utils import shuffle\n",
    "from sklearn.ensemble import RandomForestClassifier\n",
    "from sklearn.linear_model import LogisticRegression\n",
    "from sklearn.preprocessing import StandardScaler\n",
    "from sklearn.metrics import (accuracy_score, \n",
    "                             confusion_matrix, \n",
    "                             f1_score, \n",
    "                             roc_curve, \n",
    "                             precision_score, \n",
    "                             recall_score, \n",
    "                             auc)\n",
    "from sklearn.model_selection import (train_test_split,  \n",
    "                                     cross_val_score)\n",
    "\n"
   ]
  },
  {
   "cell_type": "markdown",
   "metadata": {},
   "source": [
    "# 1. Предварительная обработка"
   ]
  },
  {
   "cell_type": "code",
   "execution_count": 2,
   "metadata": {},
   "outputs": [],
   "source": [
    "# возвращает топ с процентами\n",
    "def get_top_percent(data):\n",
    "    total = data.value_counts()\n",
    "    percent = (data.value_counts() / data.value_counts().sum()*100)\n",
    "    return pd.concat([total, percent], axis=1, keys=['Total', 'Percent']).head(5)"
   ]
  },
  {
   "cell_type": "code",
   "execution_count": 3,
   "metadata": {
    "scrolled": false
   },
   "outputs": [
    {
     "data": {
      "text/html": [
       "<div>\n",
       "<style scoped>\n",
       "    .dataframe tbody tr th:only-of-type {\n",
       "        vertical-align: middle;\n",
       "    }\n",
       "\n",
       "    .dataframe tbody tr th {\n",
       "        vertical-align: top;\n",
       "    }\n",
       "\n",
       "    .dataframe thead th {\n",
       "        text-align: right;\n",
       "    }\n",
       "</style>\n",
       "<table border=\"1\" class=\"dataframe\">\n",
       "  <thead>\n",
       "    <tr style=\"text-align: right;\">\n",
       "      <th></th>\n",
       "      <th>RowNumber</th>\n",
       "      <th>CustomerId</th>\n",
       "      <th>Surname</th>\n",
       "      <th>CreditScore</th>\n",
       "      <th>Geography</th>\n",
       "      <th>Gender</th>\n",
       "      <th>Age</th>\n",
       "      <th>Tenure</th>\n",
       "      <th>Balance</th>\n",
       "      <th>NumOfProducts</th>\n",
       "      <th>HasCrCard</th>\n",
       "      <th>IsActiveMember</th>\n",
       "      <th>EstimatedSalary</th>\n",
       "      <th>Exited</th>\n",
       "    </tr>\n",
       "  </thead>\n",
       "  <tbody>\n",
       "    <tr>\n",
       "      <th>0</th>\n",
       "      <td>1</td>\n",
       "      <td>15634602</td>\n",
       "      <td>Hargrave</td>\n",
       "      <td>619</td>\n",
       "      <td>France</td>\n",
       "      <td>Female</td>\n",
       "      <td>42</td>\n",
       "      <td>2.0</td>\n",
       "      <td>0.00</td>\n",
       "      <td>1</td>\n",
       "      <td>1</td>\n",
       "      <td>1</td>\n",
       "      <td>101348.88</td>\n",
       "      <td>1</td>\n",
       "    </tr>\n",
       "    <tr>\n",
       "      <th>1</th>\n",
       "      <td>2</td>\n",
       "      <td>15647311</td>\n",
       "      <td>Hill</td>\n",
       "      <td>608</td>\n",
       "      <td>Spain</td>\n",
       "      <td>Female</td>\n",
       "      <td>41</td>\n",
       "      <td>1.0</td>\n",
       "      <td>83807.86</td>\n",
       "      <td>1</td>\n",
       "      <td>0</td>\n",
       "      <td>1</td>\n",
       "      <td>112542.58</td>\n",
       "      <td>0</td>\n",
       "    </tr>\n",
       "    <tr>\n",
       "      <th>2</th>\n",
       "      <td>3</td>\n",
       "      <td>15619304</td>\n",
       "      <td>Onio</td>\n",
       "      <td>502</td>\n",
       "      <td>France</td>\n",
       "      <td>Female</td>\n",
       "      <td>42</td>\n",
       "      <td>8.0</td>\n",
       "      <td>159660.80</td>\n",
       "      <td>3</td>\n",
       "      <td>1</td>\n",
       "      <td>0</td>\n",
       "      <td>113931.57</td>\n",
       "      <td>1</td>\n",
       "    </tr>\n",
       "  </tbody>\n",
       "</table>\n",
       "</div>"
      ],
      "text/plain": [
       "   RowNumber  CustomerId   Surname  CreditScore Geography  Gender  Age  \\\n",
       "0          1    15634602  Hargrave          619    France  Female   42   \n",
       "1          2    15647311      Hill          608     Spain  Female   41   \n",
       "2          3    15619304      Onio          502    France  Female   42   \n",
       "\n",
       "   Tenure    Balance  NumOfProducts  HasCrCard  IsActiveMember  \\\n",
       "0     2.0       0.00              1          1               1   \n",
       "1     1.0   83807.86              1          0               1   \n",
       "2     8.0  159660.80              3          1               0   \n",
       "\n",
       "   EstimatedSalary  Exited  \n",
       "0        101348.88       1  \n",
       "1        112542.58       0  \n",
       "2        113931.57       1  "
      ]
     },
     "metadata": {},
     "output_type": "display_data"
    },
    {
     "name": "stdout",
     "output_type": "stream",
     "text": [
      "<class 'pandas.core.frame.DataFrame'>\n",
      "RangeIndex: 10000 entries, 0 to 9999\n",
      "Data columns (total 14 columns):\n",
      " #   Column           Non-Null Count  Dtype  \n",
      "---  ------           --------------  -----  \n",
      " 0   RowNumber        10000 non-null  int64  \n",
      " 1   CustomerId       10000 non-null  int64  \n",
      " 2   Surname          10000 non-null  object \n",
      " 3   CreditScore      10000 non-null  int64  \n",
      " 4   Geography        10000 non-null  object \n",
      " 5   Gender           10000 non-null  object \n",
      " 6   Age              10000 non-null  int64  \n",
      " 7   Tenure           9091 non-null   float64\n",
      " 8   Balance          10000 non-null  float64\n",
      " 9   NumOfProducts    10000 non-null  int64  \n",
      " 10  HasCrCard        10000 non-null  int64  \n",
      " 11  IsActiveMember   10000 non-null  int64  \n",
      " 12  EstimatedSalary  10000 non-null  float64\n",
      " 13  Exited           10000 non-null  int64  \n",
      "dtypes: float64(3), int64(8), object(3)\n",
      "memory usage: 1.1+ MB\n"
     ]
    },
    {
     "data": {
      "text/html": [
       "<div>\n",
       "<style scoped>\n",
       "    .dataframe tbody tr th:only-of-type {\n",
       "        vertical-align: middle;\n",
       "    }\n",
       "\n",
       "    .dataframe tbody tr th {\n",
       "        vertical-align: top;\n",
       "    }\n",
       "\n",
       "    .dataframe thead th {\n",
       "        text-align: right;\n",
       "    }\n",
       "</style>\n",
       "<table border=\"1\" class=\"dataframe\">\n",
       "  <thead>\n",
       "    <tr style=\"text-align: right;\">\n",
       "      <th></th>\n",
       "      <th>RowNumber</th>\n",
       "      <th>CustomerId</th>\n",
       "      <th>CreditScore</th>\n",
       "      <th>Age</th>\n",
       "      <th>Tenure</th>\n",
       "      <th>Balance</th>\n",
       "      <th>NumOfProducts</th>\n",
       "      <th>HasCrCard</th>\n",
       "      <th>IsActiveMember</th>\n",
       "      <th>EstimatedSalary</th>\n",
       "      <th>Exited</th>\n",
       "    </tr>\n",
       "  </thead>\n",
       "  <tbody>\n",
       "    <tr>\n",
       "      <th>count</th>\n",
       "      <td>10000.00000</td>\n",
       "      <td>1.000000e+04</td>\n",
       "      <td>10000.000000</td>\n",
       "      <td>10000.000000</td>\n",
       "      <td>9091.000000</td>\n",
       "      <td>10000.000000</td>\n",
       "      <td>10000.000000</td>\n",
       "      <td>10000.00000</td>\n",
       "      <td>10000.000000</td>\n",
       "      <td>10000.000000</td>\n",
       "      <td>10000.000000</td>\n",
       "    </tr>\n",
       "    <tr>\n",
       "      <th>mean</th>\n",
       "      <td>5000.50000</td>\n",
       "      <td>1.569094e+07</td>\n",
       "      <td>650.528800</td>\n",
       "      <td>38.921800</td>\n",
       "      <td>4.997690</td>\n",
       "      <td>76485.889288</td>\n",
       "      <td>1.530200</td>\n",
       "      <td>0.70550</td>\n",
       "      <td>0.515100</td>\n",
       "      <td>100090.239881</td>\n",
       "      <td>0.203700</td>\n",
       "    </tr>\n",
       "    <tr>\n",
       "      <th>std</th>\n",
       "      <td>2886.89568</td>\n",
       "      <td>7.193619e+04</td>\n",
       "      <td>96.653299</td>\n",
       "      <td>10.487806</td>\n",
       "      <td>2.894723</td>\n",
       "      <td>62397.405202</td>\n",
       "      <td>0.581654</td>\n",
       "      <td>0.45584</td>\n",
       "      <td>0.499797</td>\n",
       "      <td>57510.492818</td>\n",
       "      <td>0.402769</td>\n",
       "    </tr>\n",
       "    <tr>\n",
       "      <th>min</th>\n",
       "      <td>1.00000</td>\n",
       "      <td>1.556570e+07</td>\n",
       "      <td>350.000000</td>\n",
       "      <td>18.000000</td>\n",
       "      <td>0.000000</td>\n",
       "      <td>0.000000</td>\n",
       "      <td>1.000000</td>\n",
       "      <td>0.00000</td>\n",
       "      <td>0.000000</td>\n",
       "      <td>11.580000</td>\n",
       "      <td>0.000000</td>\n",
       "    </tr>\n",
       "    <tr>\n",
       "      <th>25%</th>\n",
       "      <td>2500.75000</td>\n",
       "      <td>1.562853e+07</td>\n",
       "      <td>584.000000</td>\n",
       "      <td>32.000000</td>\n",
       "      <td>2.000000</td>\n",
       "      <td>0.000000</td>\n",
       "      <td>1.000000</td>\n",
       "      <td>0.00000</td>\n",
       "      <td>0.000000</td>\n",
       "      <td>51002.110000</td>\n",
       "      <td>0.000000</td>\n",
       "    </tr>\n",
       "    <tr>\n",
       "      <th>50%</th>\n",
       "      <td>5000.50000</td>\n",
       "      <td>1.569074e+07</td>\n",
       "      <td>652.000000</td>\n",
       "      <td>37.000000</td>\n",
       "      <td>5.000000</td>\n",
       "      <td>97198.540000</td>\n",
       "      <td>1.000000</td>\n",
       "      <td>1.00000</td>\n",
       "      <td>1.000000</td>\n",
       "      <td>100193.915000</td>\n",
       "      <td>0.000000</td>\n",
       "    </tr>\n",
       "    <tr>\n",
       "      <th>75%</th>\n",
       "      <td>7500.25000</td>\n",
       "      <td>1.575323e+07</td>\n",
       "      <td>718.000000</td>\n",
       "      <td>44.000000</td>\n",
       "      <td>7.000000</td>\n",
       "      <td>127644.240000</td>\n",
       "      <td>2.000000</td>\n",
       "      <td>1.00000</td>\n",
       "      <td>1.000000</td>\n",
       "      <td>149388.247500</td>\n",
       "      <td>0.000000</td>\n",
       "    </tr>\n",
       "    <tr>\n",
       "      <th>max</th>\n",
       "      <td>10000.00000</td>\n",
       "      <td>1.581569e+07</td>\n",
       "      <td>850.000000</td>\n",
       "      <td>92.000000</td>\n",
       "      <td>10.000000</td>\n",
       "      <td>250898.090000</td>\n",
       "      <td>4.000000</td>\n",
       "      <td>1.00000</td>\n",
       "      <td>1.000000</td>\n",
       "      <td>199992.480000</td>\n",
       "      <td>1.000000</td>\n",
       "    </tr>\n",
       "  </tbody>\n",
       "</table>\n",
       "</div>"
      ],
      "text/plain": [
       "         RowNumber    CustomerId   CreditScore           Age       Tenure  \\\n",
       "count  10000.00000  1.000000e+04  10000.000000  10000.000000  9091.000000   \n",
       "mean    5000.50000  1.569094e+07    650.528800     38.921800     4.997690   \n",
       "std     2886.89568  7.193619e+04     96.653299     10.487806     2.894723   \n",
       "min        1.00000  1.556570e+07    350.000000     18.000000     0.000000   \n",
       "25%     2500.75000  1.562853e+07    584.000000     32.000000     2.000000   \n",
       "50%     5000.50000  1.569074e+07    652.000000     37.000000     5.000000   \n",
       "75%     7500.25000  1.575323e+07    718.000000     44.000000     7.000000   \n",
       "max    10000.00000  1.581569e+07    850.000000     92.000000    10.000000   \n",
       "\n",
       "             Balance  NumOfProducts    HasCrCard  IsActiveMember  \\\n",
       "count   10000.000000   10000.000000  10000.00000    10000.000000   \n",
       "mean    76485.889288       1.530200      0.70550        0.515100   \n",
       "std     62397.405202       0.581654      0.45584        0.499797   \n",
       "min         0.000000       1.000000      0.00000        0.000000   \n",
       "25%         0.000000       1.000000      0.00000        0.000000   \n",
       "50%     97198.540000       1.000000      1.00000        1.000000   \n",
       "75%    127644.240000       2.000000      1.00000        1.000000   \n",
       "max    250898.090000       4.000000      1.00000        1.000000   \n",
       "\n",
       "       EstimatedSalary        Exited  \n",
       "count     10000.000000  10000.000000  \n",
       "mean     100090.239881      0.203700  \n",
       "std       57510.492818      0.402769  \n",
       "min          11.580000      0.000000  \n",
       "25%       51002.110000      0.000000  \n",
       "50%      100193.915000      0.000000  \n",
       "75%      149388.247500      0.000000  \n",
       "max      199992.480000      1.000000  "
      ]
     },
     "execution_count": 3,
     "metadata": {},
     "output_type": "execute_result"
    }
   ],
   "source": [
    "data = pd.read_csv('Churn.csv')\n",
    "display(data.head(3))\n",
    "data.info()\n",
    "data.describe()"
   ]
  },
  {
   "cell_type": "markdown",
   "metadata": {},
   "source": [
    "**Имеем следующие данные:**\n",
    "\n",
    "---\n",
    "- RowNumber — индекс строки в данных\n",
    "- CustomerId — уникальный идентификатор клиента\n",
    "- Surname — фамилия\n",
    "- CreditScore — кредитный рейтинг\n",
    "- Geography — страна проживания\n",
    "- Gender — пол\n",
    "- Age — возраст\n",
    "- Tenure — количество недвижимости у клиента\n",
    "- Balance — баланс на счёте\n",
    "- NumOfProducts — количество продуктов банка, используемых клиентом\n",
    "- HasCrCard — наличие кредитной карты\n",
    "- IsActiveMember — активность клиента\n",
    "- EstimatedSalary — предполагаемая зарплата\n",
    "- Целевой признак\n",
    "- Exited — факт ухода клиента"
   ]
  },
  {
   "cell_type": "code",
   "execution_count": 4,
   "metadata": {},
   "outputs": [
    {
     "data": {
      "text/plain": [
       "RowNumber            0\n",
       "CustomerId           0\n",
       "Surname              0\n",
       "CreditScore          0\n",
       "Geography            0\n",
       "Gender               0\n",
       "Age                  0\n",
       "Tenure             909\n",
       "Balance              0\n",
       "NumOfProducts        0\n",
       "HasCrCard            0\n",
       "IsActiveMember       0\n",
       "EstimatedSalary      0\n",
       "Exited               0\n",
       "dtype: int64"
      ]
     },
     "execution_count": 4,
     "metadata": {},
     "output_type": "execute_result"
    }
   ],
   "source": [
    "# Смотрим пропуски\n",
    "data.isnull().sum()"
   ]
  },
  {
   "cell_type": "code",
   "execution_count": 5,
   "metadata": {},
   "outputs": [
    {
     "data": {
      "text/plain": [
       "0"
      ]
     },
     "execution_count": 5,
     "metadata": {},
     "output_type": "execute_result"
    }
   ],
   "source": [
    "# Проверка дубликатов\n",
    "data.duplicated().sum()"
   ]
  },
  {
   "cell_type": "markdown",
   "metadata": {},
   "source": [
    "**Удаляем столбцы, которые далее не пригодятся для обучения модели прогнозирования.**"
   ]
  },
  {
   "cell_type": "code",
   "execution_count": 6,
   "metadata": {},
   "outputs": [],
   "source": [
    "data = data.drop(['RowNumber', 'CustomerId', 'Surname'], axis = 1)"
   ]
  },
  {
   "cell_type": "code",
   "execution_count": 7,
   "metadata": {},
   "outputs": [
    {
     "data": {
      "text/plain": [
       "(10000, 11)"
      ]
     },
     "metadata": {},
     "output_type": "display_data"
    }
   ],
   "source": [
    "display(data.shape)"
   ]
  },
  {
   "cell_type": "markdown",
   "metadata": {},
   "source": [
    "### Обработка пропусков\n",
    "\n",
    "Столбец 'Tenure' имеет пропуски. заменим их равновероятно значениями из этого столбца - числами от 0 до 10, чтобы небыло отклонений, как если бы мы заполнили пропуски какимто одним числом все пропуски."
   ]
  },
  {
   "cell_type": "code",
   "execution_count": 8,
   "metadata": {},
   "outputs": [],
   "source": [
    "np.random.seed(42) \n",
    "data['Tenure'] = data['Tenure'].apply(lambda x: np.random.randint(max(data['Tenure'])+1) if (np.isnan(x)) else x)"
   ]
  },
  {
   "cell_type": "code",
   "execution_count": 9,
   "metadata": {},
   "outputs": [
    {
     "data": {
      "text/plain": [
       "2.0     1044\n",
       "1.0     1023\n",
       "8.0     1014\n",
       "5.0     1004\n",
       "7.0     1004\n",
       "3.0     1003\n",
       "4.0      976\n",
       "9.0      975\n",
       "6.0      965\n",
       "10.0     509\n",
       "0.0      483\n",
       "Name: Tenure, dtype: int64"
      ]
     },
     "execution_count": 9,
     "metadata": {},
     "output_type": "execute_result"
    }
   ],
   "source": [
    "data['Tenure'].value_counts()"
   ]
  },
  {
   "cell_type": "markdown",
   "metadata": {},
   "source": [
    "### Замена типов данных\n",
    "\n",
    "В колонке 'Tenure' следует заменить тип данных на int64 для увеличения скорости обработки."
   ]
  },
  {
   "cell_type": "code",
   "execution_count": 10,
   "metadata": {},
   "outputs": [
    {
     "data": {
      "text/plain": [
       "dtype('int32')"
      ]
     },
     "execution_count": 10,
     "metadata": {},
     "output_type": "execute_result"
    }
   ],
   "source": [
    "data['Tenure'].astype('int').dtypes"
   ]
  },
  {
   "cell_type": "markdown",
   "metadata": {},
   "source": [
    "# 2. Предварительный анализ. Изучение данных."
   ]
  },
  {
   "cell_type": "markdown",
   "metadata": {},
   "source": [
    "Смотрим процент оттока клиентов."
   ]
  },
  {
   "cell_type": "code",
   "execution_count": 11,
   "metadata": {},
   "outputs": [
    {
     "data": {
      "text/html": [
       "<div>\n",
       "<style scoped>\n",
       "    .dataframe tbody tr th:only-of-type {\n",
       "        vertical-align: middle;\n",
       "    }\n",
       "\n",
       "    .dataframe tbody tr th {\n",
       "        vertical-align: top;\n",
       "    }\n",
       "\n",
       "    .dataframe thead th {\n",
       "        text-align: right;\n",
       "    }\n",
       "</style>\n",
       "<table border=\"1\" class=\"dataframe\">\n",
       "  <thead>\n",
       "    <tr style=\"text-align: right;\">\n",
       "      <th></th>\n",
       "      <th>Total</th>\n",
       "      <th>Percent</th>\n",
       "    </tr>\n",
       "  </thead>\n",
       "  <tbody>\n",
       "    <tr>\n",
       "      <th>0</th>\n",
       "      <td>7963</td>\n",
       "      <td>79.63</td>\n",
       "    </tr>\n",
       "    <tr>\n",
       "      <th>1</th>\n",
       "      <td>2037</td>\n",
       "      <td>20.37</td>\n",
       "    </tr>\n",
       "  </tbody>\n",
       "</table>\n",
       "</div>"
      ],
      "text/plain": [
       "   Total  Percent\n",
       "0   7963    79.63\n",
       "1   2037    20.37"
      ]
     },
     "execution_count": 11,
     "metadata": {},
     "output_type": "execute_result"
    }
   ],
   "source": [
    "# 1 - ушедшие клиенты\n",
    "get_top_percent(data['Exited'])"
   ]
  },
  {
   "cell_type": "code",
   "execution_count": 12,
   "metadata": {},
   "outputs": [
    {
     "data": {
      "text/html": [
       "<div>\n",
       "<style scoped>\n",
       "    .dataframe tbody tr th:only-of-type {\n",
       "        vertical-align: middle;\n",
       "    }\n",
       "\n",
       "    .dataframe tbody tr th {\n",
       "        vertical-align: top;\n",
       "    }\n",
       "\n",
       "    .dataframe thead th {\n",
       "        text-align: right;\n",
       "    }\n",
       "</style>\n",
       "<table border=\"1\" class=\"dataframe\">\n",
       "  <thead>\n",
       "    <tr style=\"text-align: right;\">\n",
       "      <th></th>\n",
       "      <th>CreditScore</th>\n",
       "      <th>Age</th>\n",
       "      <th>Tenure</th>\n",
       "      <th>Balance</th>\n",
       "      <th>NumOfProducts</th>\n",
       "      <th>HasCrCard</th>\n",
       "      <th>IsActiveMember</th>\n",
       "      <th>EstimatedSalary</th>\n",
       "      <th>Exited</th>\n",
       "    </tr>\n",
       "  </thead>\n",
       "  <tbody>\n",
       "    <tr>\n",
       "      <th>CreditScore</th>\n",
       "      <td>1.000000</td>\n",
       "      <td>-0.003965</td>\n",
       "      <td>0.004784</td>\n",
       "      <td>0.006268</td>\n",
       "      <td>0.012238</td>\n",
       "      <td>-0.005458</td>\n",
       "      <td>0.025651</td>\n",
       "      <td>-0.001384</td>\n",
       "      <td>-0.027094</td>\n",
       "    </tr>\n",
       "    <tr>\n",
       "      <th>Age</th>\n",
       "      <td>-0.003965</td>\n",
       "      <td>1.000000</td>\n",
       "      <td>-0.006543</td>\n",
       "      <td>0.028308</td>\n",
       "      <td>-0.030680</td>\n",
       "      <td>-0.011721</td>\n",
       "      <td>0.085472</td>\n",
       "      <td>-0.007201</td>\n",
       "      <td>0.285323</td>\n",
       "    </tr>\n",
       "    <tr>\n",
       "      <th>Tenure</th>\n",
       "      <td>0.004784</td>\n",
       "      <td>-0.006543</td>\n",
       "      <td>1.000000</td>\n",
       "      <td>-0.003937</td>\n",
       "      <td>0.009737</td>\n",
       "      <td>0.026341</td>\n",
       "      <td>-0.028375</td>\n",
       "      <td>0.011661</td>\n",
       "      <td>-0.012858</td>\n",
       "    </tr>\n",
       "    <tr>\n",
       "      <th>Balance</th>\n",
       "      <td>0.006268</td>\n",
       "      <td>0.028308</td>\n",
       "      <td>-0.003937</td>\n",
       "      <td>1.000000</td>\n",
       "      <td>-0.304180</td>\n",
       "      <td>-0.014858</td>\n",
       "      <td>-0.010084</td>\n",
       "      <td>0.012797</td>\n",
       "      <td>0.118533</td>\n",
       "    </tr>\n",
       "    <tr>\n",
       "      <th>NumOfProducts</th>\n",
       "      <td>0.012238</td>\n",
       "      <td>-0.030680</td>\n",
       "      <td>0.009737</td>\n",
       "      <td>-0.304180</td>\n",
       "      <td>1.000000</td>\n",
       "      <td>0.003183</td>\n",
       "      <td>0.009612</td>\n",
       "      <td>0.014204</td>\n",
       "      <td>-0.047820</td>\n",
       "    </tr>\n",
       "    <tr>\n",
       "      <th>HasCrCard</th>\n",
       "      <td>-0.005458</td>\n",
       "      <td>-0.011721</td>\n",
       "      <td>0.026341</td>\n",
       "      <td>-0.014858</td>\n",
       "      <td>0.003183</td>\n",
       "      <td>1.000000</td>\n",
       "      <td>-0.011866</td>\n",
       "      <td>-0.009933</td>\n",
       "      <td>-0.007138</td>\n",
       "    </tr>\n",
       "    <tr>\n",
       "      <th>IsActiveMember</th>\n",
       "      <td>0.025651</td>\n",
       "      <td>0.085472</td>\n",
       "      <td>-0.028375</td>\n",
       "      <td>-0.010084</td>\n",
       "      <td>0.009612</td>\n",
       "      <td>-0.011866</td>\n",
       "      <td>1.000000</td>\n",
       "      <td>-0.011421</td>\n",
       "      <td>-0.156128</td>\n",
       "    </tr>\n",
       "    <tr>\n",
       "      <th>EstimatedSalary</th>\n",
       "      <td>-0.001384</td>\n",
       "      <td>-0.007201</td>\n",
       "      <td>0.011661</td>\n",
       "      <td>0.012797</td>\n",
       "      <td>0.014204</td>\n",
       "      <td>-0.009933</td>\n",
       "      <td>-0.011421</td>\n",
       "      <td>1.000000</td>\n",
       "      <td>0.012097</td>\n",
       "    </tr>\n",
       "    <tr>\n",
       "      <th>Exited</th>\n",
       "      <td>-0.027094</td>\n",
       "      <td>0.285323</td>\n",
       "      <td>-0.012858</td>\n",
       "      <td>0.118533</td>\n",
       "      <td>-0.047820</td>\n",
       "      <td>-0.007138</td>\n",
       "      <td>-0.156128</td>\n",
       "      <td>0.012097</td>\n",
       "      <td>1.000000</td>\n",
       "    </tr>\n",
       "  </tbody>\n",
       "</table>\n",
       "</div>"
      ],
      "text/plain": [
       "                 CreditScore       Age    Tenure   Balance  NumOfProducts  \\\n",
       "CreditScore         1.000000 -0.003965  0.004784  0.006268       0.012238   \n",
       "Age                -0.003965  1.000000 -0.006543  0.028308      -0.030680   \n",
       "Tenure              0.004784 -0.006543  1.000000 -0.003937       0.009737   \n",
       "Balance             0.006268  0.028308 -0.003937  1.000000      -0.304180   \n",
       "NumOfProducts       0.012238 -0.030680  0.009737 -0.304180       1.000000   \n",
       "HasCrCard          -0.005458 -0.011721  0.026341 -0.014858       0.003183   \n",
       "IsActiveMember      0.025651  0.085472 -0.028375 -0.010084       0.009612   \n",
       "EstimatedSalary    -0.001384 -0.007201  0.011661  0.012797       0.014204   \n",
       "Exited             -0.027094  0.285323 -0.012858  0.118533      -0.047820   \n",
       "\n",
       "                 HasCrCard  IsActiveMember  EstimatedSalary    Exited  \n",
       "CreditScore      -0.005458        0.025651        -0.001384 -0.027094  \n",
       "Age              -0.011721        0.085472        -0.007201  0.285323  \n",
       "Tenure            0.026341       -0.028375         0.011661 -0.012858  \n",
       "Balance          -0.014858       -0.010084         0.012797  0.118533  \n",
       "NumOfProducts     0.003183        0.009612         0.014204 -0.047820  \n",
       "HasCrCard         1.000000       -0.011866        -0.009933 -0.007138  \n",
       "IsActiveMember   -0.011866        1.000000        -0.011421 -0.156128  \n",
       "EstimatedSalary  -0.009933       -0.011421         1.000000  0.012097  \n",
       "Exited           -0.007138       -0.156128         0.012097  1.000000  "
      ]
     },
     "execution_count": 12,
     "metadata": {},
     "output_type": "execute_result"
    }
   ],
   "source": [
    "# Посмотрим корреляцию\n",
    "data.corr()"
   ]
  },
  {
   "cell_type": "markdown",
   "metadata": {},
   "source": [
    "### Исследуем категориальные признаки"
   ]
  },
  {
   "cell_type": "code",
   "execution_count": 13,
   "metadata": {},
   "outputs": [],
   "source": [
    "categories = ['Geography', 'Gender', 'HasCrCard', 'IsActiveMember', 'NumOfProducts', 'Tenure']\n",
    "numbers = ['CreditScore', 'Age', 'Balance', 'EstimatedSalary']"
   ]
  },
  {
   "cell_type": "code",
   "execution_count": 14,
   "metadata": {},
   "outputs": [
    {
     "data": {
      "text/plain": [
       "Geography          3\n",
       "Gender             2\n",
       "HasCrCard          2\n",
       "IsActiveMember     2\n",
       "NumOfProducts      4\n",
       "Tenure            11\n",
       "dtype: int64"
      ]
     },
     "execution_count": 14,
     "metadata": {},
     "output_type": "execute_result"
    }
   ],
   "source": [
    "# Смотрим количество признаков\n",
    "data[categories].nunique()"
   ]
  },
  {
   "cell_type": "code",
   "execution_count": 15,
   "metadata": {
    "scrolled": false
   },
   "outputs": [
    {
     "data": {
      "text/html": [
       "<div>\n",
       "<style scoped>\n",
       "    .dataframe tbody tr th:only-of-type {\n",
       "        vertical-align: middle;\n",
       "    }\n",
       "\n",
       "    .dataframe tbody tr th {\n",
       "        vertical-align: top;\n",
       "    }\n",
       "\n",
       "    .dataframe thead tr th {\n",
       "        text-align: left;\n",
       "    }\n",
       "\n",
       "    .dataframe thead tr:last-of-type th {\n",
       "        text-align: right;\n",
       "    }\n",
       "</style>\n",
       "<table border=\"1\" class=\"dataframe\">\n",
       "  <thead>\n",
       "    <tr>\n",
       "      <th></th>\n",
       "      <th colspan=\"5\" halign=\"left\">mean</th>\n",
       "    </tr>\n",
       "    <tr>\n",
       "      <th></th>\n",
       "      <th>Age</th>\n",
       "      <th>Balance</th>\n",
       "      <th>CreditScore</th>\n",
       "      <th>EstimatedSalary</th>\n",
       "      <th>Exited</th>\n",
       "    </tr>\n",
       "    <tr>\n",
       "      <th>Geography</th>\n",
       "      <th></th>\n",
       "      <th></th>\n",
       "      <th></th>\n",
       "      <th></th>\n",
       "      <th></th>\n",
       "    </tr>\n",
       "  </thead>\n",
       "  <tbody>\n",
       "    <tr>\n",
       "      <th>France</th>\n",
       "      <td>38.511767</td>\n",
       "      <td>62092.636516</td>\n",
       "      <td>649.668329</td>\n",
       "      <td>99899.180814</td>\n",
       "      <td>0.161548</td>\n",
       "    </tr>\n",
       "    <tr>\n",
       "      <th>Germany</th>\n",
       "      <td>39.771622</td>\n",
       "      <td>119730.116134</td>\n",
       "      <td>651.453567</td>\n",
       "      <td>101113.435102</td>\n",
       "      <td>0.324432</td>\n",
       "    </tr>\n",
       "    <tr>\n",
       "      <th>Spain</th>\n",
       "      <td>38.890997</td>\n",
       "      <td>61818.147763</td>\n",
       "      <td>651.333872</td>\n",
       "      <td>99440.572281</td>\n",
       "      <td>0.166734</td>\n",
       "    </tr>\n",
       "  </tbody>\n",
       "</table>\n",
       "</div>"
      ],
      "text/plain": [
       "                mean                                                     \n",
       "                 Age        Balance CreditScore EstimatedSalary    Exited\n",
       "Geography                                                                \n",
       "France     38.511767   62092.636516  649.668329    99899.180814  0.161548\n",
       "Germany    39.771622  119730.116134  651.453567   101113.435102  0.324432\n",
       "Spain      38.890997   61818.147763  651.333872    99440.572281  0.166734"
      ]
     },
     "metadata": {},
     "output_type": "display_data"
    },
    {
     "data": {
      "text/html": [
       "<div>\n",
       "<style scoped>\n",
       "    .dataframe tbody tr th:only-of-type {\n",
       "        vertical-align: middle;\n",
       "    }\n",
       "\n",
       "    .dataframe tbody tr th {\n",
       "        vertical-align: top;\n",
       "    }\n",
       "\n",
       "    .dataframe thead tr th {\n",
       "        text-align: left;\n",
       "    }\n",
       "\n",
       "    .dataframe thead tr:last-of-type th {\n",
       "        text-align: right;\n",
       "    }\n",
       "</style>\n",
       "<table border=\"1\" class=\"dataframe\">\n",
       "  <thead>\n",
       "    <tr>\n",
       "      <th></th>\n",
       "      <th colspan=\"5\" halign=\"left\">mean</th>\n",
       "    </tr>\n",
       "    <tr>\n",
       "      <th></th>\n",
       "      <th>Age</th>\n",
       "      <th>Balance</th>\n",
       "      <th>CreditScore</th>\n",
       "      <th>EstimatedSalary</th>\n",
       "      <th>Exited</th>\n",
       "    </tr>\n",
       "    <tr>\n",
       "      <th>Gender</th>\n",
       "      <th></th>\n",
       "      <th></th>\n",
       "      <th></th>\n",
       "      <th></th>\n",
       "      <th></th>\n",
       "    </tr>\n",
       "  </thead>\n",
       "  <tbody>\n",
       "    <tr>\n",
       "      <th>Female</th>\n",
       "      <td>39.238389</td>\n",
       "      <td>75659.369139</td>\n",
       "      <td>650.831389</td>\n",
       "      <td>100601.541382</td>\n",
       "      <td>0.250715</td>\n",
       "    </tr>\n",
       "    <tr>\n",
       "      <th>Male</th>\n",
       "      <td>38.658237</td>\n",
       "      <td>77173.974506</td>\n",
       "      <td>650.276892</td>\n",
       "      <td>99664.576931</td>\n",
       "      <td>0.164559</td>\n",
       "    </tr>\n",
       "  </tbody>\n",
       "</table>\n",
       "</div>"
      ],
      "text/plain": [
       "             mean                                                    \n",
       "              Age       Balance CreditScore EstimatedSalary    Exited\n",
       "Gender                                                               \n",
       "Female  39.238389  75659.369139  650.831389   100601.541382  0.250715\n",
       "Male    38.658237  77173.974506  650.276892    99664.576931  0.164559"
      ]
     },
     "metadata": {},
     "output_type": "display_data"
    },
    {
     "data": {
      "text/html": [
       "<div>\n",
       "<style scoped>\n",
       "    .dataframe tbody tr th:only-of-type {\n",
       "        vertical-align: middle;\n",
       "    }\n",
       "\n",
       "    .dataframe tbody tr th {\n",
       "        vertical-align: top;\n",
       "    }\n",
       "\n",
       "    .dataframe thead tr th {\n",
       "        text-align: left;\n",
       "    }\n",
       "\n",
       "    .dataframe thead tr:last-of-type th {\n",
       "        text-align: right;\n",
       "    }\n",
       "</style>\n",
       "<table border=\"1\" class=\"dataframe\">\n",
       "  <thead>\n",
       "    <tr>\n",
       "      <th></th>\n",
       "      <th colspan=\"5\" halign=\"left\">mean</th>\n",
       "    </tr>\n",
       "    <tr>\n",
       "      <th></th>\n",
       "      <th>Age</th>\n",
       "      <th>Balance</th>\n",
       "      <th>CreditScore</th>\n",
       "      <th>EstimatedSalary</th>\n",
       "      <th>Exited</th>\n",
       "    </tr>\n",
       "    <tr>\n",
       "      <th>HasCrCard</th>\n",
       "      <th></th>\n",
       "      <th></th>\n",
       "      <th></th>\n",
       "      <th></th>\n",
       "      <th></th>\n",
       "    </tr>\n",
       "  </thead>\n",
       "  <tbody>\n",
       "    <tr>\n",
       "      <th>0</th>\n",
       "      <td>39.112054</td>\n",
       "      <td>77920.787552</td>\n",
       "      <td>651.345331</td>\n",
       "      <td>100974.397711</td>\n",
       "      <td>0.208149</td>\n",
       "    </tr>\n",
       "    <tr>\n",
       "      <th>1</th>\n",
       "      <td>38.842381</td>\n",
       "      <td>75886.913330</td>\n",
       "      <td>650.187952</td>\n",
       "      <td>99721.161949</td>\n",
       "      <td>0.201843</td>\n",
       "    </tr>\n",
       "  </tbody>\n",
       "</table>\n",
       "</div>"
      ],
      "text/plain": [
       "                mean                                                    \n",
       "                 Age       Balance CreditScore EstimatedSalary    Exited\n",
       "HasCrCard                                                               \n",
       "0          39.112054  77920.787552  651.345331   100974.397711  0.208149\n",
       "1          38.842381  75886.913330  650.187952    99721.161949  0.201843"
      ]
     },
     "metadata": {},
     "output_type": "display_data"
    },
    {
     "data": {
      "text/html": [
       "<div>\n",
       "<style scoped>\n",
       "    .dataframe tbody tr th:only-of-type {\n",
       "        vertical-align: middle;\n",
       "    }\n",
       "\n",
       "    .dataframe tbody tr th {\n",
       "        vertical-align: top;\n",
       "    }\n",
       "\n",
       "    .dataframe thead tr th {\n",
       "        text-align: left;\n",
       "    }\n",
       "\n",
       "    .dataframe thead tr:last-of-type th {\n",
       "        text-align: right;\n",
       "    }\n",
       "</style>\n",
       "<table border=\"1\" class=\"dataframe\">\n",
       "  <thead>\n",
       "    <tr>\n",
       "      <th></th>\n",
       "      <th colspan=\"5\" halign=\"left\">mean</th>\n",
       "    </tr>\n",
       "    <tr>\n",
       "      <th></th>\n",
       "      <th>Age</th>\n",
       "      <th>Balance</th>\n",
       "      <th>CreditScore</th>\n",
       "      <th>EstimatedSalary</th>\n",
       "      <th>Exited</th>\n",
       "    </tr>\n",
       "    <tr>\n",
       "      <th>IsActiveMember</th>\n",
       "      <th></th>\n",
       "      <th></th>\n",
       "      <th></th>\n",
       "      <th></th>\n",
       "      <th></th>\n",
       "    </tr>\n",
       "  </thead>\n",
       "  <tbody>\n",
       "    <tr>\n",
       "      <th>0</th>\n",
       "      <td>37.997938</td>\n",
       "      <td>77134.376863</td>\n",
       "      <td>647.973603</td>\n",
       "      <td>100767.203854</td>\n",
       "      <td>0.268509</td>\n",
       "    </tr>\n",
       "    <tr>\n",
       "      <th>1</th>\n",
       "      <td>39.791497</td>\n",
       "      <td>75875.422145</td>\n",
       "      <td>652.934188</td>\n",
       "      <td>99452.965894</td>\n",
       "      <td>0.142691</td>\n",
       "    </tr>\n",
       "  </tbody>\n",
       "</table>\n",
       "</div>"
      ],
      "text/plain": [
       "                     mean                                                    \n",
       "                      Age       Balance CreditScore EstimatedSalary    Exited\n",
       "IsActiveMember                                                               \n",
       "0               37.997938  77134.376863  647.973603   100767.203854  0.268509\n",
       "1               39.791497  75875.422145  652.934188    99452.965894  0.142691"
      ]
     },
     "metadata": {},
     "output_type": "display_data"
    },
    {
     "data": {
      "text/html": [
       "<div>\n",
       "<style scoped>\n",
       "    .dataframe tbody tr th:only-of-type {\n",
       "        vertical-align: middle;\n",
       "    }\n",
       "\n",
       "    .dataframe tbody tr th {\n",
       "        vertical-align: top;\n",
       "    }\n",
       "\n",
       "    .dataframe thead tr th {\n",
       "        text-align: left;\n",
       "    }\n",
       "\n",
       "    .dataframe thead tr:last-of-type th {\n",
       "        text-align: right;\n",
       "    }\n",
       "</style>\n",
       "<table border=\"1\" class=\"dataframe\">\n",
       "  <thead>\n",
       "    <tr>\n",
       "      <th></th>\n",
       "      <th colspan=\"5\" halign=\"left\">mean</th>\n",
       "    </tr>\n",
       "    <tr>\n",
       "      <th></th>\n",
       "      <th>Age</th>\n",
       "      <th>Balance</th>\n",
       "      <th>CreditScore</th>\n",
       "      <th>EstimatedSalary</th>\n",
       "      <th>Exited</th>\n",
       "    </tr>\n",
       "    <tr>\n",
       "      <th>NumOfProducts</th>\n",
       "      <th></th>\n",
       "      <th></th>\n",
       "      <th></th>\n",
       "      <th></th>\n",
       "      <th></th>\n",
       "    </tr>\n",
       "  </thead>\n",
       "  <tbody>\n",
       "    <tr>\n",
       "      <th>1</th>\n",
       "      <td>39.673092</td>\n",
       "      <td>98551.870614</td>\n",
       "      <td>649.120968</td>\n",
       "      <td>99487.256851</td>\n",
       "      <td>0.277144</td>\n",
       "    </tr>\n",
       "    <tr>\n",
       "      <th>2</th>\n",
       "      <td>37.753595</td>\n",
       "      <td>51879.145813</td>\n",
       "      <td>652.188671</td>\n",
       "      <td>100452.012821</td>\n",
       "      <td>0.075817</td>\n",
       "    </tr>\n",
       "    <tr>\n",
       "      <th>3</th>\n",
       "      <td>43.195489</td>\n",
       "      <td>75458.328195</td>\n",
       "      <td>648.105263</td>\n",
       "      <td>104318.130564</td>\n",
       "      <td>0.827068</td>\n",
       "    </tr>\n",
       "    <tr>\n",
       "      <th>4</th>\n",
       "      <td>45.683333</td>\n",
       "      <td>93733.135000</td>\n",
       "      <td>653.583333</td>\n",
       "      <td>104763.723333</td>\n",
       "      <td>1.000000</td>\n",
       "    </tr>\n",
       "  </tbody>\n",
       "</table>\n",
       "</div>"
      ],
      "text/plain": [
       "                    mean                                                    \n",
       "                     Age       Balance CreditScore EstimatedSalary    Exited\n",
       "NumOfProducts                                                               \n",
       "1              39.673092  98551.870614  649.120968    99487.256851  0.277144\n",
       "2              37.753595  51879.145813  652.188671   100452.012821  0.075817\n",
       "3              43.195489  75458.328195  648.105263   104318.130564  0.827068\n",
       "4              45.683333  93733.135000  653.583333   104763.723333  1.000000"
      ]
     },
     "metadata": {},
     "output_type": "display_data"
    },
    {
     "data": {
      "text/html": [
       "<div>\n",
       "<style scoped>\n",
       "    .dataframe tbody tr th:only-of-type {\n",
       "        vertical-align: middle;\n",
       "    }\n",
       "\n",
       "    .dataframe tbody tr th {\n",
       "        vertical-align: top;\n",
       "    }\n",
       "\n",
       "    .dataframe thead tr th {\n",
       "        text-align: left;\n",
       "    }\n",
       "\n",
       "    .dataframe thead tr:last-of-type th {\n",
       "        text-align: right;\n",
       "    }\n",
       "</style>\n",
       "<table border=\"1\" class=\"dataframe\">\n",
       "  <thead>\n",
       "    <tr>\n",
       "      <th></th>\n",
       "      <th colspan=\"5\" halign=\"left\">mean</th>\n",
       "    </tr>\n",
       "    <tr>\n",
       "      <th></th>\n",
       "      <th>Age</th>\n",
       "      <th>Balance</th>\n",
       "      <th>CreditScore</th>\n",
       "      <th>EstimatedSalary</th>\n",
       "      <th>Exited</th>\n",
       "    </tr>\n",
       "    <tr>\n",
       "      <th>Tenure</th>\n",
       "      <th></th>\n",
       "      <th></th>\n",
       "      <th></th>\n",
       "      <th></th>\n",
       "      <th></th>\n",
       "    </tr>\n",
       "  </thead>\n",
       "  <tbody>\n",
       "    <tr>\n",
       "      <th>0.0</th>\n",
       "      <td>39.074534</td>\n",
       "      <td>78646.264327</td>\n",
       "      <td>651.826087</td>\n",
       "      <td>98865.876729</td>\n",
       "      <td>0.227743</td>\n",
       "    </tr>\n",
       "    <tr>\n",
       "      <th>1.0</th>\n",
       "      <td>39.482893</td>\n",
       "      <td>77180.663754</td>\n",
       "      <td>648.390029</td>\n",
       "      <td>101541.358983</td>\n",
       "      <td>0.222874</td>\n",
       "    </tr>\n",
       "    <tr>\n",
       "      <th>2.0</th>\n",
       "      <td>39.185824</td>\n",
       "      <td>75800.181351</td>\n",
       "      <td>652.639847</td>\n",
       "      <td>98318.664837</td>\n",
       "      <td>0.193487</td>\n",
       "    </tr>\n",
       "    <tr>\n",
       "      <th>3.0</th>\n",
       "      <td>38.971087</td>\n",
       "      <td>77900.108096</td>\n",
       "      <td>650.358923</td>\n",
       "      <td>96979.045972</td>\n",
       "      <td>0.208375</td>\n",
       "    </tr>\n",
       "    <tr>\n",
       "      <th>4.0</th>\n",
       "      <td>38.110656</td>\n",
       "      <td>75345.178945</td>\n",
       "      <td>650.580943</td>\n",
       "      <td>100297.680574</td>\n",
       "      <td>0.209016</td>\n",
       "    </tr>\n",
       "    <tr>\n",
       "      <th>5.0</th>\n",
       "      <td>39.140438</td>\n",
       "      <td>75181.265090</td>\n",
       "      <td>649.797809</td>\n",
       "      <td>100656.134542</td>\n",
       "      <td>0.201195</td>\n",
       "    </tr>\n",
       "    <tr>\n",
       "      <th>6.0</th>\n",
       "      <td>38.690155</td>\n",
       "      <td>75195.333337</td>\n",
       "      <td>646.879793</td>\n",
       "      <td>100136.109762</td>\n",
       "      <td>0.200000</td>\n",
       "    </tr>\n",
       "    <tr>\n",
       "      <th>7.0</th>\n",
       "      <td>38.287849</td>\n",
       "      <td>76782.980030</td>\n",
       "      <td>650.316733</td>\n",
       "      <td>101271.773914</td>\n",
       "      <td>0.176295</td>\n",
       "    </tr>\n",
       "    <tr>\n",
       "      <th>8.0</th>\n",
       "      <td>38.532544</td>\n",
       "      <td>78066.736075</td>\n",
       "      <td>648.483235</td>\n",
       "      <td>101418.639901</td>\n",
       "      <td>0.188363</td>\n",
       "    </tr>\n",
       "    <tr>\n",
       "      <th>9.0</th>\n",
       "      <td>39.736410</td>\n",
       "      <td>76741.564544</td>\n",
       "      <td>656.400000</td>\n",
       "      <td>99194.372287</td>\n",
       "      <td>0.224615</td>\n",
       "    </tr>\n",
       "    <tr>\n",
       "      <th>10.0</th>\n",
       "      <td>39.039293</td>\n",
       "      <td>74641.534794</td>\n",
       "      <td>651.108055</td>\n",
       "      <td>103238.084126</td>\n",
       "      <td>0.200393</td>\n",
       "    </tr>\n",
       "  </tbody>\n",
       "</table>\n",
       "</div>"
      ],
      "text/plain": [
       "             mean                                                    \n",
       "              Age       Balance CreditScore EstimatedSalary    Exited\n",
       "Tenure                                                               \n",
       "0.0     39.074534  78646.264327  651.826087    98865.876729  0.227743\n",
       "1.0     39.482893  77180.663754  648.390029   101541.358983  0.222874\n",
       "2.0     39.185824  75800.181351  652.639847    98318.664837  0.193487\n",
       "3.0     38.971087  77900.108096  650.358923    96979.045972  0.208375\n",
       "4.0     38.110656  75345.178945  650.580943   100297.680574  0.209016\n",
       "5.0     39.140438  75181.265090  649.797809   100656.134542  0.201195\n",
       "6.0     38.690155  75195.333337  646.879793   100136.109762  0.200000\n",
       "7.0     38.287849  76782.980030  650.316733   101271.773914  0.176295\n",
       "8.0     38.532544  78066.736075  648.483235   101418.639901  0.188363\n",
       "9.0     39.736410  76741.564544  656.400000    99194.372287  0.224615\n",
       "10.0    39.039293  74641.534794  651.108055   103238.084126  0.200393"
      ]
     },
     "metadata": {},
     "output_type": "display_data"
    }
   ],
   "source": [
    "# Исследуем Категориальные признаки по отдельности с целевым признаком\n",
    "for categori in categories:\n",
    "    display(data.pivot_table(index = categori, values=numbers + ['Exited'], aggfunc=['mean']))"
   ]
  },
  {
   "cell_type": "markdown",
   "metadata": {},
   "source": [
    "Найден интересный факт: Клиенты использующие более двух продуктов банка уходят в большинстве случаев: 3 продукта - в 82% случаев, 4 продукта в 100% случаев. Возможно качество продукта не удовлетворяет клиентов, или спектр продуктов не покрывает всех потребостей.\n",
    "\n",
    "Рассмотрим этот факт."
   ]
  },
  {
   "cell_type": "code",
   "execution_count": 16,
   "metadata": {},
   "outputs": [
    {
     "data": {
      "text/plain": [
       "<AxesSubplot:xlabel='NumOfProducts', ylabel='count'>"
      ]
     },
     "execution_count": 16,
     "metadata": {},
     "output_type": "execute_result"
    },
    {
     "data": {
      "image/png": "[encoded data removed]",
      "text/plain": [
       "<Figure size 432x288 with 1 Axes>"
      ]
     },
     "metadata": {
      "needs_background": "light"
     },
     "output_type": "display_data"
    }
   ],
   "source": [
    "sns.countplot(x='NumOfProducts', hue='Exited', data=data)"
   ]
  },
  {
   "cell_type": "code",
   "execution_count": 17,
   "metadata": {},
   "outputs": [
    {
     "name": "stdout",
     "output_type": "stream",
     "text": [
      "Количество вышедших клиентов взависимости от количества продуктов и их общий баланс\n"
     ]
    },
    {
     "name": "stderr",
     "output_type": "stream",
     "text": [
      "c:\\program files (x86)\\microsoft visual studio\\shared\\python37_64\\lib\\site-packages\\ipykernel_launcher.py:2: FutureWarning: Indexing with multiple keys (implicitly converted to a tuple of keys) will be deprecated, use a list instead.\n",
      "  \n"
     ]
    },
    {
     "data": {
      "text/html": [
       "<div>\n",
       "<style scoped>\n",
       "    .dataframe tbody tr th:only-of-type {\n",
       "        vertical-align: middle;\n",
       "    }\n",
       "\n",
       "    .dataframe tbody tr th {\n",
       "        vertical-align: top;\n",
       "    }\n",
       "\n",
       "    .dataframe thead th {\n",
       "        text-align: right;\n",
       "    }\n",
       "</style>\n",
       "<table border=\"1\" class=\"dataframe\">\n",
       "  <thead>\n",
       "    <tr style=\"text-align: right;\">\n",
       "      <th></th>\n",
       "      <th>Exited</th>\n",
       "      <th>Balance</th>\n",
       "    </tr>\n",
       "    <tr>\n",
       "      <th>NumOfProducts</th>\n",
       "      <th></th>\n",
       "      <th></th>\n",
       "    </tr>\n",
       "  </thead>\n",
       "  <tbody>\n",
       "    <tr>\n",
       "      <th>1</th>\n",
       "      <td>1409</td>\n",
       "      <td>5.010377e+08</td>\n",
       "    </tr>\n",
       "    <tr>\n",
       "      <th>2</th>\n",
       "      <td>348</td>\n",
       "      <td>2.381253e+08</td>\n",
       "    </tr>\n",
       "    <tr>\n",
       "      <th>3</th>\n",
       "      <td>220</td>\n",
       "      <td>2.007192e+07</td>\n",
       "    </tr>\n",
       "    <tr>\n",
       "      <th>4</th>\n",
       "      <td>60</td>\n",
       "      <td>5.623988e+06</td>\n",
       "    </tr>\n",
       "  </tbody>\n",
       "</table>\n",
       "</div>"
      ],
      "text/plain": [
       "               Exited       Balance\n",
       "NumOfProducts                      \n",
       "1                1409  5.010377e+08\n",
       "2                 348  2.381253e+08\n",
       "3                 220  2.007192e+07\n",
       "4                  60  5.623988e+06"
      ]
     },
     "execution_count": 17,
     "metadata": {},
     "output_type": "execute_result"
    }
   ],
   "source": [
    "print('Количество вышедших клиентов взависимости от количества продуктов и их общий баланс' )\n",
    "data.groupby('NumOfProducts')['Exited', 'Balance'].sum()"
   ]
  },
  {
   "cell_type": "markdown",
   "metadata": {},
   "source": [
    "**Просмотрим остальные категории на предмет очевидных зависимостей на отток клиентов. Изучаем баланс**"
   ]
  },
  {
   "cell_type": "code",
   "execution_count": 18,
   "metadata": {},
   "outputs": [
    {
     "data": {
      "image/png": "[encoded data removed]",
      "text/plain": [
       "<Figure size 1440x864 with 5 Axes>"
      ]
     },
     "metadata": {},
     "output_type": "display_data"
    }
   ],
   "source": [
    "sns.set(color_codes=True)\n",
    "plt.figure(figsize=(20,12))\n",
    "\n",
    "color=[\"muted\",\"husl\",\"dark\",\"RdBu_r\",\"BrBG\"]\n",
    "\n",
    "for i in range(5):\n",
    "    plt.subplot(2,3,i+1)\n",
    "    sns.countplot(x=categories[i], hue='Exited', data=data, palette=color[i])\n",
    "    plt.xticks(rotation=0)\n",
    "    plt.legend([\"Not Exited\", \"Exited\"])\n",
    "plt.show()"
   ]
  },
  {
   "cell_type": "code",
   "execution_count": 19,
   "metadata": {},
   "outputs": [
    {
     "data": {
      "text/plain": [
       "<AxesSubplot:xlabel='Geography', ylabel='Balance'>"
      ]
     },
     "execution_count": 19,
     "metadata": {},
     "output_type": "execute_result"
    },
    {
     "data": {
      "image/png": "[encoded data removed]",
      "text/plain": [
       "<Figure size 432x288 with 1 Axes>"
      ]
     },
     "metadata": {},
     "output_type": "display_data"
    }
   ],
   "source": [
    "# Баланс по странам\n",
    "sns.boxplot(x=data['Geography'], y=data['Balance'], hue=data['Exited'])"
   ]
  },
  {
   "cell_type": "markdown",
   "metadata": {},
   "source": [
    "Интересное распределение оставшихся клиентов в Испании. Медиана = 0. Рассмотрим подробнее."
   ]
  },
  {
   "cell_type": "code",
   "execution_count": 20,
   "metadata": {
    "scrolled": true
   },
   "outputs": [
    {
     "data": {
      "text/html": [
       "<div>\n",
       "<style scoped>\n",
       "    .dataframe tbody tr th:only-of-type {\n",
       "        vertical-align: middle;\n",
       "    }\n",
       "\n",
       "    .dataframe tbody tr th {\n",
       "        vertical-align: top;\n",
       "    }\n",
       "\n",
       "    .dataframe thead th {\n",
       "        text-align: right;\n",
       "    }\n",
       "</style>\n",
       "<table border=\"1\" class=\"dataframe\">\n",
       "  <thead>\n",
       "    <tr style=\"text-align: right;\">\n",
       "      <th></th>\n",
       "      <th>CreditScore</th>\n",
       "      <th>Age</th>\n",
       "      <th>Tenure</th>\n",
       "      <th>Balance</th>\n",
       "      <th>NumOfProducts</th>\n",
       "      <th>HasCrCard</th>\n",
       "      <th>IsActiveMember</th>\n",
       "      <th>EstimatedSalary</th>\n",
       "      <th>Exited</th>\n",
       "    </tr>\n",
       "  </thead>\n",
       "  <tbody>\n",
       "    <tr>\n",
       "      <th>count</th>\n",
       "      <td>2064.000000</td>\n",
       "      <td>2064.000000</td>\n",
       "      <td>2064.000000</td>\n",
       "      <td>2064.000000</td>\n",
       "      <td>2064.000000</td>\n",
       "      <td>2064.000000</td>\n",
       "      <td>2064.000000</td>\n",
       "      <td>2064.000000</td>\n",
       "      <td>2064.0</td>\n",
       "    </tr>\n",
       "    <tr>\n",
       "      <th>mean</th>\n",
       "      <td>652.104167</td>\n",
       "      <td>37.839147</td>\n",
       "      <td>5.014050</td>\n",
       "      <td>59678.070470</td>\n",
       "      <td>1.544574</td>\n",
       "      <td>0.699128</td>\n",
       "      <td>0.567345</td>\n",
       "      <td>98602.369864</td>\n",
       "      <td>0.0</td>\n",
       "    </tr>\n",
       "    <tr>\n",
       "      <th>std</th>\n",
       "      <td>93.292182</td>\n",
       "      <td>10.190398</td>\n",
       "      <td>2.879936</td>\n",
       "      <td>63489.039682</td>\n",
       "      <td>0.511572</td>\n",
       "      <td>0.458748</td>\n",
       "      <td>0.495564</td>\n",
       "      <td>57142.591384</td>\n",
       "      <td>0.0</td>\n",
       "    </tr>\n",
       "    <tr>\n",
       "      <th>min</th>\n",
       "      <td>413.000000</td>\n",
       "      <td>18.000000</td>\n",
       "      <td>0.000000</td>\n",
       "      <td>0.000000</td>\n",
       "      <td>1.000000</td>\n",
       "      <td>0.000000</td>\n",
       "      <td>0.000000</td>\n",
       "      <td>479.540000</td>\n",
       "      <td>0.0</td>\n",
       "    </tr>\n",
       "    <tr>\n",
       "      <th>25%</th>\n",
       "      <td>587.000000</td>\n",
       "      <td>31.000000</td>\n",
       "      <td>3.000000</td>\n",
       "      <td>0.000000</td>\n",
       "      <td>1.000000</td>\n",
       "      <td>0.000000</td>\n",
       "      <td>0.000000</td>\n",
       "      <td>49317.772500</td>\n",
       "      <td>0.0</td>\n",
       "    </tr>\n",
       "    <tr>\n",
       "      <th>50%</th>\n",
       "      <td>652.000000</td>\n",
       "      <td>36.000000</td>\n",
       "      <td>5.000000</td>\n",
       "      <td>0.000000</td>\n",
       "      <td>2.000000</td>\n",
       "      <td>1.000000</td>\n",
       "      <td>1.000000</td>\n",
       "      <td>98768.455000</td>\n",
       "      <td>0.0</td>\n",
       "    </tr>\n",
       "    <tr>\n",
       "      <th>75%</th>\n",
       "      <td>715.000000</td>\n",
       "      <td>42.000000</td>\n",
       "      <td>8.000000</td>\n",
       "      <td>119805.890000</td>\n",
       "      <td>2.000000</td>\n",
       "      <td>1.000000</td>\n",
       "      <td>1.000000</td>\n",
       "      <td>146336.357500</td>\n",
       "      <td>0.0</td>\n",
       "    </tr>\n",
       "    <tr>\n",
       "      <th>max</th>\n",
       "      <td>850.000000</td>\n",
       "      <td>88.000000</td>\n",
       "      <td>10.000000</td>\n",
       "      <td>221532.800000</td>\n",
       "      <td>3.000000</td>\n",
       "      <td>1.000000</td>\n",
       "      <td>1.000000</td>\n",
       "      <td>199992.480000</td>\n",
       "      <td>0.0</td>\n",
       "    </tr>\n",
       "  </tbody>\n",
       "</table>\n",
       "</div>"
      ],
      "text/plain": [
       "       CreditScore          Age       Tenure        Balance  NumOfProducts  \\\n",
       "count  2064.000000  2064.000000  2064.000000    2064.000000    2064.000000   \n",
       "mean    652.104167    37.839147     5.014050   59678.070470       1.544574   \n",
       "std      93.292182    10.190398     2.879936   63489.039682       0.511572   \n",
       "min     413.000000    18.000000     0.000000       0.000000       1.000000   \n",
       "25%     587.000000    31.000000     3.000000       0.000000       1.000000   \n",
       "50%     652.000000    36.000000     5.000000       0.000000       2.000000   \n",
       "75%     715.000000    42.000000     8.000000  119805.890000       2.000000   \n",
       "max     850.000000    88.000000    10.000000  221532.800000       3.000000   \n",
       "\n",
       "         HasCrCard  IsActiveMember  EstimatedSalary  Exited  \n",
       "count  2064.000000     2064.000000      2064.000000  2064.0  \n",
       "mean      0.699128        0.567345     98602.369864     0.0  \n",
       "std       0.458748        0.495564     57142.591384     0.0  \n",
       "min       0.000000        0.000000       479.540000     0.0  \n",
       "25%       0.000000        0.000000     49317.772500     0.0  \n",
       "50%       1.000000        1.000000     98768.455000     0.0  \n",
       "75%       1.000000        1.000000    146336.357500     0.0  \n",
       "max       1.000000        1.000000    199992.480000     0.0  "
      ]
     },
     "execution_count": 20,
     "metadata": {},
     "output_type": "execute_result"
    }
   ],
   "source": [
    "data.loc[(data['Geography'] == 'Spain') & (data['Exited'] == 0)].describe()\n"
   ]
  },
  {
   "cell_type": "code",
   "execution_count": 21,
   "metadata": {},
   "outputs": [
    {
     "data": {
      "text/html": [
       "<div>\n",
       "<style scoped>\n",
       "    .dataframe tbody tr th:only-of-type {\n",
       "        vertical-align: middle;\n",
       "    }\n",
       "\n",
       "    .dataframe tbody tr th {\n",
       "        vertical-align: top;\n",
       "    }\n",
       "\n",
       "    .dataframe thead th {\n",
       "        text-align: right;\n",
       "    }\n",
       "</style>\n",
       "<table border=\"1\" class=\"dataframe\">\n",
       "  <thead>\n",
       "    <tr style=\"text-align: right;\">\n",
       "      <th></th>\n",
       "      <th>Total</th>\n",
       "      <th>Percent</th>\n",
       "    </tr>\n",
       "  </thead>\n",
       "  <tbody>\n",
       "    <tr>\n",
       "      <th>0</th>\n",
       "      <td>1036</td>\n",
       "      <td>86.405338</td>\n",
       "    </tr>\n",
       "    <tr>\n",
       "      <th>1</th>\n",
       "      <td>163</td>\n",
       "      <td>13.594662</td>\n",
       "    </tr>\n",
       "  </tbody>\n",
       "</table>\n",
       "</div>"
      ],
      "text/plain": [
       "   Total    Percent\n",
       "0   1036  86.405338\n",
       "1    163  13.594662"
      ]
     },
     "execution_count": 21,
     "metadata": {},
     "output_type": "execute_result"
    }
   ],
   "source": [
    "# Посмотрим количество клиентов с нулевым балансом\n",
    "get_top_percent(data[(data['Balance'] == 0) & (data['Geography'] == 'Spain')]['Exited'])"
   ]
  },
  {
   "cell_type": "markdown",
   "metadata": {},
   "source": [
    "Ничего особенного. Просто очень много клиентов с нулевым балансом. Возможно такова политика банка."
   ]
  },
  {
   "cell_type": "markdown",
   "metadata": {},
   "source": [
    "### Исследуем численные признаки"
   ]
  },
  {
   "cell_type": "code",
   "execution_count": 22,
   "metadata": {},
   "outputs": [
    {
     "data": {
      "text/plain": [
       "CreditScore         460\n",
       "Age                  70\n",
       "Balance            6382\n",
       "EstimatedSalary    9999\n",
       "dtype: int64"
      ]
     },
     "execution_count": 22,
     "metadata": {},
     "output_type": "execute_result"
    }
   ],
   "source": [
    "# Смотрим свойства признаков\n",
    "data[numbers].nunique()"
   ]
  },
  {
   "cell_type": "code",
   "execution_count": 23,
   "metadata": {},
   "outputs": [],
   "source": [
    "def print_box(dataset, column_name, axn):\n",
    "    data_select = dataset.loc[:,[column_name]]\n",
    "    data_select.boxplot(widths = 0.5 , ax=axn)\n",
    "\n",
    "def box_plot(dataset, columns):\n",
    "    fig, axis = plt.subplots(1, len(columns), figsize=(12, 6))\n",
    "    ax = axis.ravel()\n",
    "    for i in range(len(columns)):\n",
    "        print_box(dataset, columns[i], ax[i])\n",
    "    fig.tight_layout()"
   ]
  },
  {
   "cell_type": "code",
   "execution_count": 24,
   "metadata": {},
   "outputs": [
    {
     "data": {
      "image/png": "[encoded data removed]",
      "text/plain": [
       "<Figure size 864x432 with 4 Axes>"
      ]
     },
     "metadata": {},
     "output_type": "display_data"
    }
   ],
   "source": [
    "# Смотрим выбросы\n",
    "box_plot(data, numbers)"
   ]
  },
  {
   "cell_type": "raw",
   "metadata": {},
   "source": [
    "# Поиск возможных зависимостей\n",
    "sns.pairplot(data[numbers + ['Exited']], hue='Exited')"
   ]
  },
  {
   "cell_type": "markdown",
   "metadata": {},
   "source": [
    "Вызывают интерес Колонки \"Age\" и \"Balance\". Изучим."
   ]
  },
  {
   "cell_type": "code",
   "execution_count": 25,
   "metadata": {},
   "outputs": [
    {
     "data": {
      "image/png": "[encoded data removed]",
      "text/plain": [
       "<Figure size 1008x288 with 2 Axes>"
      ]
     },
     "metadata": {},
     "output_type": "display_data"
    }
   ],
   "source": [
    "# Гистограммы \n",
    "fig, (ax1, ax2) = plt.subplots(1, 2, figsize=(14, 4))\n",
    "ax1.hist(data['Age'], bins=30)\n",
    "ax1.set_title('Age')\n",
    "ax2.hist(data['Balance'], bins=30)\n",
    "ax2.set_title('Balance')\n",
    "\n",
    "plt.show()"
   ]
  },
  {
   "cell_type": "code",
   "execution_count": 26,
   "metadata": {},
   "outputs": [
    {
     "data": {
      "image/png": "[encoded data removed]",
      "text/plain": [
       "<Figure size 1008x288 with 2 Axes>"
      ]
     },
     "metadata": {},
     "output_type": "display_data"
    }
   ],
   "source": [
    "# распределения\n",
    "fig, (ax1, ax2) = plt.subplots(1, 2, figsize=(14, 4))\n",
    "sns.kdeplot(data.loc[data['Exited'] == 1, 'Age'], shade=True, color=\"deeppink\", label=\"Ушли\", alpha=.7, ax = ax1)\n",
    "sns.kdeplot(data.loc[data['Exited'] == 0, 'Age'], shade=True, color=\"orange\", label=\"Остались\", alpha=.7, ax = ax1)\n",
    "sns.kdeplot(data.loc[data['Exited'] == 1, 'Balance'], shade=True, color=\"g\", label=\"Ушли\", alpha=.7, ax = ax2)\n",
    "sns.kdeplot(data.loc[data['Exited'] == 0, 'Balance'], shade=True, color=\"dodgerblue\", label=\"Остались\", alpha=.7, ax = ax2)\n",
    "ax1.set_title('Распределение по Age')\n",
    "ax2.set_title('Распределение по Balance')\n",
    "plt.show()"
   ]
  },
  {
   "cell_type": "code",
   "execution_count": 27,
   "metadata": {},
   "outputs": [
    {
     "name": "stdout",
     "output_type": "stream",
     "text": [
      "Отток с нулевым балансом\n"
     ]
    },
    {
     "data": {
      "text/html": [
       "<div>\n",
       "<style scoped>\n",
       "    .dataframe tbody tr th:only-of-type {\n",
       "        vertical-align: middle;\n",
       "    }\n",
       "\n",
       "    .dataframe tbody tr th {\n",
       "        vertical-align: top;\n",
       "    }\n",
       "\n",
       "    .dataframe thead th {\n",
       "        text-align: right;\n",
       "    }\n",
       "</style>\n",
       "<table border=\"1\" class=\"dataframe\">\n",
       "  <thead>\n",
       "    <tr style=\"text-align: right;\">\n",
       "      <th></th>\n",
       "      <th>Total</th>\n",
       "      <th>Percent</th>\n",
       "    </tr>\n",
       "  </thead>\n",
       "  <tbody>\n",
       "    <tr>\n",
       "      <th>0</th>\n",
       "      <td>3117</td>\n",
       "      <td>86.176389</td>\n",
       "    </tr>\n",
       "    <tr>\n",
       "      <th>1</th>\n",
       "      <td>500</td>\n",
       "      <td>13.823611</td>\n",
       "    </tr>\n",
       "  </tbody>\n",
       "</table>\n",
       "</div>"
      ],
      "text/plain": [
       "   Total    Percent\n",
       "0   3117  86.176389\n",
       "1    500  13.823611"
      ]
     },
     "execution_count": 27,
     "metadata": {},
     "output_type": "execute_result"
    }
   ],
   "source": [
    "print('Отток с нулевым балансом')\n",
    "get_top_percent(data[data['Balance'] == 0]['Exited'])\n"
   ]
  },
  {
   "cell_type": "markdown",
   "metadata": {},
   "source": [
    "## Вывод\n",
    "\n",
    "Уходят наиболее состоятельные и стабильные клиенты в среднем 45 лет с балансом 120000. Остаются клиенты в среднем 35 лет. Среди клиентов имеющих нулевой баланс оставшихся 86 % против 80% в общей потере.\n",
    "\n",
    "Данные очень разбалансированы"
   ]
  },
  {
   "cell_type": "markdown",
   "metadata": {},
   "source": [
    "# 3. Подготовка данных"
   ]
  },
  {
   "cell_type": "code",
   "execution_count": 28,
   "metadata": {},
   "outputs": [],
   "source": [
    "# Кодирование категориальных признаков, обработка dummy trap \n",
    "data = pd.get_dummies(data, drop_first=True)"
   ]
  },
  {
   "cell_type": "code",
   "execution_count": 29,
   "metadata": {},
   "outputs": [],
   "source": [
    "# Масштабирование признаков. Стандартизация данных\n",
    "scaler = StandardScaler()\n",
    "scaler.fit(data[numbers])\n",
    "data[numbers] = scaler.transform(data[numbers])"
   ]
  },
  {
   "cell_type": "code",
   "execution_count": 30,
   "metadata": {},
   "outputs": [
    {
     "data": {
      "text/html": [
       "<div>\n",
       "<style scoped>\n",
       "    .dataframe tbody tr th:only-of-type {\n",
       "        vertical-align: middle;\n",
       "    }\n",
       "\n",
       "    .dataframe tbody tr th {\n",
       "        vertical-align: top;\n",
       "    }\n",
       "\n",
       "    .dataframe thead th {\n",
       "        text-align: right;\n",
       "    }\n",
       "</style>\n",
       "<table border=\"1\" class=\"dataframe\">\n",
       "  <thead>\n",
       "    <tr style=\"text-align: right;\">\n",
       "      <th></th>\n",
       "      <th>CreditScore</th>\n",
       "      <th>Age</th>\n",
       "      <th>Tenure</th>\n",
       "      <th>Balance</th>\n",
       "      <th>NumOfProducts</th>\n",
       "      <th>HasCrCard</th>\n",
       "      <th>IsActiveMember</th>\n",
       "      <th>EstimatedSalary</th>\n",
       "      <th>Exited</th>\n",
       "      <th>Geography_Germany</th>\n",
       "      <th>Geography_Spain</th>\n",
       "      <th>Gender_Male</th>\n",
       "    </tr>\n",
       "  </thead>\n",
       "  <tbody>\n",
       "    <tr>\n",
       "      <th>0</th>\n",
       "      <td>-0.326221</td>\n",
       "      <td>0.293517</td>\n",
       "      <td>2.0</td>\n",
       "      <td>-1.225848</td>\n",
       "      <td>1</td>\n",
       "      <td>1</td>\n",
       "      <td>1</td>\n",
       "      <td>0.021886</td>\n",
       "      <td>1</td>\n",
       "      <td>0</td>\n",
       "      <td>0</td>\n",
       "      <td>0</td>\n",
       "    </tr>\n",
       "    <tr>\n",
       "      <th>1</th>\n",
       "      <td>-0.440036</td>\n",
       "      <td>0.198164</td>\n",
       "      <td>1.0</td>\n",
       "      <td>0.117350</td>\n",
       "      <td>1</td>\n",
       "      <td>0</td>\n",
       "      <td>1</td>\n",
       "      <td>0.216534</td>\n",
       "      <td>0</td>\n",
       "      <td>0</td>\n",
       "      <td>1</td>\n",
       "      <td>0</td>\n",
       "    </tr>\n",
       "    <tr>\n",
       "      <th>2</th>\n",
       "      <td>-1.536794</td>\n",
       "      <td>0.293517</td>\n",
       "      <td>8.0</td>\n",
       "      <td>1.333053</td>\n",
       "      <td>3</td>\n",
       "      <td>1</td>\n",
       "      <td>0</td>\n",
       "      <td>0.240687</td>\n",
       "      <td>1</td>\n",
       "      <td>0</td>\n",
       "      <td>0</td>\n",
       "      <td>0</td>\n",
       "    </tr>\n",
       "    <tr>\n",
       "      <th>3</th>\n",
       "      <td>0.501521</td>\n",
       "      <td>0.007457</td>\n",
       "      <td>1.0</td>\n",
       "      <td>-1.225848</td>\n",
       "      <td>2</td>\n",
       "      <td>0</td>\n",
       "      <td>0</td>\n",
       "      <td>-0.108918</td>\n",
       "      <td>0</td>\n",
       "      <td>0</td>\n",
       "      <td>0</td>\n",
       "      <td>0</td>\n",
       "    </tr>\n",
       "    <tr>\n",
       "      <th>4</th>\n",
       "      <td>2.063884</td>\n",
       "      <td>0.388871</td>\n",
       "      <td>2.0</td>\n",
       "      <td>0.785728</td>\n",
       "      <td>1</td>\n",
       "      <td>1</td>\n",
       "      <td>1</td>\n",
       "      <td>-0.365276</td>\n",
       "      <td>0</td>\n",
       "      <td>0</td>\n",
       "      <td>1</td>\n",
       "      <td>0</td>\n",
       "    </tr>\n",
       "  </tbody>\n",
       "</table>\n",
       "</div>"
      ],
      "text/plain": [
       "   CreditScore       Age  Tenure   Balance  NumOfProducts  HasCrCard  \\\n",
       "0    -0.326221  0.293517     2.0 -1.225848              1          1   \n",
       "1    -0.440036  0.198164     1.0  0.117350              1          0   \n",
       "2    -1.536794  0.293517     8.0  1.333053              3          1   \n",
       "3     0.501521  0.007457     1.0 -1.225848              2          0   \n",
       "4     2.063884  0.388871     2.0  0.785728              1          1   \n",
       "\n",
       "   IsActiveMember  EstimatedSalary  Exited  Geography_Germany  \\\n",
       "0               1         0.021886       1                  0   \n",
       "1               1         0.216534       0                  0   \n",
       "2               0         0.240687       1                  0   \n",
       "3               0        -0.108918       0                  0   \n",
       "4               1        -0.365276       0                  0   \n",
       "\n",
       "   Geography_Spain  Gender_Male  \n",
       "0                0            0  \n",
       "1                1            0  \n",
       "2                0            0  \n",
       "3                0            0  \n",
       "4                1            0  "
      ]
     },
     "execution_count": 30,
     "metadata": {},
     "output_type": "execute_result"
    }
   ],
   "source": [
    "data.head(5)"
   ]
  },
  {
   "cell_type": "code",
   "execution_count": 31,
   "metadata": {},
   "outputs": [],
   "source": [
    "# Разделим признаки на тренировочный и целевой\n",
    "features = data.drop(['Exited'], axis=1)\n",
    "target = data['Exited']"
   ]
  },
  {
   "cell_type": "code",
   "execution_count": 32,
   "metadata": {},
   "outputs": [],
   "source": [
    "features_train, features_valid, target_train, target_valid = train_test_split(\n",
    "    features, target, test_size=0.4, random_state=12345)\n",
    "features_valid, features_test, target_valid, target_test = train_test_split(\n",
    "    features_valid, target_valid, test_size=0.5, random_state=12345)"
   ]
  },
  {
   "cell_type": "code",
   "execution_count": 33,
   "metadata": {},
   "outputs": [
    {
     "name": "stdout",
     "output_type": "stream",
     "text": [
      "    Размеры выборок\n",
      "features_train size: 6000\n",
      "features_valid size: 2000\n",
      "features_test size: 2000\n"
     ]
    }
   ],
   "source": [
    "print('    Размеры выборок')\n",
    "print('features_train size:', features_train.shape[0])\n",
    "print('features_valid size:', features_valid.shape[0])\n",
    "print('features_test size:', features_test.shape[0])"
   ]
  },
  {
   "cell_type": "markdown",
   "metadata": {},
   "source": [
    "# 4. Исследование задачи"
   ]
  },
  {
   "cell_type": "markdown",
   "metadata": {},
   "source": [
    "Прогнозирование ухода клиента из банка является задачей классификации. Оценим предварительно точность различных моделей на несбалансированных данных. Выберем лучший классификатор."
   ]
  },
  {
   "cell_type": "markdown",
   "metadata": {},
   "source": [
    "### Выбор модели Вариант 1"
   ]
  },
  {
   "cell_type": "markdown",
   "metadata": {},
   "source": [
    "Сравниваем метрики классификаторов с гиперпараметрами \"по умолчанию\""
   ]
  },
  {
   "cell_type": "code",
   "execution_count": 34,
   "metadata": {},
   "outputs": [],
   "source": [
    "def score_pack(predict, target):\n",
    "    accuracy = accuracy_score(predict, target)\n",
    "    print('Accuracy:{:.3f}'.format(accuracy))\n",
    "    print('Precission: {:.3f}'.format(precision_score(target, predict)))\n",
    "    print('Recall: {:.3f}'.format(recall_score(target, predict)))\n",
    "    print('F1_Score: {:.3f}'.format(f1_score(target, predict)))\n",
    "    return confusion_matrix(target, predict)\n",
    "    "
   ]
  },
  {
   "cell_type": "code",
   "execution_count": 35,
   "metadata": {},
   "outputs": [
    {
     "name": "stdout",
     "output_type": "stream",
     "text": [
      "LogisiticRegression\n",
      "Accuracy:0.803\n",
      "Precission: 0.572\n",
      "Recall: 0.237\n",
      "F1_Score: 0.335\n",
      "==============================\n",
      "DecisionTreeClassifier\n",
      "Accuracy:0.788\n",
      "Precission: 0.493\n",
      "Recall: 0.486\n",
      "F1_Score: 0.489\n",
      "==============================\n",
      "RandomForestClassifier\n",
      "Accuracy:0.862\n",
      "Precission: 0.783\n",
      "Recall: 0.467\n",
      "F1_Score: 0.585\n",
      "==============================\n"
     ]
    }
   ],
   "source": [
    "classifiers = {\n",
    "    \"LogisiticRegression\": LogisticRegression(random_state=12345, solver='liblinear'),\n",
    "    \"DecisionTreeClassifier\": DecisionTreeClassifier(random_state=12345),\n",
    "    \"RandomForestClassifier\": RandomForestClassifier(random_state=12345)\n",
    "}\n",
    "\n",
    "for key, classifier in classifiers.items():\n",
    "    classifier.fit(features_train, target_train)\n",
    "    predicted_valid = classifier.predict(features_valid)\n",
    "    print(key)\n",
    "    score_pack(predicted_valid, target_valid)\n",
    "    print('==='*10)"
   ]
  },
  {
   "cell_type": "markdown",
   "metadata": {},
   "source": [
    "Наилучший результат показывает модель классификатора случайный лес: Accuracy:0.851, F1_Score: 0.545. Далее будем использовать RandomForestClassifier."
   ]
  },
  {
   "cell_type": "markdown",
   "metadata": {},
   "source": [
    "### Выбор модели. Вариант 2"
   ]
  },
  {
   "cell_type": "code",
   "execution_count": 36,
   "metadata": {},
   "outputs": [],
   "source": [
    "kfold = 5 #количество подвыборок для валидации\n",
    "itog_val = {} #список для записи результатов кросс валидации разных алгоритмов"
   ]
  },
  {
   "cell_type": "code",
   "execution_count": 37,
   "metadata": {},
   "outputs": [],
   "source": [
    "model_forest = RandomForestClassifier(random_state=12345, n_estimators = 30)\n",
    "model_tree = DecisionTreeClassifier(random_state=12345, max_depth=15)\n",
    "model_lr = LogisticRegression(random_state=12345, solver='liblinear') "
   ]
  },
  {
   "cell_type": "code",
   "execution_count": 38,
   "metadata": {},
   "outputs": [],
   "source": [
    "#print(cross_val_score(lasso, X, y, cv=3))\n",
    "# cross_val_score сама разделяет обучающую и валид. выборку\n",
    "scores = cross_val_score(model_forest, features, target, cv = kfold) \n",
    "itog_val['RandomForestClassifier'] = scores.mean()\n",
    "scores = cross_val_score(model_tree, features, target, cv = kfold)\n",
    "itog_val['DecisionTreeClassifier'] = scores.mean()\n",
    "scores = cross_val_score(model_lr, features, target, cv = kfold)\n",
    "itog_val['LogisticRegression'] = scores.mean()\n"
   ]
  },
  {
   "cell_type": "code",
   "execution_count": 39,
   "metadata": {},
   "outputs": [
    {
     "data": {
      "text/plain": [
       "<AxesSubplot:title={'center':'средний показатель перекрестной проверки каждой модели'}>"
      ]
     },
     "execution_count": 39,
     "metadata": {},
     "output_type": "execute_result"
    },
    {
     "data": {
      "image/png": "[encoded data removed]",
      "text/plain": [
       "<Figure size 432x288 with 1 Axes>"
      ]
     },
     "metadata": {},
     "output_type": "display_data"
    }
   ],
   "source": [
    "# средний показатель тестов перекрестной проверки каждой модели:\n",
    "(pd.DataFrame.from_dict(data = itog_val, orient='index')\n",
    "             .plot(grid = True, \n",
    "                   kind='bar', \n",
    "                   legend=False, \n",
    "                   title = 'средний показатель перекрестной проверки каждой модели'))"
   ]
  },
  {
   "cell_type": "markdown",
   "metadata": {},
   "source": [
    "Выберем по площади под кривой ROC"
   ]
  },
  {
   "cell_type": "code",
   "execution_count": 40,
   "metadata": {},
   "outputs": [
    {
     "data": {
      "image/png": "[encoded data removed]",
      "text/plain": [
       "<Figure size 576x432 with 1 Axes>"
      ]
     },
     "metadata": {},
     "output_type": "display_data"
    }
   ],
   "source": [
    "'''  \n",
    "model = LogisticRegression(random_state=12345, solver='liblinear')\n",
    "model.fit(features_train, target_train)\n",
    "probabilities_valid = model.predict_proba(features_valid)\n",
    "probabilities_one_valid = probabilities_valid[:, 1]\n",
    "fpr, tpr, thresholds = roc_curve(target_valid, probabilities_one_valid)\n",
    "plt.figure()'''\n",
    "\n",
    "plt.figure(figsize=(8,6))\n",
    "\n",
    "#RandomForestClassifier\n",
    "probabilities = model_forest.fit(features_train, target_train).predict_proba(features_valid)\n",
    "fpr, tpr, thresholds = roc_curve(target_valid, probabilities[:, 1])\n",
    "roc_auc  = auc(fpr, tpr)\n",
    "plt.plot(fpr, tpr, label='{} ROC (area = {:.2f})'.format('RandomForestClassifier',roc_auc))\n",
    "#DecisionTreeClassifier\n",
    "probabilities = model_tree.fit(features_train, target_train).predict_proba(features_valid)\n",
    "fpr, tpr, thresholds = roc_curve(target_valid, probabilities[:, 1])\n",
    "roc_auc  = auc(fpr, tpr) # просто, чтобы не одинаково :)\n",
    "plt.plot(fpr, tpr, label='%s ROC (area = %0.2f)' % ('DecisionTreeClassifier',roc_auc))\n",
    "#LogisticRegression\n",
    "probabilities = model_lr.fit(features_train, target_train).predict_proba(features_valid)\n",
    "fpr, tpr, thresholds = roc_curve(target_valid, probabilities[:, 1])\n",
    "roc_auc  = auc(fpr, tpr) \n",
    "plt.plot(fpr, tpr, label='LogisticRegression ROC (area = {:.2f})'.format(roc_auc))\n",
    "\n",
    "plt.plot([0, 1], [0, 1], 'k--')\n",
    "plt.xlim([0.0, 1.0])\n",
    "plt.ylim([0.0, 1.0])\n",
    "plt.grid(True)\n",
    "plt.xlabel('False Positive Rate')\n",
    "plt.ylabel('True Positive Rate')\n",
    "plt.legend(loc=0, fontsize='12')\n",
    "plt.show()"
   ]
  },
  {
   "cell_type": "markdown",
   "metadata": {},
   "source": [
    "Побеждает также RandomForestClassifier"
   ]
  },
  {
   "cell_type": "markdown",
   "metadata": {},
   "source": [
    "## Вывод\n",
    "RandomForestClassifier показывает наилучшие пробные результаты. Далее будем использовать эту модель."
   ]
  },
  {
   "cell_type": "markdown",
   "metadata": {},
   "source": [
    "# 5. Борьба с дисбалансом"
   ]
  },
  {
   "cell_type": "markdown",
   "metadata": {},
   "source": [
    "### Взвешивание классов"
   ]
  },
  {
   "cell_type": "markdown",
   "metadata": {},
   "source": [
    "Изучаем, влияет ли взвешивание классов на эффективность модели. Выбираем class_weight"
   ]
  },
  {
   "cell_type": "code",
   "execution_count": 41,
   "metadata": {},
   "outputs": [],
   "source": [
    "# Глобальные переменные\n",
    "best_F1_score = 0.0\n",
    "best_train_model: object()\n"
   ]
  },
  {
   "cell_type": "code",
   "execution_count": 42,
   "metadata": {},
   "outputs": [],
   "source": [
    "# возвращает обученную модель и время обучения. Лучшую модель и метрику записывает в переменные best_train_model, best_F1_score\n",
    "def model_fit(model, features, target):\n",
    "    global best_train_model\n",
    "    global best_F1_score\n",
    "    t = timer()\n",
    "    model.fit(features, target)\n",
    "    elapsed = timer() - t\n",
    "    predictions = model.predict(features_valid)\n",
    "    model_score = f1_score(target_valid, predictions)\n",
    "    if model_score > best_F1_score:\n",
    "        best_F1_score = model_score\n",
    "        best_train_model = model\n",
    "    return model_score, elapsed"
   ]
  },
  {
   "cell_type": "code",
   "execution_count": 43,
   "metadata": {},
   "outputs": [],
   "source": [
    "# Гиперпараметры \n",
    "greater_depth = 20  #  max_depth\n",
    "step_depth = 3 # шаг depth\n",
    "n_estimator = 101  # n_estimators\n",
    "step_estimators = 30 # шаг n_estimators\n",
    "# подбирает гиперпараметры. выводит информацию о лучшей модели.\n",
    "def search_hyperparameters(balanced, features, target):\n",
    "    compare_f1 = best_F1_score\n",
    "    for depth,estimator in itertools.product(range(2,greater_depth,step_depth), range(1,n_estimator,step_estimators)):\n",
    "        model = RandomForestClassifier(random_state=12345, max_depth=depth, n_estimators=estimator, class_weight= balanced)\n",
    "        model_score, elapsed = model_fit(model, features, target)\n",
    "        print('f1_Score: {:.3f}, fit_time: {:.3f}, depth: {}, n_estimators: {}'.format(model_score, elapsed, depth, estimator))\n",
    "    if best_F1_score > compare_f1:\n",
    "        print('==='*20)\n",
    "        print('найдена лучшая модель: f1_Score: {:.3f}\\n'.format(best_F1_score), best_train_model)\n",
    "    else:\n",
    "        print('==='*20)\n",
    "        print('Лучшего результата нет')        "
   ]
  },
  {
   "cell_type": "markdown",
   "metadata": {},
   "source": [
    "**Подбираем гиперпараметрами лучшую модель с несбалансированными классами (default class_weight= None)**"
   ]
  },
  {
   "cell_type": "code",
   "execution_count": 44,
   "metadata": {},
   "outputs": [
    {
     "name": "stdout",
     "output_type": "stream",
     "text": [
      "f1_Score: 0.248, fit_time: 0.009, depth: 2, n_estimators: 1\n",
      "f1_Score: 0.134, fit_time: 0.074, depth: 2, n_estimators: 31\n",
      "f1_Score: 0.162, fit_time: 0.135, depth: 2, n_estimators: 61\n",
      "f1_Score: 0.113, fit_time: 0.255, depth: 2, n_estimators: 91\n",
      "f1_Score: 0.437, fit_time: 0.006, depth: 5, n_estimators: 1\n",
      "f1_Score: 0.484, fit_time: 0.102, depth: 5, n_estimators: 31\n",
      "f1_Score: 0.478, fit_time: 0.202, depth: 5, n_estimators: 61\n",
      "f1_Score: 0.469, fit_time: 0.309, depth: 5, n_estimators: 91\n",
      "f1_Score: 0.522, fit_time: 0.008, depth: 8, n_estimators: 1\n",
      "f1_Score: 0.559, fit_time: 0.139, depth: 8, n_estimators: 31\n",
      "f1_Score: 0.564, fit_time: 0.270, depth: 8, n_estimators: 61\n",
      "f1_Score: 0.564, fit_time: 0.431, depth: 8, n_estimators: 91\n",
      "f1_Score: 0.529, fit_time: 0.013, depth: 11, n_estimators: 1\n",
      "f1_Score: 0.564, fit_time: 0.235, depth: 11, n_estimators: 31\n",
      "f1_Score: 0.572, fit_time: 0.303, depth: 11, n_estimators: 61\n",
      "f1_Score: 0.576, fit_time: 0.439, depth: 11, n_estimators: 91\n",
      "f1_Score: 0.508, fit_time: 0.008, depth: 14, n_estimators: 1\n",
      "f1_Score: 0.579, fit_time: 0.165, depth: 14, n_estimators: 31\n",
      "f1_Score: 0.567, fit_time: 0.345, depth: 14, n_estimators: 61\n",
      "f1_Score: 0.565, fit_time: 0.512, depth: 14, n_estimators: 91\n",
      "f1_Score: 0.506, fit_time: 0.008, depth: 17, n_estimators: 1\n",
      "f1_Score: 0.585, fit_time: 0.170, depth: 17, n_estimators: 31\n",
      "f1_Score: 0.575, fit_time: 0.369, depth: 17, n_estimators: 61\n",
      "f1_Score: 0.589, fit_time: 0.513, depth: 17, n_estimators: 91\n",
      "============================================================\n",
      "найдена лучшая модель: f1_Score: 0.589\n",
      " RandomForestClassifier(max_depth=17, n_estimators=91, random_state=12345)\n"
     ]
    }
   ],
   "source": [
    "search_hyperparameters(None, features_train, target_train)"
   ]
  },
  {
   "cell_type": "markdown",
   "metadata": {},
   "source": [
    "**Подбираем гиперпараметрами лучшую модель с балансированными классами (class_weight='balanced')**"
   ]
  },
  {
   "cell_type": "code",
   "execution_count": 45,
   "metadata": {
    "scrolled": false
   },
   "outputs": [
    {
     "name": "stdout",
     "output_type": "stream",
     "text": [
      "f1_Score: 0.402, fit_time: 0.008, depth: 2, n_estimators: 1\n",
      "f1_Score: 0.564, fit_time: 0.109, depth: 2, n_estimators: 31\n",
      "f1_Score: 0.568, fit_time: 0.155, depth: 2, n_estimators: 61\n",
      "f1_Score: 0.576, fit_time: 0.240, depth: 2, n_estimators: 91\n",
      "f1_Score: 0.523, fit_time: 0.009, depth: 5, n_estimators: 1\n",
      "f1_Score: 0.610, fit_time: 0.115, depth: 5, n_estimators: 31\n",
      "f1_Score: 0.613, fit_time: 0.211, depth: 5, n_estimators: 61\n",
      "f1_Score: 0.606, fit_time: 0.309, depth: 5, n_estimators: 91\n",
      "f1_Score: 0.555, fit_time: 0.008, depth: 8, n_estimators: 1\n",
      "f1_Score: 0.626, fit_time: 0.143, depth: 8, n_estimators: 31\n",
      "f1_Score: 0.624, fit_time: 0.292, depth: 8, n_estimators: 61\n",
      "f1_Score: 0.628, fit_time: 0.586, depth: 8, n_estimators: 91\n",
      "f1_Score: 0.503, fit_time: 0.008, depth: 11, n_estimators: 1\n",
      "f1_Score: 0.597, fit_time: 0.189, depth: 11, n_estimators: 31\n",
      "f1_Score: 0.619, fit_time: 0.381, depth: 11, n_estimators: 61\n",
      "f1_Score: 0.622, fit_time: 0.468, depth: 11, n_estimators: 91\n",
      "f1_Score: 0.473, fit_time: 0.011, depth: 14, n_estimators: 1\n",
      "f1_Score: 0.576, fit_time: 0.196, depth: 14, n_estimators: 31\n",
      "f1_Score: 0.592, fit_time: 0.354, depth: 14, n_estimators: 61\n",
      "f1_Score: 0.595, fit_time: 0.535, depth: 14, n_estimators: 91\n",
      "f1_Score: 0.475, fit_time: 0.009, depth: 17, n_estimators: 1\n",
      "f1_Score: 0.573, fit_time: 0.170, depth: 17, n_estimators: 31\n",
      "f1_Score: 0.588, fit_time: 0.357, depth: 17, n_estimators: 61\n",
      "f1_Score: 0.581, fit_time: 0.618, depth: 17, n_estimators: 91\n",
      "============================================================\n",
      "найдена лучшая модель: f1_Score: 0.628\n",
      " RandomForestClassifier(class_weight='balanced', max_depth=8, n_estimators=91,\n",
      "                       random_state=12345)\n"
     ]
    }
   ],
   "source": [
    "search_hyperparameters('balanced', features_train, target_train)"
   ]
  },
  {
   "cell_type": "markdown",
   "metadata": {},
   "source": [
    "Лучшая модель с одинаковыми гиперпараметрими:"
   ]
  },
  {
   "cell_type": "code",
   "execution_count": 46,
   "metadata": {},
   "outputs": [
    {
     "name": "stdout",
     "output_type": "stream",
     "text": [
      "Лучшая модель с одинаковыми гиперпараметрими: f1_Score: 0.628\n",
      " RandomForestClassifier(class_weight='balanced', max_depth=8, n_estimators=91,\n",
      "                       random_state=12345)\n"
     ]
    }
   ],
   "source": [
    "print('Лучшая модель с одинаковыми гиперпараметрими: f1_Score: {:.3f}\\n'.format(best_F1_score), best_train_model)"
   ]
  },
  {
   "cell_type": "markdown",
   "metadata": {},
   "source": [
    "### Итог\n",
    "Использование взвешивания классов улучшает модель."
   ]
  },
  {
   "cell_type": "markdown",
   "metadata": {},
   "source": [
    "### Увеличение выборки"
   ]
  },
  {
   "cell_type": "markdown",
   "metadata": {},
   "source": [
    "Еще раз взглянем на баланс классов целевого признака"
   ]
  },
  {
   "cell_type": "code",
   "execution_count": 47,
   "metadata": {},
   "outputs": [
    {
     "name": "stderr",
     "output_type": "stream",
     "text": [
      "c:\\program files (x86)\\microsoft visual studio\\shared\\python37_64\\lib\\site-packages\\seaborn\\_decorators.py:43: FutureWarning: Pass the following variable as a keyword arg: x. From version 0.12, the only valid positional argument will be `data`, and passing other arguments without an explicit keyword will result in an error or misinterpretation.\n",
      "  FutureWarning\n"
     ]
    },
    {
     "data": {
      "text/plain": [
       "<AxesSubplot:xlabel='Exited', ylabel='count'>"
      ]
     },
     "execution_count": 47,
     "metadata": {},
     "output_type": "execute_result"
    },
    {
     "data": {
      "image/png": "[encoded data removed]",
      "text/plain": [
       "<Figure size 432x288 with 1 Axes>"
      ]
     },
     "metadata": {},
     "output_type": "display_data"
    }
   ],
   "source": [
    "sns.countplot(target_train )"
   ]
  },
  {
   "cell_type": "code",
   "execution_count": 48,
   "metadata": {},
   "outputs": [],
   "source": [
    "def upsample(features, target, repeat):\n",
    "    features_zeros = features[target == 0]\n",
    "    features_ones = features[target == 1]\n",
    "    target_zeros = target[target == 0]\n",
    "    target_ones = target[target == 1]\n",
    "\n",
    "    features_upsampled = pd.concat([features_zeros] + [features_ones] * repeat)\n",
    "    target_upsampled = pd.concat([target_zeros] + [target_ones] * repeat)\n",
    "    \n",
    "    features_upsampled, target_upsampled = shuffle(\n",
    "        features_upsampled, target_upsampled, random_state=12345)\n",
    "    \n",
    "    return features_upsampled, target_upsampled\n",
    "\n",
    "features_upsampled, target_upsampled = upsample(features_train, target_train, 4)"
   ]
  },
  {
   "cell_type": "code",
   "execution_count": 49,
   "metadata": {},
   "outputs": [
    {
     "name": "stdout",
     "output_type": "stream",
     "text": [
      "features_upsampled: 9588\n",
      "features_train size: 6000\n",
      "features_valid size: 2000\n"
     ]
    },
    {
     "name": "stderr",
     "output_type": "stream",
     "text": [
      "c:\\program files (x86)\\microsoft visual studio\\shared\\python37_64\\lib\\site-packages\\seaborn\\_decorators.py:43: FutureWarning: Pass the following variable as a keyword arg: x. From version 0.12, the only valid positional argument will be `data`, and passing other arguments without an explicit keyword will result in an error or misinterpretation.\n",
      "  FutureWarning\n"
     ]
    },
    {
     "data": {
      "text/plain": [
       "<AxesSubplot:xlabel='Exited', ylabel='count'>"
      ]
     },
     "execution_count": 49,
     "metadata": {},
     "output_type": "execute_result"
    },
    {
     "data": {
      "image/png": "[encoded data removed]",
      "text/plain": [
       "<Figure size 432x288 with 1 Axes>"
      ]
     },
     "metadata": {},
     "output_type": "display_data"
    }
   ],
   "source": [
    "print('features_upsampled:', features_upsampled.shape[0])\n",
    "print('features_train size:', features_train.shape[0])\n",
    "print('features_valid size:', features_valid.shape[0])\n",
    "sns.countplot(target_upsampled)"
   ]
  },
  {
   "cell_type": "code",
   "execution_count": 50,
   "metadata": {},
   "outputs": [
    {
     "name": "stdout",
     "output_type": "stream",
     "text": [
      "f1_Score: 0.402, fit_time: 0.009, depth: 2, n_estimators: 1\n",
      "f1_Score: 0.551, fit_time: 0.108, depth: 2, n_estimators: 31\n",
      "f1_Score: 0.557, fit_time: 0.180, depth: 2, n_estimators: 61\n",
      "f1_Score: 0.559, fit_time: 0.262, depth: 2, n_estimators: 91\n",
      "f1_Score: 0.553, fit_time: 0.009, depth: 5, n_estimators: 1\n",
      "f1_Score: 0.601, fit_time: 0.137, depth: 5, n_estimators: 31\n",
      "f1_Score: 0.605, fit_time: 0.453, depth: 5, n_estimators: 61\n",
      "f1_Score: 0.600, fit_time: 0.472, depth: 5, n_estimators: 91\n",
      "f1_Score: 0.547, fit_time: 0.016, depth: 8, n_estimators: 1\n",
      "f1_Score: 0.619, fit_time: 0.234, depth: 8, n_estimators: 31\n",
      "f1_Score: 0.621, fit_time: 0.407, depth: 8, n_estimators: 61\n",
      "f1_Score: 0.623, fit_time: 0.570, depth: 8, n_estimators: 91\n",
      "f1_Score: 0.540, fit_time: 0.011, depth: 11, n_estimators: 1\n",
      "f1_Score: 0.624, fit_time: 0.220, depth: 11, n_estimators: 31\n",
      "f1_Score: 0.619, fit_time: 0.439, depth: 11, n_estimators: 61\n",
      "f1_Score: 0.619, fit_time: 0.644, depth: 11, n_estimators: 91\n",
      "f1_Score: 0.505, fit_time: 0.015, depth: 14, n_estimators: 1\n",
      "f1_Score: 0.613, fit_time: 0.262, depth: 14, n_estimators: 31\n",
      "f1_Score: 0.622, fit_time: 0.496, depth: 14, n_estimators: 61\n",
      "f1_Score: 0.623, fit_time: 0.696, depth: 14, n_estimators: 91\n",
      "f1_Score: 0.524, fit_time: 0.012, depth: 17, n_estimators: 1\n",
      "f1_Score: 0.612, fit_time: 0.348, depth: 17, n_estimators: 31\n",
      "f1_Score: 0.615, fit_time: 0.634, depth: 17, n_estimators: 61\n",
      "f1_Score: 0.606, fit_time: 0.746, depth: 17, n_estimators: 91\n",
      "============================================================\n",
      "Лучшего результата нет\n"
     ]
    }
   ],
   "source": [
    "search_hyperparameters('balanced', features_upsampled, target_upsampled)"
   ]
  },
  {
   "cell_type": "markdown",
   "metadata": {},
   "source": [
    "### Уменьшение выборки"
   ]
  },
  {
   "cell_type": "code",
   "execution_count": 51,
   "metadata": {},
   "outputs": [],
   "source": [
    "def downsample(features, target, fraction):\n",
    "    features_zeros = features[target == 0]\n",
    "    features_ones = features[target == 1]\n",
    "    target_zeros = target[target == 0]\n",
    "    target_ones = target[target == 1]\n",
    "\n",
    "    features_downsampled = pd.concat(\n",
    "        [features_zeros.sample(frac=fraction, random_state=12345)] + [features_ones])\n",
    "    target_downsampled = pd.concat(\n",
    "        [target_zeros.sample(frac=fraction, random_state=12345)] + [target_ones])\n",
    "    \n",
    "    features_downsampled, target_downsampled = shuffle(\n",
    "        features_downsampled, target_downsampled, random_state=12345)\n",
    "    \n",
    "    return features_downsampled, target_downsampled\n",
    "\n",
    "features_downsampled, target_downsampled = downsample(features_train, target_train, 0.25)"
   ]
  },
  {
   "cell_type": "code",
   "execution_count": 52,
   "metadata": {},
   "outputs": [
    {
     "name": "stdout",
     "output_type": "stream",
     "text": [
      "target_downsampled: 2397\n",
      "features_train size: 6000\n",
      "features_valid size: 2000\n"
     ]
    },
    {
     "name": "stderr",
     "output_type": "stream",
     "text": [
      "c:\\program files (x86)\\microsoft visual studio\\shared\\python37_64\\lib\\site-packages\\seaborn\\_decorators.py:43: FutureWarning: Pass the following variable as a keyword arg: x. From version 0.12, the only valid positional argument will be `data`, and passing other arguments without an explicit keyword will result in an error or misinterpretation.\n",
      "  FutureWarning\n"
     ]
    },
    {
     "data": {
      "image/png": "[encoded data removed]",
      "text/plain": [
       "<Figure size 432x288 with 1 Axes>"
      ]
     },
     "metadata": {},
     "output_type": "display_data"
    }
   ],
   "source": [
    "sns.countplot(target_downsampled)\n",
    "print('target_downsampled:', target_downsampled.shape[0])\n",
    "print('features_train size:', features_train.shape[0])\n",
    "print('features_valid size:', features_valid.shape[0])"
   ]
  },
  {
   "cell_type": "code",
   "execution_count": 53,
   "metadata": {},
   "outputs": [
    {
     "name": "stdout",
     "output_type": "stream",
     "text": [
      "f1_Score: 0.402, fit_time: 0.005, depth: 2, n_estimators: 1\n",
      "f1_Score: 0.551, fit_time: 0.058, depth: 2, n_estimators: 31\n",
      "f1_Score: 0.558, fit_time: 0.104, depth: 2, n_estimators: 61\n",
      "f1_Score: 0.564, fit_time: 0.154, depth: 2, n_estimators: 91\n",
      "f1_Score: 0.516, fit_time: 0.005, depth: 5, n_estimators: 1\n",
      "f1_Score: 0.585, fit_time: 0.071, depth: 5, n_estimators: 31\n",
      "f1_Score: 0.581, fit_time: 0.111, depth: 5, n_estimators: 61\n",
      "f1_Score: 0.584, fit_time: 0.175, depth: 5, n_estimators: 91\n",
      "f1_Score: 0.555, fit_time: 0.007, depth: 8, n_estimators: 1\n",
      "f1_Score: 0.606, fit_time: 0.075, depth: 8, n_estimators: 31\n",
      "f1_Score: 0.604, fit_time: 0.155, depth: 8, n_estimators: 61\n",
      "f1_Score: 0.606, fit_time: 0.217, depth: 8, n_estimators: 91\n",
      "f1_Score: 0.502, fit_time: 0.006, depth: 11, n_estimators: 1\n",
      "f1_Score: 0.576, fit_time: 0.091, depth: 11, n_estimators: 31\n",
      "f1_Score: 0.573, fit_time: 0.179, depth: 11, n_estimators: 61\n",
      "f1_Score: 0.577, fit_time: 0.244, depth: 11, n_estimators: 91\n",
      "f1_Score: 0.466, fit_time: 0.006, depth: 14, n_estimators: 1\n",
      "f1_Score: 0.568, fit_time: 0.087, depth: 14, n_estimators: 31\n",
      "f1_Score: 0.585, fit_time: 0.172, depth: 14, n_estimators: 61\n",
      "f1_Score: 0.582, fit_time: 0.257, depth: 14, n_estimators: 91\n",
      "f1_Score: 0.473, fit_time: 0.006, depth: 17, n_estimators: 1\n",
      "f1_Score: 0.561, fit_time: 0.089, depth: 17, n_estimators: 31\n",
      "f1_Score: 0.574, fit_time: 0.183, depth: 17, n_estimators: 61\n",
      "f1_Score: 0.574, fit_time: 0.262, depth: 17, n_estimators: 91\n",
      "============================================================\n",
      "Лучшего результата нет\n"
     ]
    }
   ],
   "source": [
    "search_hyperparameters('balanced', features_downsampled, target_downsampled)"
   ]
  },
  {
   "cell_type": "markdown",
   "metadata": {},
   "source": [
    "### Итог  \n"
   ]
  },
  {
   "cell_type": "code",
   "execution_count": 54,
   "metadata": {},
   "outputs": [
    {
     "name": "stdout",
     "output_type": "stream",
     "text": [
      "Лучшая модель: f1_Score: 0.628\n",
      " RandomForestClassifier(class_weight='balanced', max_depth=8, n_estimators=91,\n",
      "                       random_state=12345)\n"
     ]
    }
   ],
   "source": [
    "print('Лучшая модель: f1_Score: {:.3f}\\n'.format(best_F1_score), best_train_model)"
   ]
  },
  {
   "cell_type": "markdown",
   "metadata": {},
   "source": [
    "## Вывод\n",
    "Использование взвешивания классов улучшает модель. Изменение выборки улучшение модели не показало."
   ]
  },
  {
   "cell_type": "markdown",
   "metadata": {},
   "source": [
    "# 6. Тестирование модели"
   ]
  },
  {
   "cell_type": "markdown",
   "metadata": {},
   "source": [
    "**Проводим предсказание и измерение на тестовом датасете**"
   ]
  },
  {
   "cell_type": "code",
   "execution_count": 55,
   "metadata": {},
   "outputs": [
    {
     "name": "stdout",
     "output_type": "stream",
     "text": [
      "Accuracy:0.817\n",
      "Precission: 0.554\n",
      "Recall: 0.676\n",
      "F1_Score: 0.609\n"
     ]
    },
    {
     "data": {
      "text/plain": [
       "array([[1347,  230],\n",
       "       [ 137,  286]], dtype=int64)"
      ]
     },
     "execution_count": 55,
     "metadata": {},
     "output_type": "execute_result"
    }
   ],
   "source": [
    "predicted_test = best_train_model.predict(features_test)\n",
    "score_pack(predicted_test, target_test)"
   ]
  },
  {
   "cell_type": "markdown",
   "metadata": {},
   "source": [
    "**Объединим обучающую и валидационную выборки. Обучим модель на объединенном датасете**"
   ]
  },
  {
   "cell_type": "code",
   "execution_count": 56,
   "metadata": {},
   "outputs": [
    {
     "name": "stdout",
     "output_type": "stream",
     "text": [
      "Accuracy:0.826\n",
      "Precission: 0.573\n",
      "Recall: 0.690\n",
      "F1_Score: 0.626\n"
     ]
    },
    {
     "data": {
      "text/plain": [
       "array([[1359,  218],\n",
       "       [ 131,  292]], dtype=int64)"
      ]
     },
     "execution_count": 56,
     "metadata": {},
     "output_type": "execute_result"
    }
   ],
   "source": [
    "final_features = pd.concat([features_train]+[features_valid])\n",
    "final_target = pd.concat([target_train]+[target_valid])\n",
    "\n",
    "\n",
    "best_train_model.fit(final_features, final_target)\n",
    "predicted_test = best_train_model.predict(features_test)\n",
    "score_pack(predicted_test, target_test)"
   ]
  },
  {
   "cell_type": "markdown",
   "metadata": {},
   "source": [
    "**Исследуем метрику AUC-ROC. Строим график.**"
   ]
  },
  {
   "cell_type": "code",
   "execution_count": 57,
   "metadata": {},
   "outputs": [
    {
     "data": {
      "image/png": "[encoded data removed]",
      "text/plain": [
       "<Figure size 576x432 with 1 Axes>"
      ]
     },
     "metadata": {},
     "output_type": "display_data"
    }
   ],
   "source": [
    "\n",
    "plt.figure(figsize=(8,6))\n",
    "probabilities = best_train_model.predict_proba(features_test)\n",
    "fpr, tpr, thresholds = roc_curve(target_test, probabilities[:, 1])\n",
    "roc_auc  = auc(fpr, tpr)\n",
    "plt.plot(fpr, tpr, label='{} ROC (AUC = {:.2f})'.format('RandomForestClassifier',roc_auc))\n",
    "\n",
    "plt.plot([0, 1], [0, 1], 'k--')\n",
    "plt.xlim([0.0, 1.0])\n",
    "plt.ylim([0.0, 1.0])\n",
    "plt.grid(True)\n",
    "plt.xlabel('False Positive Rate')\n",
    "plt.ylabel('True Positive Rate')\n",
    "plt.legend(loc=0, fontsize='12')\n",
    "plt.show()"
   ]
  },
  {
   "cell_type": "markdown",
   "metadata": {},
   "source": [
    "## Вывод \n",
    "Удалось достичь F1-меры не менее 0.59. Использование взвешивания классов позволило улучшить модель. Изменение выборки \n",
    "upsampling и downsampling положительных результатов не показало. Обучение на объединенном датасете позволо улучшить модель. \n",
    "\n",
    "Площадь под ROC-кривой показывает как сильно модель отличается от случайной. AUC-ROC нашей модели равна 0.86. AUC-ROC случайной модели равна 0.5."
   ]
  }
 ],
 "metadata": {
  "kernelspec": {
   "display_name": "Python 3",
   "language": "python",
   "name": "python3"
  },
  "language_info": {
   "codemirror_mode": {
    "name": "ipython",
    "version": 3
   },
   "file_extension": ".py",
   "mimetype": "text/x-python",
   "name": "python",
   "nbconvert_exporter": "python",
   "pygments_lexer": "ipython3",
   "version": "3.7.5"
  }
 },
 "nbformat": 4,
 "nbformat_minor": 2
}
