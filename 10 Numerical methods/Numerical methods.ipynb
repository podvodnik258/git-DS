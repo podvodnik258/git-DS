{
 "cells": [
  {
   "cell_type": "markdown",
   "metadata": {},
   "source": [
    "## План проекта"
   ]
  },
  {
   "cell_type": "markdown",
   "metadata": {},
   "source": [
    "1 [Подготовка данных](#1)\n",
    "\n",
    "- 1.1 [Просмотр данных](#1.1)\n",
    "- 1.2 [Изучение целевого признака](#1.2)\n",
    "- 1.3 [Добавление признаков](#1.3)\n",
    "- 1.4 [Обработка выбросов](#1.4)\n",
    "- 1.5 [Отброс ненужных признаков](#1.5)\n",
    "- 1.6 [Обработка пропусков](#1.6)\n",
    "- 1.7 [Обработка дубликатов](#1.7)\n",
    "Замена типов данных\n",
    "- 1.8 [Кодирование категориальных признаков](#1.8)\n",
    "- 1.9 [Выделение целевого признака](#1.9)\n",
    "- 1.10 [Деление выборки](#1.10)\n",
    "\n",
    "2 [Обучение моделей](#2)\n",
    "- 2.1 [Метрика](#2.1)\n",
    "- 2.2 [Масштабирование признаков](#2.2)\n",
    "- 2.3 [Обучение базовой модели](#2.3)\n",
    "- 2.4 [Оптимизация гиперпараметров](#2.4)\n",
    "- 2.5 [Тестирование моделей](#2.5)\n",
    "- 2.6 [Проверка моделей на адекватность](#2.6)\n",
    "\n",
    "3 [Анализ моделей](#3)\n"
   ]
  },
  {
   "cell_type": "code",
   "execution_count": 1,
   "metadata": {},
   "outputs": [],
   "source": [
    "import numpy as np\n",
    "import pandas as pd\n",
    "import seaborn as sns\n",
    "import matplotlib.pyplot as plt\n",
    "from sklearn.preprocessing import OneHotEncoder\n",
    "import lightgbm as lgb\n",
    "from catboost import Pool, CatBoostRegressor\n",
    "from timeit import default_timer as timer\n",
    "\n",
    "from sklearn.ensemble import RandomForestRegressor\n",
    "from sklearn.linear_model import LinearRegression\n",
    "from sklearn.tree import DecisionTreeRegressor\n",
    "from sklearn.preprocessing import StandardScaler\n",
    "from sklearn.metrics import (accuracy_score, \n",
    "                             mean_squared_error,\n",
    "                             make_scorer\n",
    "                            )\n",
    "from sklearn.model_selection import (train_test_split,\n",
    "                                    RandomizedSearchCV, \n",
    "                                    GridSearchCV)\n",
    "sns.set(color_codes=True)\n"
   ]
  },
  {
   "cell_type": "markdown",
   "metadata": {},
   "source": [
    "# 1. Подготовка данных<a id=\"1\"></a>"
   ]
  },
  {
   "cell_type": "markdown",
   "metadata": {},
   "source": [
    "### Просмотр данных<a id=\"1.1\"></a>"
   ]
  },
  {
   "cell_type": "code",
   "execution_count": 2,
   "metadata": {},
   "outputs": [],
   "source": [
    "def missing_data(data):\n",
    "    total = data.isnull().sum().sort_values(ascending = False)\n",
    "    percent = (data.isnull().sum()/data.isnull().count()*100).sort_values(ascending = False)\n",
    "    return pd.concat([total, percent], axis=1, keys=['Total', 'Percent'])"
   ]
  },
  {
   "cell_type": "code",
   "execution_count": 3,
   "metadata": {},
   "outputs": [],
   "source": [
    "data = pd.read_csv('/datasets/autos.csv')"
   ]
  },
  {
   "cell_type": "code",
   "execution_count": 4,
   "metadata": {},
   "outputs": [
    {
     "name": "stdout",
     "output_type": "stream",
     "text": [
      "========== Info ==========\n",
      "<class 'pandas.core.frame.DataFrame'>\n",
      "RangeIndex: 354369 entries, 0 to 354368\n",
      "Data columns (total 16 columns):\n",
      "DateCrawled          354369 non-null object\n",
      "Price                354369 non-null int64\n",
      "VehicleType          316879 non-null object\n",
      "RegistrationYear     354369 non-null int64\n",
      "Gearbox              334536 non-null object\n",
      "Power                354369 non-null int64\n",
      "Model                334664 non-null object\n",
      "Kilometer            354369 non-null int64\n",
      "RegistrationMonth    354369 non-null int64\n",
      "FuelType             321474 non-null object\n",
      "Brand                354369 non-null object\n",
      "NotRepaired          283215 non-null object\n",
      "DateCreated          354369 non-null object\n",
      "NumberOfPictures     354369 non-null int64\n",
      "PostalCode           354369 non-null int64\n",
      "LastSeen             354369 non-null object\n",
      "dtypes: int64(7), object(9)\n",
      "memory usage: 43.3+ MB\n"
     ]
    },
    {
     "data": {
      "text/plain": [
       "None"
      ]
     },
     "metadata": {},
     "output_type": "display_data"
    },
    {
     "name": "stdout",
     "output_type": "stream",
     "text": [
      "========== missing data ==========\n"
     ]
    },
    {
     "data": {
      "text/html": [
       "<div>\n",
       "<style scoped>\n",
       "    .dataframe tbody tr th:only-of-type {\n",
       "        vertical-align: middle;\n",
       "    }\n",
       "\n",
       "    .dataframe tbody tr th {\n",
       "        vertical-align: top;\n",
       "    }\n",
       "\n",
       "    .dataframe thead th {\n",
       "        text-align: right;\n",
       "    }\n",
       "</style>\n",
       "<table border=\"1\" class=\"dataframe\">\n",
       "  <thead>\n",
       "    <tr style=\"text-align: right;\">\n",
       "      <th></th>\n",
       "      <th>Total</th>\n",
       "      <th>Percent</th>\n",
       "    </tr>\n",
       "  </thead>\n",
       "  <tbody>\n",
       "    <tr>\n",
       "      <td>NotRepaired</td>\n",
       "      <td>71154</td>\n",
       "      <td>20.079070</td>\n",
       "    </tr>\n",
       "    <tr>\n",
       "      <td>VehicleType</td>\n",
       "      <td>37490</td>\n",
       "      <td>10.579368</td>\n",
       "    </tr>\n",
       "    <tr>\n",
       "      <td>FuelType</td>\n",
       "      <td>32895</td>\n",
       "      <td>9.282697</td>\n",
       "    </tr>\n",
       "    <tr>\n",
       "      <td>Gearbox</td>\n",
       "      <td>19833</td>\n",
       "      <td>5.596709</td>\n",
       "    </tr>\n",
       "    <tr>\n",
       "      <td>Model</td>\n",
       "      <td>19705</td>\n",
       "      <td>5.560588</td>\n",
       "    </tr>\n",
       "    <tr>\n",
       "      <td>LastSeen</td>\n",
       "      <td>0</td>\n",
       "      <td>0.000000</td>\n",
       "    </tr>\n",
       "    <tr>\n",
       "      <td>PostalCode</td>\n",
       "      <td>0</td>\n",
       "      <td>0.000000</td>\n",
       "    </tr>\n",
       "    <tr>\n",
       "      <td>NumberOfPictures</td>\n",
       "      <td>0</td>\n",
       "      <td>0.000000</td>\n",
       "    </tr>\n",
       "    <tr>\n",
       "      <td>DateCreated</td>\n",
       "      <td>0</td>\n",
       "      <td>0.000000</td>\n",
       "    </tr>\n",
       "    <tr>\n",
       "      <td>Brand</td>\n",
       "      <td>0</td>\n",
       "      <td>0.000000</td>\n",
       "    </tr>\n",
       "    <tr>\n",
       "      <td>RegistrationMonth</td>\n",
       "      <td>0</td>\n",
       "      <td>0.000000</td>\n",
       "    </tr>\n",
       "    <tr>\n",
       "      <td>Kilometer</td>\n",
       "      <td>0</td>\n",
       "      <td>0.000000</td>\n",
       "    </tr>\n",
       "    <tr>\n",
       "      <td>Power</td>\n",
       "      <td>0</td>\n",
       "      <td>0.000000</td>\n",
       "    </tr>\n",
       "    <tr>\n",
       "      <td>RegistrationYear</td>\n",
       "      <td>0</td>\n",
       "      <td>0.000000</td>\n",
       "    </tr>\n",
       "    <tr>\n",
       "      <td>Price</td>\n",
       "      <td>0</td>\n",
       "      <td>0.000000</td>\n",
       "    </tr>\n",
       "    <tr>\n",
       "      <td>DateCrawled</td>\n",
       "      <td>0</td>\n",
       "      <td>0.000000</td>\n",
       "    </tr>\n",
       "  </tbody>\n",
       "</table>\n",
       "</div>"
      ],
      "text/plain": [
       "                   Total    Percent\n",
       "NotRepaired        71154  20.079070\n",
       "VehicleType        37490  10.579368\n",
       "FuelType           32895   9.282697\n",
       "Gearbox            19833   5.596709\n",
       "Model              19705   5.560588\n",
       "LastSeen               0   0.000000\n",
       "PostalCode             0   0.000000\n",
       "NumberOfPictures       0   0.000000\n",
       "DateCreated            0   0.000000\n",
       "Brand                  0   0.000000\n",
       "RegistrationMonth      0   0.000000\n",
       "Kilometer              0   0.000000\n",
       "Power                  0   0.000000\n",
       "RegistrationYear       0   0.000000\n",
       "Price                  0   0.000000\n",
       "DateCrawled            0   0.000000"
      ]
     },
     "metadata": {},
     "output_type": "display_data"
    },
    {
     "name": "stdout",
     "output_type": "stream",
     "text": [
      "========== duplicated ==========\n"
     ]
    },
    {
     "data": {
      "text/plain": [
       "4"
      ]
     },
     "metadata": {},
     "output_type": "display_data"
    },
    {
     "name": "stdout",
     "output_type": "stream",
     "text": [
      "========== describe ==========\n"
     ]
    },
    {
     "data": {
      "text/html": [
       "<div>\n",
       "<style scoped>\n",
       "    .dataframe tbody tr th:only-of-type {\n",
       "        vertical-align: middle;\n",
       "    }\n",
       "\n",
       "    .dataframe tbody tr th {\n",
       "        vertical-align: top;\n",
       "    }\n",
       "\n",
       "    .dataframe thead th {\n",
       "        text-align: right;\n",
       "    }\n",
       "</style>\n",
       "<table border=\"1\" class=\"dataframe\">\n",
       "  <thead>\n",
       "    <tr style=\"text-align: right;\">\n",
       "      <th></th>\n",
       "      <th>count</th>\n",
       "      <th>mean</th>\n",
       "      <th>std</th>\n",
       "      <th>min</th>\n",
       "      <th>25%</th>\n",
       "      <th>50%</th>\n",
       "      <th>75%</th>\n",
       "      <th>max</th>\n",
       "    </tr>\n",
       "  </thead>\n",
       "  <tbody>\n",
       "    <tr>\n",
       "      <td>Price</td>\n",
       "      <td>354369.0</td>\n",
       "      <td>4416.656776</td>\n",
       "      <td>4514.158514</td>\n",
       "      <td>0.0</td>\n",
       "      <td>1050.0</td>\n",
       "      <td>2700.0</td>\n",
       "      <td>6400.0</td>\n",
       "      <td>20000.0</td>\n",
       "    </tr>\n",
       "    <tr>\n",
       "      <td>RegistrationYear</td>\n",
       "      <td>354369.0</td>\n",
       "      <td>2004.234448</td>\n",
       "      <td>90.227958</td>\n",
       "      <td>1000.0</td>\n",
       "      <td>1999.0</td>\n",
       "      <td>2003.0</td>\n",
       "      <td>2008.0</td>\n",
       "      <td>9999.0</td>\n",
       "    </tr>\n",
       "    <tr>\n",
       "      <td>Power</td>\n",
       "      <td>354369.0</td>\n",
       "      <td>110.094337</td>\n",
       "      <td>189.850405</td>\n",
       "      <td>0.0</td>\n",
       "      <td>69.0</td>\n",
       "      <td>105.0</td>\n",
       "      <td>143.0</td>\n",
       "      <td>20000.0</td>\n",
       "    </tr>\n",
       "    <tr>\n",
       "      <td>Kilometer</td>\n",
       "      <td>354369.0</td>\n",
       "      <td>128211.172535</td>\n",
       "      <td>37905.341530</td>\n",
       "      <td>5000.0</td>\n",
       "      <td>125000.0</td>\n",
       "      <td>150000.0</td>\n",
       "      <td>150000.0</td>\n",
       "      <td>150000.0</td>\n",
       "    </tr>\n",
       "    <tr>\n",
       "      <td>RegistrationMonth</td>\n",
       "      <td>354369.0</td>\n",
       "      <td>5.714645</td>\n",
       "      <td>3.726421</td>\n",
       "      <td>0.0</td>\n",
       "      <td>3.0</td>\n",
       "      <td>6.0</td>\n",
       "      <td>9.0</td>\n",
       "      <td>12.0</td>\n",
       "    </tr>\n",
       "    <tr>\n",
       "      <td>NumberOfPictures</td>\n",
       "      <td>354369.0</td>\n",
       "      <td>0.000000</td>\n",
       "      <td>0.000000</td>\n",
       "      <td>0.0</td>\n",
       "      <td>0.0</td>\n",
       "      <td>0.0</td>\n",
       "      <td>0.0</td>\n",
       "      <td>0.0</td>\n",
       "    </tr>\n",
       "    <tr>\n",
       "      <td>PostalCode</td>\n",
       "      <td>354369.0</td>\n",
       "      <td>50508.689087</td>\n",
       "      <td>25783.096248</td>\n",
       "      <td>1067.0</td>\n",
       "      <td>30165.0</td>\n",
       "      <td>49413.0</td>\n",
       "      <td>71083.0</td>\n",
       "      <td>99998.0</td>\n",
       "    </tr>\n",
       "  </tbody>\n",
       "</table>\n",
       "</div>"
      ],
      "text/plain": [
       "                      count           mean           std     min       25%  \\\n",
       "Price              354369.0    4416.656776   4514.158514     0.0    1050.0   \n",
       "RegistrationYear   354369.0    2004.234448     90.227958  1000.0    1999.0   \n",
       "Power              354369.0     110.094337    189.850405     0.0      69.0   \n",
       "Kilometer          354369.0  128211.172535  37905.341530  5000.0  125000.0   \n",
       "RegistrationMonth  354369.0       5.714645      3.726421     0.0       3.0   \n",
       "NumberOfPictures   354369.0       0.000000      0.000000     0.0       0.0   \n",
       "PostalCode         354369.0   50508.689087  25783.096248  1067.0   30165.0   \n",
       "\n",
       "                        50%       75%       max  \n",
       "Price                2700.0    6400.0   20000.0  \n",
       "RegistrationYear     2003.0    2008.0    9999.0  \n",
       "Power                 105.0     143.0   20000.0  \n",
       "Kilometer          150000.0  150000.0  150000.0  \n",
       "RegistrationMonth       6.0       9.0      12.0  \n",
       "NumberOfPictures        0.0       0.0       0.0  \n",
       "PostalCode          49413.0   71083.0   99998.0  "
      ]
     },
     "metadata": {},
     "output_type": "display_data"
    },
    {
     "name": "stdout",
     "output_type": "stream",
     "text": [
      "========== inspection ==========\n"
     ]
    },
    {
     "data": {
      "text/html": [
       "<div>\n",
       "<style scoped>\n",
       "    .dataframe tbody tr th:only-of-type {\n",
       "        vertical-align: middle;\n",
       "    }\n",
       "\n",
       "    .dataframe tbody tr th {\n",
       "        vertical-align: top;\n",
       "    }\n",
       "\n",
       "    .dataframe thead th {\n",
       "        text-align: right;\n",
       "    }\n",
       "</style>\n",
       "<table border=\"1\" class=\"dataframe\">\n",
       "  <thead>\n",
       "    <tr style=\"text-align: right;\">\n",
       "      <th></th>\n",
       "      <th>0</th>\n",
       "      <th>1</th>\n",
       "      <th>2</th>\n",
       "      <th>3</th>\n",
       "      <th>4</th>\n",
       "      <th>5</th>\n",
       "      <th>6</th>\n",
       "      <th>7</th>\n",
       "      <th>8</th>\n",
       "      <th>9</th>\n",
       "    </tr>\n",
       "  </thead>\n",
       "  <tbody>\n",
       "    <tr>\n",
       "      <td>DateCrawled</td>\n",
       "      <td>2016-03-24 11:52:17</td>\n",
       "      <td>2016-03-24 10:58:45</td>\n",
       "      <td>2016-03-14 12:52:21</td>\n",
       "      <td>2016-03-17 16:54:04</td>\n",
       "      <td>2016-03-31 17:25:20</td>\n",
       "      <td>2016-04-04 17:36:23</td>\n",
       "      <td>2016-04-01 20:48:51</td>\n",
       "      <td>2016-03-21 18:54:38</td>\n",
       "      <td>2016-04-04 23:42:13</td>\n",
       "      <td>2016-03-17 10:53:50</td>\n",
       "    </tr>\n",
       "    <tr>\n",
       "      <td>Price</td>\n",
       "      <td>480</td>\n",
       "      <td>18300</td>\n",
       "      <td>9800</td>\n",
       "      <td>1500</td>\n",
       "      <td>3600</td>\n",
       "      <td>650</td>\n",
       "      <td>2200</td>\n",
       "      <td>0</td>\n",
       "      <td>14500</td>\n",
       "      <td>999</td>\n",
       "    </tr>\n",
       "    <tr>\n",
       "      <td>VehicleType</td>\n",
       "      <td>NaN</td>\n",
       "      <td>coupe</td>\n",
       "      <td>suv</td>\n",
       "      <td>small</td>\n",
       "      <td>small</td>\n",
       "      <td>sedan</td>\n",
       "      <td>convertible</td>\n",
       "      <td>sedan</td>\n",
       "      <td>bus</td>\n",
       "      <td>small</td>\n",
       "    </tr>\n",
       "    <tr>\n",
       "      <td>RegistrationYear</td>\n",
       "      <td>1993</td>\n",
       "      <td>2011</td>\n",
       "      <td>2004</td>\n",
       "      <td>2001</td>\n",
       "      <td>2008</td>\n",
       "      <td>1995</td>\n",
       "      <td>2004</td>\n",
       "      <td>1980</td>\n",
       "      <td>2014</td>\n",
       "      <td>1998</td>\n",
       "    </tr>\n",
       "    <tr>\n",
       "      <td>Gearbox</td>\n",
       "      <td>manual</td>\n",
       "      <td>manual</td>\n",
       "      <td>auto</td>\n",
       "      <td>manual</td>\n",
       "      <td>manual</td>\n",
       "      <td>manual</td>\n",
       "      <td>manual</td>\n",
       "      <td>manual</td>\n",
       "      <td>manual</td>\n",
       "      <td>manual</td>\n",
       "    </tr>\n",
       "    <tr>\n",
       "      <td>Power</td>\n",
       "      <td>0</td>\n",
       "      <td>190</td>\n",
       "      <td>163</td>\n",
       "      <td>75</td>\n",
       "      <td>69</td>\n",
       "      <td>102</td>\n",
       "      <td>109</td>\n",
       "      <td>50</td>\n",
       "      <td>125</td>\n",
       "      <td>101</td>\n",
       "    </tr>\n",
       "    <tr>\n",
       "      <td>Model</td>\n",
       "      <td>golf</td>\n",
       "      <td>NaN</td>\n",
       "      <td>grand</td>\n",
       "      <td>golf</td>\n",
       "      <td>fabia</td>\n",
       "      <td>3er</td>\n",
       "      <td>2_reihe</td>\n",
       "      <td>other</td>\n",
       "      <td>c_max</td>\n",
       "      <td>golf</td>\n",
       "    </tr>\n",
       "    <tr>\n",
       "      <td>Kilometer</td>\n",
       "      <td>150000</td>\n",
       "      <td>125000</td>\n",
       "      <td>125000</td>\n",
       "      <td>150000</td>\n",
       "      <td>90000</td>\n",
       "      <td>150000</td>\n",
       "      <td>150000</td>\n",
       "      <td>40000</td>\n",
       "      <td>30000</td>\n",
       "      <td>150000</td>\n",
       "    </tr>\n",
       "    <tr>\n",
       "      <td>RegistrationMonth</td>\n",
       "      <td>0</td>\n",
       "      <td>5</td>\n",
       "      <td>8</td>\n",
       "      <td>6</td>\n",
       "      <td>7</td>\n",
       "      <td>10</td>\n",
       "      <td>8</td>\n",
       "      <td>7</td>\n",
       "      <td>8</td>\n",
       "      <td>0</td>\n",
       "    </tr>\n",
       "    <tr>\n",
       "      <td>FuelType</td>\n",
       "      <td>petrol</td>\n",
       "      <td>gasoline</td>\n",
       "      <td>gasoline</td>\n",
       "      <td>petrol</td>\n",
       "      <td>gasoline</td>\n",
       "      <td>petrol</td>\n",
       "      <td>petrol</td>\n",
       "      <td>petrol</td>\n",
       "      <td>petrol</td>\n",
       "      <td>NaN</td>\n",
       "    </tr>\n",
       "    <tr>\n",
       "      <td>Brand</td>\n",
       "      <td>volkswagen</td>\n",
       "      <td>audi</td>\n",
       "      <td>jeep</td>\n",
       "      <td>volkswagen</td>\n",
       "      <td>skoda</td>\n",
       "      <td>bmw</td>\n",
       "      <td>peugeot</td>\n",
       "      <td>volkswagen</td>\n",
       "      <td>ford</td>\n",
       "      <td>volkswagen</td>\n",
       "    </tr>\n",
       "    <tr>\n",
       "      <td>NotRepaired</td>\n",
       "      <td>NaN</td>\n",
       "      <td>yes</td>\n",
       "      <td>NaN</td>\n",
       "      <td>no</td>\n",
       "      <td>no</td>\n",
       "      <td>yes</td>\n",
       "      <td>no</td>\n",
       "      <td>no</td>\n",
       "      <td>NaN</td>\n",
       "      <td>NaN</td>\n",
       "    </tr>\n",
       "    <tr>\n",
       "      <td>DateCreated</td>\n",
       "      <td>2016-03-24 00:00:00</td>\n",
       "      <td>2016-03-24 00:00:00</td>\n",
       "      <td>2016-03-14 00:00:00</td>\n",
       "      <td>2016-03-17 00:00:00</td>\n",
       "      <td>2016-03-31 00:00:00</td>\n",
       "      <td>2016-04-04 00:00:00</td>\n",
       "      <td>2016-04-01 00:00:00</td>\n",
       "      <td>2016-03-21 00:00:00</td>\n",
       "      <td>2016-04-04 00:00:00</td>\n",
       "      <td>2016-03-17 00:00:00</td>\n",
       "    </tr>\n",
       "    <tr>\n",
       "      <td>NumberOfPictures</td>\n",
       "      <td>0</td>\n",
       "      <td>0</td>\n",
       "      <td>0</td>\n",
       "      <td>0</td>\n",
       "      <td>0</td>\n",
       "      <td>0</td>\n",
       "      <td>0</td>\n",
       "      <td>0</td>\n",
       "      <td>0</td>\n",
       "      <td>0</td>\n",
       "    </tr>\n",
       "    <tr>\n",
       "      <td>PostalCode</td>\n",
       "      <td>70435</td>\n",
       "      <td>66954</td>\n",
       "      <td>90480</td>\n",
       "      <td>91074</td>\n",
       "      <td>60437</td>\n",
       "      <td>33775</td>\n",
       "      <td>67112</td>\n",
       "      <td>19348</td>\n",
       "      <td>94505</td>\n",
       "      <td>27472</td>\n",
       "    </tr>\n",
       "    <tr>\n",
       "      <td>LastSeen</td>\n",
       "      <td>2016-04-07 03:16:57</td>\n",
       "      <td>2016-04-07 01:46:50</td>\n",
       "      <td>2016-04-05 12:47:46</td>\n",
       "      <td>2016-03-17 17:40:17</td>\n",
       "      <td>2016-04-06 10:17:21</td>\n",
       "      <td>2016-04-06 19:17:07</td>\n",
       "      <td>2016-04-05 18:18:39</td>\n",
       "      <td>2016-03-25 16:47:58</td>\n",
       "      <td>2016-04-04 23:42:13</td>\n",
       "      <td>2016-03-31 17:17:06</td>\n",
       "    </tr>\n",
       "  </tbody>\n",
       "</table>\n",
       "</div>"
      ],
      "text/plain": [
       "                                     0                    1  \\\n",
       "DateCrawled        2016-03-24 11:52:17  2016-03-24 10:58:45   \n",
       "Price                              480                18300   \n",
       "VehicleType                        NaN                coupe   \n",
       "RegistrationYear                  1993                 2011   \n",
       "Gearbox                         manual               manual   \n",
       "Power                                0                  190   \n",
       "Model                             golf                  NaN   \n",
       "Kilometer                       150000               125000   \n",
       "RegistrationMonth                    0                    5   \n",
       "FuelType                        petrol             gasoline   \n",
       "Brand                       volkswagen                 audi   \n",
       "NotRepaired                        NaN                  yes   \n",
       "DateCreated        2016-03-24 00:00:00  2016-03-24 00:00:00   \n",
       "NumberOfPictures                     0                    0   \n",
       "PostalCode                       70435                66954   \n",
       "LastSeen           2016-04-07 03:16:57  2016-04-07 01:46:50   \n",
       "\n",
       "                                     2                    3  \\\n",
       "DateCrawled        2016-03-14 12:52:21  2016-03-17 16:54:04   \n",
       "Price                             9800                 1500   \n",
       "VehicleType                        suv                small   \n",
       "RegistrationYear                  2004                 2001   \n",
       "Gearbox                           auto               manual   \n",
       "Power                              163                   75   \n",
       "Model                            grand                 golf   \n",
       "Kilometer                       125000               150000   \n",
       "RegistrationMonth                    8                    6   \n",
       "FuelType                      gasoline               petrol   \n",
       "Brand                             jeep           volkswagen   \n",
       "NotRepaired                        NaN                   no   \n",
       "DateCreated        2016-03-14 00:00:00  2016-03-17 00:00:00   \n",
       "NumberOfPictures                     0                    0   \n",
       "PostalCode                       90480                91074   \n",
       "LastSeen           2016-04-05 12:47:46  2016-03-17 17:40:17   \n",
       "\n",
       "                                     4                    5  \\\n",
       "DateCrawled        2016-03-31 17:25:20  2016-04-04 17:36:23   \n",
       "Price                             3600                  650   \n",
       "VehicleType                      small                sedan   \n",
       "RegistrationYear                  2008                 1995   \n",
       "Gearbox                         manual               manual   \n",
       "Power                               69                  102   \n",
       "Model                            fabia                  3er   \n",
       "Kilometer                        90000               150000   \n",
       "RegistrationMonth                    7                   10   \n",
       "FuelType                      gasoline               petrol   \n",
       "Brand                            skoda                  bmw   \n",
       "NotRepaired                         no                  yes   \n",
       "DateCreated        2016-03-31 00:00:00  2016-04-04 00:00:00   \n",
       "NumberOfPictures                     0                    0   \n",
       "PostalCode                       60437                33775   \n",
       "LastSeen           2016-04-06 10:17:21  2016-04-06 19:17:07   \n",
       "\n",
       "                                     6                    7  \\\n",
       "DateCrawled        2016-04-01 20:48:51  2016-03-21 18:54:38   \n",
       "Price                             2200                    0   \n",
       "VehicleType                convertible                sedan   \n",
       "RegistrationYear                  2004                 1980   \n",
       "Gearbox                         manual               manual   \n",
       "Power                              109                   50   \n",
       "Model                          2_reihe                other   \n",
       "Kilometer                       150000                40000   \n",
       "RegistrationMonth                    8                    7   \n",
       "FuelType                        petrol               petrol   \n",
       "Brand                          peugeot           volkswagen   \n",
       "NotRepaired                         no                   no   \n",
       "DateCreated        2016-04-01 00:00:00  2016-03-21 00:00:00   \n",
       "NumberOfPictures                     0                    0   \n",
       "PostalCode                       67112                19348   \n",
       "LastSeen           2016-04-05 18:18:39  2016-03-25 16:47:58   \n",
       "\n",
       "                                     8                    9  \n",
       "DateCrawled        2016-04-04 23:42:13  2016-03-17 10:53:50  \n",
       "Price                            14500                  999  \n",
       "VehicleType                        bus                small  \n",
       "RegistrationYear                  2014                 1998  \n",
       "Gearbox                         manual               manual  \n",
       "Power                              125                  101  \n",
       "Model                            c_max                 golf  \n",
       "Kilometer                        30000               150000  \n",
       "RegistrationMonth                    8                    0  \n",
       "FuelType                        petrol                  NaN  \n",
       "Brand                             ford           volkswagen  \n",
       "NotRepaired                        NaN                  NaN  \n",
       "DateCreated        2016-04-04 00:00:00  2016-03-17 00:00:00  \n",
       "NumberOfPictures                     0                    0  \n",
       "PostalCode                       94505                27472  \n",
       "LastSeen           2016-04-04 23:42:13  2016-03-31 17:17:06  "
      ]
     },
     "metadata": {},
     "output_type": "display_data"
    }
   ],
   "source": [
    "print('=='*5, 'Info' , '=='*5)\n",
    "display(data.info())\n",
    "print('=='*5, 'missing data', '=='*5)\n",
    "display(missing_data(data))\n",
    "print('=='*5, 'duplicated', '=='*5)\n",
    "display(data.duplicated().sum())\n",
    "print('=='*5, 'describe', '=='*5)\n",
    "display(data.describe().T)\n",
    "print('=='*5, 'inspection', '=='*5)\n",
    "display(data.head(10).T)"
   ]
  },
  {
   "cell_type": "markdown",
   "metadata": {},
   "source": [
    "### Изучение целевого признака<a id=\"1.2\"></a>"
   ]
  },
  {
   "cell_type": "code",
   "execution_count": 5,
   "metadata": {},
   "outputs": [
    {
     "data": {
      "text/plain": [
       "<matplotlib.axes._subplots.AxesSubplot at 0x7f4d849ffd90>"
      ]
     },
     "execution_count": 5,
     "metadata": {},
     "output_type": "execute_result"
    },
    {
     "data": {
      "image/png": "[encoded data removed]",
      "text/plain": [
       "<Figure size 432x288 with 2 Axes>"
      ]
     },
     "metadata": {},
     "output_type": "display_data"
    }
   ],
   "source": [
    "plt.title('Корреляция данных' )\n",
    "sns.heatmap(data.corr(), cmap='RdYlGn', annot=True)"
   ]
  },
  {
   "cell_type": "code",
   "execution_count": 6,
   "metadata": {},
   "outputs": [
    {
     "data": {
      "text/plain": [
       "{'whiskers': [<matplotlib.lines.Line2D at 0x7f4d55a44910>,\n",
       "  <matplotlib.lines.Line2D at 0x7f4d55a44e50>],\n",
       " 'caps': [<matplotlib.lines.Line2D at 0x7f4d55a37d10>,\n",
       "  <matplotlib.lines.Line2D at 0x7f4d55a4e890>],\n",
       " 'boxes': [<matplotlib.lines.Line2D at 0x7f4d55a37cd0>],\n",
       " 'medians': [<matplotlib.lines.Line2D at 0x7f4d55a4edd0>],\n",
       " 'fliers': [<matplotlib.lines.Line2D at 0x7f4d559d7810>],\n",
       " 'means': [<matplotlib.lines.Line2D at 0x7f4d55a44ed0>]}"
      ]
     },
     "execution_count": 6,
     "metadata": {},
     "output_type": "execute_result"
    },
    {
     "data": {
      "image/png": "[encoded data removed]",
      "text/plain": [
       "<Figure size 432x288 with 1 Axes>"
      ]
     },
     "metadata": {},
     "output_type": "display_data"
    }
   ],
   "source": [
    "plt.boxplot( data['Price'], showmeans = True)"
   ]
  },
  {
   "cell_type": "markdown",
   "metadata": {},
   "source": [
    "### Добавление признаков<a id=\"1.3\"></a>\n",
    "\n",
    "- `'Age_Y'` возраст автомобиля в годах `DateCrawled` - `RegistrationYear` \n",
    "- `'LastSeen_D'` - давность активности в днях "
   ]
  },
  {
   "cell_type": "code",
   "execution_count": 7,
   "metadata": {},
   "outputs": [],
   "source": [
    "data['Age_Y'] = pd.to_datetime(data.loc[:, 'DateCrawled'], format = '%Y-%m-%d').dt.year - data['RegistrationYear']\n",
    "data['LastSeen_D'] = (\n",
    "    pd.to_datetime(data['LastSeen'], format = '%Y-%m-%d')\n",
    "    - pd.to_datetime(data['DateCreated'], format = '%Y-%m-%d')\n",
    ").dt.days"
   ]
  },
  {
   "cell_type": "markdown",
   "metadata": {},
   "source": [
    "### Распределение признаков: Категориальный, численный, для удаления"
   ]
  },
  {
   "cell_type": "code",
   "execution_count": null,
   "metadata": {},
   "outputs": [],
   "source": [
    "# набор быстрый, 5 признаков, rmse ~2100\n",
    "fitch_drop = ['Brand', 'DateCrawled', 'DateCreated', 'NumberOfPictures', 'PostalCode', 'LastSeen', 'RegistrationYear', 'RegistrationMonth', 'VehicleType', 'Gearbox', 'Model', 'FuelType']\n",
    "numerical = ['Power', 'Kilometer', 'Age_Y', 'LastSeen_D']\n",
    "categorical = ['NotRepaired']\n",
    "target_cols = ['Price']"
   ]
  },
  {
   "cell_type": "raw",
   "metadata": {},
   "source": [
    "# набор без моделей, 58 признаков, rmse ~1690\n",
    "fitch_drop = ['DateCrawled', 'DateCreated', 'NumberOfPictures', 'Model', 'PostalCode', 'LastSeen', 'RegistrationYear', 'RegistrationMonth']\n",
    "numerical = ['Power', 'Kilometer', 'Age_Y', 'LastSeen_D']\n",
    "categorical = ['NotRepaired', 'Brand', 'VehicleType', 'Gearbox', 'FuelType']"
   ]
  },
  {
   "cell_type": "code",
   "execution_count": 8,
   "metadata": {},
   "outputs": [],
   "source": [
    "# Нужный набор, 305 признаков, rmse ~1600\n",
    "fitch_drop = ['DateCrawled', 'DateCreated', 'NumberOfPictures', 'PostalCode', 'LastSeen', 'RegistrationYear', 'RegistrationMonth']\n",
    "numerical = ['Power', 'Kilometer', 'Age_Y', 'LastSeen_D']\n",
    "categorical = ['NotRepaired', 'Brand', 'VehicleType', 'Gearbox', 'Model', 'FuelType']"
   ]
  },
  {
   "cell_type": "markdown",
   "metadata": {},
   "source": [
    "### Обработка выбросов<a id=\"1.4\"></a>"
   ]
  },
  {
   "cell_type": "code",
   "execution_count": 9,
   "metadata": {},
   "outputs": [],
   "source": [
    "def drop_ejection(df, columns, lower, upper):\n",
    "    for column in columns:\n",
    "        df = df.drop(df[df[column] < lower].index)\n",
    "        df = df.drop(df[df[column] > upper].index)\n",
    "    return df\n",
    "\n",
    "data = drop_ejection(data, ['Power'], 30, 600)\n",
    "data = drop_ejection(data, ['Age_Y'], 0, 70)\n",
    "# в мощности моделей есть неверные данные."
   ]
  },
  {
   "cell_type": "markdown",
   "metadata": {},
   "source": [
    "### Отброс ненужных признаков<a id=\"1.5\"></a>"
   ]
  },
  {
   "cell_type": "code",
   "execution_count": 10,
   "metadata": {},
   "outputs": [],
   "source": [
    "data = data.drop(fitch_drop, axis = 1)"
   ]
  },
  {
   "cell_type": "markdown",
   "metadata": {},
   "source": [
    "### Обработка пропусков<a id=\"1.6\"></a>"
   ]
  },
  {
   "cell_type": "code",
   "execution_count": 11,
   "metadata": {},
   "outputs": [
    {
     "name": "stdout",
     "output_type": "stream",
     "text": [
      "отброшено пропусков 30.14%\n"
     ]
    }
   ],
   "source": [
    "#data['NotRepaired'] = data['NotRepaired'].fillna('unknown')\n",
    "#data['FuelType'] = data['FuelType'].fillna('unknown')\n",
    "\n",
    "print('отброшено пропусков {:.2%}'.format((data.isna().sum().sum())/data.shape[0]))\n",
    "data = data.dropna()\n"
   ]
  },
  {
   "cell_type": "markdown",
   "metadata": {},
   "source": [
    "### Обработка дубликатов<a id=\"1.7\"></a>"
   ]
  },
  {
   "cell_type": "code",
   "execution_count": 12,
   "metadata": {},
   "outputs": [
    {
     "name": "stdout",
     "output_type": "stream",
     "text": [
      "отброшено дубликатов 4.67%\n"
     ]
    }
   ],
   "source": [
    "print('отброшено дубликатов {:.2%}'.format((data.duplicated().sum().sum())/data.shape[0]))\n",
    "data = data.drop_duplicates().reset_index(drop = True)"
   ]
  },
  {
   "cell_type": "markdown",
   "metadata": {},
   "source": [
    "### Замена типов данных"
   ]
  },
  {
   "cell_type": "code",
   "execution_count": 13,
   "metadata": {},
   "outputs": [],
   "source": [
    "data[categorical] = data[categorical].astype(\"category\")"
   ]
  },
  {
   "cell_type": "markdown",
   "metadata": {},
   "source": [
    "## Выборка для CatBoost, Light GBM\n",
    "Без кодирования признаков"
   ]
  },
  {
   "cell_type": "code",
   "execution_count": 14,
   "metadata": {},
   "outputs": [
    {
     "name": "stdout",
     "output_type": "stream",
     "text": [
      "boost_train (134773, 10) (134773,)\n",
      "boost_valid (44925, 10) (44925,)\n",
      "boost_test (44925, 10) (44925,)\n"
     ]
    }
   ],
   "source": [
    "features = data.drop(['Price'], axis=1)\n",
    "target = data['Price']\n",
    "\n",
    "fb_train, fb_test, tb_train, tb_test = train_test_split(\n",
    "    features, target, test_size=0.4, random_state=12345)\n",
    "fb_valid, fb_test, tb_valid, tb_test = train_test_split(\n",
    "    fb_test, tb_test, test_size=0.5, random_state=12345)\n",
    "\n",
    "print('boost_train', fb_train.shape , tb_train.shape)\n",
    "print('boost_valid', fb_valid.shape, tb_valid.shape)\n",
    "print('boost_test', fb_test.shape, tb_test.shape)\n"
   ]
  },
  {
   "cell_type": "markdown",
   "metadata": {},
   "source": [
    "## Выборка для LinearRegression, DecisionTreeRegressor, RandomForestRegressor"
   ]
  },
  {
   "cell_type": "markdown",
   "metadata": {},
   "source": [
    "### Кодирование категориальных признаков<a id=\"1.8\"></a>"
   ]
  },
  {
   "cell_type": "code",
   "execution_count": 15,
   "metadata": {},
   "outputs": [],
   "source": [
    "# OneHotEncoder\n",
    "data = pd.get_dummies(data, columns=categorical, drop_first=True)"
   ]
  },
  {
   "cell_type": "markdown",
   "metadata": {},
   "source": [
    "### Выделение целевого признака<a id=\"1.9\"></a>"
   ]
  },
  {
   "cell_type": "code",
   "execution_count": 16,
   "metadata": {},
   "outputs": [
    {
     "data": {
      "text/plain": [
       "(224623, 305)"
      ]
     },
     "metadata": {},
     "output_type": "display_data"
    },
    {
     "data": {
      "text/plain": [
       "(224623,)"
      ]
     },
     "metadata": {},
     "output_type": "display_data"
    }
   ],
   "source": [
    "features = data.drop(['Price'], axis=1)\n",
    "target = data['Price']\n",
    "display(fe  "
   ]
  },
  {
   "cell_type": "markdown",
   "metadata": {},
   "source": [
    "### Деление выборки<a id=\"1.10\"></a>"
   ]
  },
  {
   "cell_type": "code",
   "execution_count": 17,
   "metadata": {},
   "outputs": [
    {
     "name": "stdout",
     "output_type": "stream",
     "text": [
      "features_train (134773, 305)\n",
      "target_train (134773,)\n",
      "features_valid (44925, 305)\n",
      "target_valid (44925,)\n",
      "features_test (44925, 305)\n",
      "target_test (44925,)\n"
     ]
    }
   ],
   "source": [
    "features_train, features_test, target_train, target_test = train_test_split(\n",
    "    features, target, test_size=0.4, random_state=12345)\n",
    "features_valid, features_test, target_valid, target_test = train_test_split(\n",
    "    features_test, target_test, test_size=0.5, random_state=12345)\n",
    "\n",
    "print('features_train', features_train.shape)\n",
    "print('target_train', target_train.shape)\n",
    "print('features_valid', features_valid.shape)\n",
    "print('target_valid', target_valid.shape)\n",
    "print('features_test', features_test.shape)\n",
    "print('target_test', target_test.shape)"
   ]
  },
  {
   "cell_type": "markdown",
   "metadata": {},
   "source": [
    "### Масштабирование признаков<a id=\"2.2\"></a>"
   ]
  },
  {
   "cell_type": "code",
   "execution_count": 18,
   "metadata": {},
   "outputs": [],
   "source": [
    "sc = StandardScaler()\n",
    "features_train = sc.fit_transform(features_train)\n",
    "features_valid = sc.transform(features_valid)\n",
    "features_test = sc.transform(features_test)"
   ]
  },
  {
   "cell_type": "markdown",
   "metadata": {},
   "source": [
    "# 2. Обучение моделей<a id=\"2\"></a>"
   ]
  },
  {
   "cell_type": "markdown",
   "metadata": {},
   "source": [
    "### Метрика<a id=\"2.1\"></a>"
   ]
  },
  {
   "cell_type": "code",
   "execution_count": 19,
   "metadata": {},
   "outputs": [],
   "source": [
    "time_fit = []\n",
    "\n",
    "def RootMSE(target, predict): \n",
    "    return mean_squared_error(target, predict)**0.5\n",
    "\n",
    "def predict_test_RMSE(model, f_test, t_test):\n",
    "    t = timer()\n",
    "    return round(RootMSE(t_test, model.predict(f_test)), 2), round(timer() - t, 2)\n",
    "\n",
    "scorer = make_scorer(RootMSE)"
   ]
  },
  {
   "cell_type": "markdown",
   "metadata": {},
   "source": [
    "### Обучение базовой модели<a id=\"2.3\"></a>"
   ]
  },
  {
   "cell_type": "code",
   "execution_count": 20,
   "metadata": {},
   "outputs": [
    {
     "name": "stderr",
     "output_type": "stream",
     "text": [
      "/opt/conda/lib/python3.7/site-packages/sklearn/ensemble/forest.py:245: FutureWarning: The default value of n_estimators will change from 10 in version 0.20 to 100 in 0.22.\n",
      "  \"10 in version 0.20 to 100 in 0.22.\", FutureWarning)\n"
     ]
    },
    {
     "name": "stdout",
     "output_type": "stream",
     "text": [
      "RMSE test 1729.89\n"
     ]
    }
   ],
   "source": [
    "base_forest_model = RandomForestRegressor(random_state=12345)\n",
    "t = timer()\n",
    "base_forest_model.fit(features_train, target_train)\n",
    "time_train = timer() - t\n",
    "\n",
    "rmse, time_predict = predict_test_RMSE(base_forest_model, features_test, target_test)\n",
    "print('RMSE test', rmse)\n",
    "time_fit.append(['Base_forest', rmse, time_train, time_predict])"
   ]
  },
  {
   "cell_type": "markdown",
   "metadata": {},
   "source": [
    "### Тестирование моделей<a id=\"2.5\"></a>"
   ]
  },
  {
   "cell_type": "markdown",
   "metadata": {},
   "source": [
    "### LinearRegression"
   ]
  },
  {
   "cell_type": "code",
   "execution_count": 21,
   "metadata": {},
   "outputs": [
    {
     "name": "stdout",
     "output_type": "stream",
     "text": [
      "RMSE test 2510.9\n"
     ]
    }
   ],
   "source": [
    "#3158.78, 2746.07, 2531.85, переобучается\n",
    "lr_model = LinearRegression()\n",
    "t = timer()\n",
    "lr_model.fit(features_train, target_train)\n",
    "time_train = timer() - t\n",
    "\n",
    "rmse, time_predict = predict_test_RMSE(lr_model, features_test, target_test)\n",
    "print('RMSE test', rmse)\n",
    "time_fit.append(['LinearRegression', rmse, time_train, time_predict])"
   ]
  },
  {
   "cell_type": "markdown",
   "metadata": {},
   "source": [
    "### DecisionTreeRegressor"
   ]
  },
  {
   "cell_type": "code",
   "execution_count": 22,
   "metadata": {},
   "outputs": [
    {
     "name": "stdout",
     "output_type": "stream",
     "text": [
      "RMSE test 2162.34\n"
     ]
    }
   ],
   "source": [
    "# 2680.12, 2294.01, 2155.30\n",
    "tree_model = DecisionTreeRegressor(random_state=12345)\n",
    "t = timer()\n",
    "tree_model.fit(features_train, target_train)\n",
    "time_train = timer() - t\n",
    "\n",
    "rmse, time_predict = predict_test_RMSE(tree_model, features_test, target_test)\n",
    "print('RMSE test', rmse)\n",
    "time_fit.append(['DecisionTreeRegressor', rmse, time_train, time_predict])"
   ]
  },
  {
   "cell_type": "markdown",
   "metadata": {},
   "source": [
    "### RandomForestRegressor. \n",
    "### Оптимизация гиперпараметров с GridSearchCV<a id=\"2.4\"></a>"
   ]
  },
  {
   "cell_type": "code",
   "execution_count": 23,
   "metadata": {},
   "outputs": [
    {
     "name": "stdout",
     "output_type": "stream",
     "text": [
      "Fitting 2 folds for each of 1 candidates, totalling 2 fits\n"
     ]
    },
    {
     "name": "stderr",
     "output_type": "stream",
     "text": [
      "[Parallel(n_jobs=-1)]: Using backend SequentialBackend with 1 concurrent workers.\n",
      "[Parallel(n_jobs=-1)]: Done   2 out of   2 | elapsed:  4.6min finished\n"
     ]
    },
    {
     "name": "stdout",
     "output_type": "stream",
     "text": [
      "CPU times: user 7min 56s, sys: 958 ms, total: 7min 57s\n",
      "Wall time: 8min 4s\n"
     ]
    },
    {
     "data": {
      "text/plain": [
       "{'max_depth': 22, 'n_estimators': 70}"
      ]
     },
     "execution_count": 23,
     "metadata": {},
     "output_type": "execute_result"
    }
   ],
   "source": [
    "%%time\n",
    "param_grid = {'n_estimators': [70],\n",
    "               'max_depth': [22],\n",
    "}\n",
    "gs = GridSearchCV(\n",
    "    base_forest_model, \n",
    "    param_grid, \n",
    "    cv = 2, \n",
    "    verbose = 1, \n",
    "    n_jobs=-1, \n",
    "    scoring = scorer\n",
    ")\n",
    "gs.fit(features_train, target_train)\n",
    "gs.best_params_"
   ]
  },
  {
   "cell_type": "code",
   "execution_count": 24,
   "metadata": {},
   "outputs": [
    {
     "name": "stdout",
     "output_type": "stream",
     "text": [
      "RMSE test 1658.0\n"
     ]
    }
   ],
   "source": [
    "#2226.75, 1756, 1652.73\n",
    "forest_model = RandomForestRegressor(\n",
    "     n_estimators = 70,\n",
    "     max_depth= 22,\n",
    "     random_state=12345)                                   \n",
    "t = timer()\n",
    "forest_model.fit(features_train, target_train)\n",
    "time_train = timer() - t\n",
    "\n",
    "rmse, time_predict = predict_test_RMSE(forest_model, features_test, target_test)\n",
    "print('RMSE test', rmse)\n",
    "time_fit.append(['RandomForestRegressor', rmse, time_train, time_predict])\n"
   ]
  },
  {
   "cell_type": "markdown",
   "metadata": {},
   "source": [
    "## Light GBM"
   ]
  },
  {
   "cell_type": "markdown",
   "metadata": {},
   "source": [
    "### GridSearchCV"
   ]
  },
  {
   "cell_type": "code",
   "execution_count": 25,
   "metadata": {},
   "outputs": [
    {
     "name": "stdout",
     "output_type": "stream",
     "text": [
      "Fitting 2 folds for each of 2 candidates, totalling 4 fits\n",
      "[CV] bagging_fraction=0.9, bagging_freq=5, boosting_type=gbdt, feature_fraction=0.9, learning_rate=0.25, max_depth=30, metric=rmse, n_estimators=20, num_leaves=900, objective=regression, verbose=0 \n"
     ]
    },
    {
     "name": "stderr",
     "output_type": "stream",
     "text": [
      "[Parallel(n_jobs=-1)]: Using backend SequentialBackend with 1 concurrent workers.\n"
     ]
    },
    {
     "name": "stdout",
     "output_type": "stream",
     "text": [
      "[CV]  bagging_fraction=0.9, bagging_freq=5, boosting_type=gbdt, feature_fraction=0.9, learning_rate=0.25, max_depth=30, metric=rmse, n_estimators=20, num_leaves=900, objective=regression, verbose=0, total= 4.8min\n",
      "[CV] bagging_fraction=0.9, bagging_freq=5, boosting_type=gbdt, feature_fraction=0.9, learning_rate=0.25, max_depth=30, metric=rmse, n_estimators=20, num_leaves=900, objective=regression, verbose=0 \n"
     ]
    },
    {
     "name": "stderr",
     "output_type": "stream",
     "text": [
      "[Parallel(n_jobs=-1)]: Done   1 out of   1 | elapsed:  4.8min remaining:    0.0s\n"
     ]
    },
    {
     "name": "stdout",
     "output_type": "stream",
     "text": [
      "[CV]  bagging_fraction=0.9, bagging_freq=5, boosting_type=gbdt, feature_fraction=0.9, learning_rate=0.25, max_depth=30, metric=rmse, n_estimators=20, num_leaves=900, objective=regression, verbose=0, total=  53.5s\n",
      "[CV] bagging_fraction=0.9, bagging_freq=5, boosting_type=gbdt, feature_fraction=0.9, learning_rate=0.25, max_depth=30, metric=rmse, n_estimators=80, num_leaves=900, objective=regression, verbose=0 \n",
      "[CV]  bagging_fraction=0.9, bagging_freq=5, boosting_type=gbdt, feature_fraction=0.9, learning_rate=0.25, max_depth=30, metric=rmse, n_estimators=80, num_leaves=900, objective=regression, verbose=0, total= 3.3min\n",
      "[CV] bagging_fraction=0.9, bagging_freq=5, boosting_type=gbdt, feature_fraction=0.9, learning_rate=0.25, max_depth=30, metric=rmse, n_estimators=80, num_leaves=900, objective=regression, verbose=0 \n",
      "[CV]  bagging_fraction=0.9, bagging_freq=5, boosting_type=gbdt, feature_fraction=0.9, learning_rate=0.25, max_depth=30, metric=rmse, n_estimators=80, num_leaves=900, objective=regression, verbose=0, total= 3.5min\n"
     ]
    },
    {
     "name": "stderr",
     "output_type": "stream",
     "text": [
      "[Parallel(n_jobs=-1)]: Done   4 out of   4 | elapsed: 12.5min finished\n"
     ]
    },
    {
     "name": "stdout",
     "output_type": "stream",
     "text": [
      "CPU times: user 16min 14s, sys: 6.62 s, total: 16min 21s\n",
      "Wall time: 16min 27s\n"
     ]
    },
    {
     "data": {
      "text/plain": [
       "{'bagging_fraction': 0.9,\n",
       " 'bagging_freq': 5,\n",
       " 'boosting_type': 'gbdt',\n",
       " 'feature_fraction': 0.9,\n",
       " 'learning_rate': 0.25,\n",
       " 'max_depth': 30,\n",
       " 'metric': 'rmse',\n",
       " 'n_estimators': 80,\n",
       " 'num_leaves': 900,\n",
       " 'objective': 'regression',\n",
       " 'verbose': 0}"
      ]
     },
     "execution_count": 25,
     "metadata": {},
     "output_type": "execute_result"
    }
   ],
   "source": [
    "%%time\n",
    "lg = lgb.LGBMRegressor(silent=False)\n",
    "\n",
    "params_gs = {\n",
    "    'boosting_type': ['gbdt'],\n",
    "    'metric': ['rmse'],\n",
    "    'objective': ['regression'],\n",
    "    'num_leaves': [int(x) for x in np.linspace(start = 900, stop = 1000, num = 1)], # (max_depth)^2\n",
    "    'learning_rate': [0.25], #0.001 .... 0.25\n",
    "    'feature_fraction': [0.9], \n",
    "    'bagging_fraction': [0.9],\n",
    "    'bagging_freq': [5],\n",
    "    'verbose': [0],\n",
    "    \"n_estimators\": [int(x) for x in np.linspace(start = 20, stop = 80, num = 2)],\n",
    "    'max_depth': [int(x) for x in np.linspace(start = 30, stop = 50, num = 1)]\n",
    "    }\n",
    "\n",
    "gs_lgb = GridSearchCV(lg, \n",
    "                  n_jobs = -1, \n",
    "                  param_grid = params_gs, \n",
    "                  cv = 2, # 1...5\n",
    "                  scoring = scorer, \n",
    "                  verbose = 2\n",
    "                 )\n",
    "\n",
    "gs_lgb.fit(fb_train,tb_train)\n",
    "gs_lgb.best_score_\n",
    "gs_lgb.best_params_"
   ]
  },
  {
   "cell_type": "code",
   "execution_count": 26,
   "metadata": {},
   "outputs": [
    {
     "name": "stderr",
     "output_type": "stream",
     "text": [
      "/opt/conda/lib/python3.7/site-packages/lightgbm/engine.py:148: UserWarning: Found `n_estimators` in params. Will use it instead of argument\n",
      "  warnings.warn(\"Found `{}` in params. Will use it instead of argument\".format(alias))\n",
      "/opt/conda/lib/python3.7/site-packages/lightgbm/basic.py:1295: UserWarning: categorical_feature in Dataset is overridden.\n",
      "New categorical_feature is ['Brand', 'FuelType', 'Gearbox', 'Model', 'NotRepaired', 'VehicleType']\n",
      "  'New categorical_feature is {}'.format(sorted(list(categorical_feature))))\n"
     ]
    },
    {
     "name": "stdout",
     "output_type": "stream",
     "text": [
      "[1]\tvalid_0's rmse: 3742.15\n",
      "Training until validation scores don't improve for 3 rounds\n",
      "[2]\tvalid_0's rmse: 3047.86\n",
      "[3]\tvalid_0's rmse: 2556.17\n",
      "[4]\tvalid_0's rmse: 2226.75\n",
      "[5]\tvalid_0's rmse: 1997.73\n",
      "[6]\tvalid_0's rmse: 1858.53\n",
      "[7]\tvalid_0's rmse: 1759.69\n",
      "[8]\tvalid_0's rmse: 1697.58\n",
      "[9]\tvalid_0's rmse: 1659.46\n",
      "[10]\tvalid_0's rmse: 1632.04\n",
      "[11]\tvalid_0's rmse: 1613.51\n",
      "[12]\tvalid_0's rmse: 1601.57\n",
      "[13]\tvalid_0's rmse: 1593.72\n",
      "[14]\tvalid_0's rmse: 1588.63\n",
      "[15]\tvalid_0's rmse: 1583.17\n",
      "[16]\tvalid_0's rmse: 1581.16\n",
      "[17]\tvalid_0's rmse: 1577.72\n",
      "[18]\tvalid_0's rmse: 1577.74\n",
      "[19]\tvalid_0's rmse: 1576.42\n",
      "[20]\tvalid_0's rmse: 1576.49\n",
      "[21]\tvalid_0's rmse: 1576.19\n",
      "[22]\tvalid_0's rmse: 1576.03\n",
      "[23]\tvalid_0's rmse: 1576.29\n",
      "[24]\tvalid_0's rmse: 1577\n",
      "[25]\tvalid_0's rmse: 1577.4\n",
      "Early stopping, best iteration is:\n",
      "[22]\tvalid_0's rmse: 1576.03\n",
      "RMSE test 1577.15\n"
     ]
    }
   ],
   "source": [
    "lgb_train = lgb.Dataset(fb_train, tb_train)\n",
    "lgb_valid = lgb.Dataset(fb_valid, tb_valid, reference=lgb_train)\n",
    "\n",
    "params = gs_lgb.best_params_\n",
    "t = timer()\n",
    "gbm = lgb.train(params,\n",
    "                lgb_train,\n",
    "                #num_boost_round=20,\n",
    "                categorical_feature = categorical,\n",
    "                valid_sets=lgb_valid,\n",
    "                early_stopping_rounds=3\n",
    "                )\n",
    "time_train = timer() - t\n",
    "\n",
    "rmse, time_predict = predict_test_RMSE(gbm, fb_test, tb_test)\n",
    "print('RMSE test', rmse)\n",
    "time_fit.append(['LightGBM', rmse, time_train, time_predict])\n"
   ]
  },
  {
   "cell_type": "markdown",
   "metadata": {},
   "source": [
    "## CatBoost"
   ]
  },
  {
   "cell_type": "code",
   "execution_count": 27,
   "metadata": {},
   "outputs": [],
   "source": [
    "def column_index(df, query_cols):\n",
    "    cols = df.columns.values\n",
    "    sidx = np.argsort(cols)\n",
    "    return sidx[np.searchsorted(cols,query_cols,sorter=sidx)]\n",
    "\n",
    "cat_features_index = column_index(fb_train, categorical)\n",
    "# num_features_index = column_index(features, numerical)"
   ]
  },
  {
   "cell_type": "code",
   "execution_count": 28,
   "metadata": {},
   "outputs": [],
   "source": [
    "def dict_to_str(dictionary):\n",
    "    strings = []\n",
    "    for key,item in dictionary.items():\n",
    "        strings.append(\"{} = {}\".format(key, item))\n",
    "    result = \", \".join(strings)\n",
    "    print(result)\n"
   ]
  },
  {
   "cell_type": "code",
   "execution_count": 29,
   "metadata": {
    "scrolled": true
   },
   "outputs": [
    {
     "name": "stdout",
     "output_type": "stream",
     "text": [
      "Fitting 2 folds for each of 4 candidates, totalling 8 fits\n",
      "[CV] depth=7, iterations=300, l2_leaf_reg=3, learning_rate=0.05 ......\n"
     ]
    },
    {
     "name": "stderr",
     "output_type": "stream",
     "text": [
      "[Parallel(n_jobs=1)]: Using backend SequentialBackend with 1 concurrent workers.\n"
     ]
    },
    {
     "name": "stdout",
     "output_type": "stream",
     "text": [
      "[CV]  depth=7, iterations=300, l2_leaf_reg=3, learning_rate=0.05, total= 1.4min\n",
      "[CV] depth=7, iterations=300, l2_leaf_reg=3, learning_rate=0.05 ......\n"
     ]
    },
    {
     "name": "stderr",
     "output_type": "stream",
     "text": [
      "[Parallel(n_jobs=1)]: Done   1 out of   1 | elapsed:  1.4min remaining:    0.0s\n"
     ]
    },
    {
     "name": "stdout",
     "output_type": "stream",
     "text": [
      "[CV]  depth=7, iterations=300, l2_leaf_reg=3, learning_rate=0.05, total= 1.4min\n",
      "[CV] depth=7, iterations=300, l2_leaf_reg=3, learning_rate=0.1 .......\n",
      "[CV]  depth=7, iterations=300, l2_leaf_reg=3, learning_rate=0.1, total= 1.4min\n",
      "[CV] depth=7, iterations=300, l2_leaf_reg=3, learning_rate=0.1 .......\n",
      "[CV]  depth=7, iterations=300, l2_leaf_reg=3, learning_rate=0.1, total= 1.4min\n",
      "[CV] depth=7, iterations=300, l2_leaf_reg=9, learning_rate=0.05 ......\n",
      "[CV]  depth=7, iterations=300, l2_leaf_reg=9, learning_rate=0.05, total= 1.4min\n",
      "[CV] depth=7, iterations=300, l2_leaf_reg=9, learning_rate=0.05 ......\n",
      "[CV]  depth=7, iterations=300, l2_leaf_reg=9, learning_rate=0.05, total= 1.4min\n",
      "[CV] depth=7, iterations=300, l2_leaf_reg=9, learning_rate=0.1 .......\n",
      "[CV]  depth=7, iterations=300, l2_leaf_reg=9, learning_rate=0.1, total= 1.4min\n",
      "[CV] depth=7, iterations=300, l2_leaf_reg=9, learning_rate=0.1 .......\n",
      "[CV]  depth=7, iterations=300, l2_leaf_reg=9, learning_rate=0.1, total= 1.4min\n"
     ]
    },
    {
     "name": "stderr",
     "output_type": "stream",
     "text": [
      "[Parallel(n_jobs=1)]: Done   8 out of   8 | elapsed: 11.2min finished\n"
     ]
    },
    {
     "name": "stdout",
     "output_type": "stream",
     "text": [
      "1700.3543167380335\n",
      "{'depth': 7, 'iterations': 300, 'l2_leaf_reg': 9, 'learning_rate': 0.05}\n"
     ]
    }
   ],
   "source": [
    "%%time\n",
    "params = {'depth': [7],\n",
    "          'learning_rate' : [0.05, 0.1],\n",
    "         'l2_leaf_reg': [3,9],\n",
    "         'iterations': [300]}\n",
    "\n",
    "catb = CatBoostRegressor()\n",
    "gs_catbl = GridSearchCV(catb, \n",
    "                        params, \n",
    "                        scoring = scorer,\n",
    "                        verbose = 2,\n",
    "                        cv = 2)\n",
    "\n",
    "gs_catbl.fit(fb_train, tb_train, cat_features=cat_features_index, logging_level='Silent')\n",
    "print(gs_catbl.best_score_)\n",
    "print(gs_catbl.best_params_)\n",
    "#{'depth': 7, 'iterations': 300, 'l2_leaf_reg': 9, 'learning_rate': 0.05}\n",
    "# gs_catbl: model"
   ]
  },
  {
   "cell_type": "code",
   "execution_count": 30,
   "metadata": {},
   "outputs": [
    {
     "name": "stdout",
     "output_type": "stream",
     "text": [
      "depth = 7, iterations = 300, l2_leaf_reg = 9, learning_rate = 0.05\n",
      "RMSE test 1626.45\n"
     ]
    }
   ],
   "source": [
    "catb = CatBoostRegressor(dict_to_str(gs_catbl.best_params_))\n",
    "\n",
    "catb.fit(fb_train,\n",
    "         tb_train,\n",
    "         cat_features=cat_features_index,\n",
    "         eval_set=(fb_valid, tb_valid),\n",
    "         logging_level='Silent'\n",
    "        )\n",
    "\n",
    "rmse, time_predict = predict_test_RMSE(catb, fb_test, tb_test)\n",
    "print('RMSE test', rmse)\n",
    "time_fit.append(['CatBoost', rmse, time_train, time_predict])"
   ]
  },
  {
   "cell_type": "markdown",
   "metadata": {},
   "source": [
    "## Проверка моделей на адекватность<a id=\"2.6\"></a>"
   ]
  },
  {
   "cell_type": "code",
   "execution_count": 31,
   "metadata": {},
   "outputs": [
    {
     "name": "stdout",
     "output_type": "stream",
     "text": [
      "RMSE 4747.448554626195\n"
     ]
    }
   ],
   "source": [
    "t = timer()\n",
    "predict_mean = pd.Series(target_train.mean(), index=target_train.index)\n",
    "time_predict = timer() - t\n",
    "rmse = RootMSE(target_train, predict_mean)\n",
    "print('RMSE', rmse)\n",
    "time_fit.append(['LinearRegression', rmse, 0.0, time_predict])"
   ]
  },
  {
   "cell_type": "markdown",
   "metadata": {},
   "source": [
    "# 3. Анализ моделей<a id=\"3\"></a>"
   ]
  },
  {
   "cell_type": "code",
   "execution_count": 32,
   "metadata": {},
   "outputs": [],
   "source": [
    "def total_print(df):\n",
    "    x = df['Model'] \n",
    "    y1 = df['RMSE']\n",
    "    y2 = df['time_train']\n",
    "    y3 = df['time_predict']\n",
    "\n",
    "    fig, axes = plt.subplots(3,1,figsize=(14,10), dpi= 80)\n",
    "    axes[0].bar( x, y1,color='tab:red', width = 0.5)\n",
    "    axes[1].bar(x, y2, color='tab:blue', width = 0.5)\n",
    "    axes[2].bar(x, y3, color='tab:green', width = 0.5)\n",
    "\n",
    "    axes[0].set_title('Результаты обучения моделей', fontsize=20)\n",
    "    axes[0].set_ylabel('RMSE', color='tab:red', fontsize=16)\n",
    "    axes[0].tick_params(axis='y', rotation=0, labelcolor='tab:red' )\n",
    "\n",
    "    axes[1].set_ylabel('Training time, sec', color='tab:blue', fontsize=16)\n",
    "    axes[1].tick_params(axis='y', labelcolor='tab:blue')\n",
    "\n",
    "    axes[2].set_ylabel('Predict time, sec', color='tab:green', fontsize=16)\n",
    "    axes[2].tick_params(axis='y', labelcolor='tab:green')\n",
    "\n",
    "    axes[2].set_xlabel('Models', fontsize=16)\n",
    "    axes[2].tick_params(axis='x', rotation=0, labelsize=12)\n",
    "    axes[0].set_xticks([])\n",
    "\n",
    "    plt.show()"
   ]
  },
  {
   "cell_type": "code",
   "execution_count": 33,
   "metadata": {},
   "outputs": [],
   "source": [
    "score_time = pd.DataFrame(time_fit, columns = ['Model', 'RMSE', 'time_train', 'time_predict'])"
   ]
  },
  {
   "cell_type": "code",
   "execution_count": 34,
   "metadata": {},
   "outputs": [
    {
     "data": {
      "text/html": [
       "<div>\n",
       "<style scoped>\n",
       "    .dataframe tbody tr th:only-of-type {\n",
       "        vertical-align: middle;\n",
       "    }\n",
       "\n",
       "    .dataframe tbody tr th {\n",
       "        vertical-align: top;\n",
       "    }\n",
       "\n",
       "    .dataframe thead th {\n",
       "        text-align: right;\n",
       "    }\n",
       "</style>\n",
       "<table border=\"1\" class=\"dataframe\">\n",
       "  <thead>\n",
       "    <tr style=\"text-align: right;\">\n",
       "      <th></th>\n",
       "      <th>Model</th>\n",
       "      <th>RMSE</th>\n",
       "      <th>time_train</th>\n",
       "      <th>time_predict</th>\n",
       "    </tr>\n",
       "  </thead>\n",
       "  <tbody>\n",
       "    <tr>\n",
       "      <td>0</td>\n",
       "      <td>Base_forest</td>\n",
       "      <td>1729.890000</td>\n",
       "      <td>36.628780</td>\n",
       "      <td>0.350000</td>\n",
       "    </tr>\n",
       "    <tr>\n",
       "      <td>1</td>\n",
       "      <td>LinearRegression</td>\n",
       "      <td>2510.900000</td>\n",
       "      <td>19.381660</td>\n",
       "      <td>0.100000</td>\n",
       "    </tr>\n",
       "    <tr>\n",
       "      <td>2</td>\n",
       "      <td>DecisionTreeRegressor</td>\n",
       "      <td>2162.340000</td>\n",
       "      <td>6.103011</td>\n",
       "      <td>0.090000</td>\n",
       "    </tr>\n",
       "    <tr>\n",
       "      <td>3</td>\n",
       "      <td>RandomForestRegressor</td>\n",
       "      <td>1658.000000</td>\n",
       "      <td>221.916561</td>\n",
       "      <td>1.420000</td>\n",
       "    </tr>\n",
       "    <tr>\n",
       "      <td>4</td>\n",
       "      <td>LightGBM</td>\n",
       "      <td>1577.150000</td>\n",
       "      <td>74.175267</td>\n",
       "      <td>0.400000</td>\n",
       "    </tr>\n",
       "    <tr>\n",
       "      <td>5</td>\n",
       "      <td>CatBoost</td>\n",
       "      <td>1626.450000</td>\n",
       "      <td>74.175267</td>\n",
       "      <td>0.330000</td>\n",
       "    </tr>\n",
       "    <tr>\n",
       "      <td>6</td>\n",
       "      <td>LinearRegression</td>\n",
       "      <td>4747.448555</td>\n",
       "      <td>0.000000</td>\n",
       "      <td>0.001695</td>\n",
       "    </tr>\n",
       "  </tbody>\n",
       "</table>\n",
       "</div>"
      ],
      "text/plain": [
       "                   Model         RMSE  time_train  time_predict\n",
       "0            Base_forest  1729.890000   36.628780      0.350000\n",
       "1       LinearRegression  2510.900000   19.381660      0.100000\n",
       "2  DecisionTreeRegressor  2162.340000    6.103011      0.090000\n",
       "3  RandomForestRegressor  1658.000000  221.916561      1.420000\n",
       "4               LightGBM  1577.150000   74.175267      0.400000\n",
       "5               CatBoost  1626.450000   74.175267      0.330000\n",
       "6       LinearRegression  4747.448555    0.000000      0.001695"
      ]
     },
     "metadata": {},
     "output_type": "display_data"
    }
   ],
   "source": [
    "display(score_time)"
   ]
  },
  {
   "cell_type": "code",
   "execution_count": 35,
   "metadata": {},
   "outputs": [
    {
     "data": {
      "image/png": "[encoded data removed]",
      "text/plain": [
       "<Figure size 1120x800 with 3 Axes>"
      ]
     },
     "metadata": {},
     "output_type": "display_data"
    }
   ],
   "source": [
    "total_print(score_time)"
   ]
  }
 ],
 "metadata": {
  "kernelspec": {
   "display_name": "Python 3",
   "language": "python",
   "name": "python3"
  },
  "language_info": {
   "codemirror_mode": {
    "name": "ipython",
    "version": 3
   },
   "file_extension": ".py",
   "mimetype": "text/x-python",
   "name": "python",
   "nbconvert_exporter": "python",
   "pygments_lexer": "ipython3",
   "version": "3.7.5"
  },
  "toc": {
   "base_numbering": 1,
   "nav_menu": {},
   "number_sections": true,
   "sideBar": true,
   "skip_h1_title": true,
   "title_cell": "Table of Contents",
   "title_sidebar": "Contents",
   "toc_cell": false,
   "toc_position": {},
   "toc_section_display": true,
   "toc_window_display": false
  }
 },
 "nbformat": 4,
 "nbformat_minor": 2
}
