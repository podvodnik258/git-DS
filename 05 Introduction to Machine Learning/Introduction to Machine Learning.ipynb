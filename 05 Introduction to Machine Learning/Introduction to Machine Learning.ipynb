{
 "cells": [
  {
   "cell_type": "markdown",
   "metadata": {},
   "source": [
    "# Рекомендация тарифов"
   ]
  },
  {
   "cell_type": "markdown",
   "metadata": {},
   "source": [
    "В вашем распоряжении данные о поведении клиентов, которые уже перешли на эти тарифы (из проекта курса «Статистический анализ данных»). Нужно построить модель для задачи классификации, которая выберет подходящий тариф. Предобработка данных не понадобится — вы её уже сделали.\n",
    "\n",
    "Постройте модель с максимально большим значением *accuracy*. Чтобы сдать проект успешно, нужно довести долю правильных ответов по крайней мере до 0.75. Проверьте *accuracy* на тестовой выборке самостоятельно."
   ]
  },
  {
   "cell_type": "code",
   "execution_count": 1,
   "metadata": {},
   "outputs": [],
   "source": [
    "import pandas as pd\n",
    "import numpy as np\n",
    "import random\n",
    "import matplotlib.pyplot as plt\n",
    "from timeit import default_timer as timer\n",
    "\n",
    "from sklearn.tree import DecisionTreeClassifier\n",
    "from sklearn.ensemble import RandomForestClassifier\n",
    "from sklearn.linear_model import LogisticRegression\n",
    "from sklearn.model_selection import train_test_split\n",
    "from sklearn.metrics import accuracy_score\n"
   ]
  },
  {
   "cell_type": "markdown",
   "metadata": {},
   "source": [
    "## 1. Откройте и изучите файл"
   ]
  },
  {
   "cell_type": "code",
   "execution_count": 2,
   "metadata": {},
   "outputs": [
    {
     "name": "stdout",
     "output_type": "stream",
     "text": [
      "<class 'pandas.core.frame.DataFrame'>\n",
      "RangeIndex: 3214 entries, 0 to 3213\n",
      "Data columns (total 5 columns):\n",
      " #   Column    Non-Null Count  Dtype  \n",
      "---  ------    --------------  -----  \n",
      " 0   calls     3214 non-null   float64\n",
      " 1   minutes   3214 non-null   float64\n",
      " 2   messages  3214 non-null   float64\n",
      " 3   mb_used   3214 non-null   float64\n",
      " 4   is_ultra  3214 non-null   int64  \n",
      "dtypes: float64(4), int64(1)\n",
      "memory usage: 125.7 KB\n"
     ]
    },
    {
     "data": {
      "text/html": [
       "<div>\n",
       "<style scoped>\n",
       "    .dataframe tbody tr th:only-of-type {\n",
       "        vertical-align: middle;\n",
       "    }\n",
       "\n",
       "    .dataframe tbody tr th {\n",
       "        vertical-align: top;\n",
       "    }\n",
       "\n",
       "    .dataframe thead th {\n",
       "        text-align: right;\n",
       "    }\n",
       "</style>\n",
       "<table border=\"1\" class=\"dataframe\">\n",
       "  <thead>\n",
       "    <tr style=\"text-align: right;\">\n",
       "      <th></th>\n",
       "      <th>calls</th>\n",
       "      <th>minutes</th>\n",
       "      <th>messages</th>\n",
       "      <th>mb_used</th>\n",
       "      <th>is_ultra</th>\n",
       "    </tr>\n",
       "  </thead>\n",
       "  <tbody>\n",
       "    <tr>\n",
       "      <th>count</th>\n",
       "      <td>3214.000000</td>\n",
       "      <td>3214.000000</td>\n",
       "      <td>3214.000000</td>\n",
       "      <td>3214.000000</td>\n",
       "      <td>3214.000000</td>\n",
       "    </tr>\n",
       "    <tr>\n",
       "      <th>mean</th>\n",
       "      <td>63.038892</td>\n",
       "      <td>438.208787</td>\n",
       "      <td>38.281269</td>\n",
       "      <td>17207.673836</td>\n",
       "      <td>0.306472</td>\n",
       "    </tr>\n",
       "    <tr>\n",
       "      <th>std</th>\n",
       "      <td>33.236368</td>\n",
       "      <td>234.569872</td>\n",
       "      <td>36.148326</td>\n",
       "      <td>7570.968246</td>\n",
       "      <td>0.461100</td>\n",
       "    </tr>\n",
       "    <tr>\n",
       "      <th>min</th>\n",
       "      <td>0.000000</td>\n",
       "      <td>0.000000</td>\n",
       "      <td>0.000000</td>\n",
       "      <td>0.000000</td>\n",
       "      <td>0.000000</td>\n",
       "    </tr>\n",
       "    <tr>\n",
       "      <th>25%</th>\n",
       "      <td>40.000000</td>\n",
       "      <td>274.575000</td>\n",
       "      <td>9.000000</td>\n",
       "      <td>12491.902500</td>\n",
       "      <td>0.000000</td>\n",
       "    </tr>\n",
       "    <tr>\n",
       "      <th>50%</th>\n",
       "      <td>62.000000</td>\n",
       "      <td>430.600000</td>\n",
       "      <td>30.000000</td>\n",
       "      <td>16943.235000</td>\n",
       "      <td>0.000000</td>\n",
       "    </tr>\n",
       "    <tr>\n",
       "      <th>75%</th>\n",
       "      <td>82.000000</td>\n",
       "      <td>571.927500</td>\n",
       "      <td>57.000000</td>\n",
       "      <td>21424.700000</td>\n",
       "      <td>1.000000</td>\n",
       "    </tr>\n",
       "    <tr>\n",
       "      <th>max</th>\n",
       "      <td>244.000000</td>\n",
       "      <td>1632.060000</td>\n",
       "      <td>224.000000</td>\n",
       "      <td>49745.730000</td>\n",
       "      <td>1.000000</td>\n",
       "    </tr>\n",
       "  </tbody>\n",
       "</table>\n",
       "</div>"
      ],
      "text/plain": [
       "             calls      minutes     messages       mb_used     is_ultra\n",
       "count  3214.000000  3214.000000  3214.000000   3214.000000  3214.000000\n",
       "mean     63.038892   438.208787    38.281269  17207.673836     0.306472\n",
       "std      33.236368   234.569872    36.148326   7570.968246     0.461100\n",
       "min       0.000000     0.000000     0.000000      0.000000     0.000000\n",
       "25%      40.000000   274.575000     9.000000  12491.902500     0.000000\n",
       "50%      62.000000   430.600000    30.000000  16943.235000     0.000000\n",
       "75%      82.000000   571.927500    57.000000  21424.700000     1.000000\n",
       "max     244.000000  1632.060000   224.000000  49745.730000     1.000000"
      ]
     },
     "execution_count": 2,
     "metadata": {},
     "output_type": "execute_result"
    }
   ],
   "source": [
    "df = pd.read_csv('./users_behavior.csv')\n",
    "df.info()\n",
    "df.describe()"
   ]
  },
  {
   "cell_type": "markdown",
   "metadata": {},
   "source": [
    "### Вывод\n",
    "Данные прочитаны. Изучены. Обработка не требуется"
   ]
  },
  {
   "cell_type": "markdown",
   "metadata": {},
   "source": [
    "## 2. Разбейте данные на выборки\n"
   ]
  },
  {
   "cell_type": "code",
   "execution_count": 3,
   "metadata": {},
   "outputs": [],
   "source": [
    "# Функция перемешивает датасет df и возвращает три части: train_size и две validate_size\n",
    "\n",
    "def train_validate_test_split(df, train_size=.6, validate_size=.2, random_state = 42):\n",
    "    np.random.seed(random_state)\n",
    "    mix = np.random.permutation(df.index)\n",
    "    m = len(df.index)\n",
    "    train_end = int(train_size * m)\n",
    "    validate_end = int(validate_size * m) + train_end\n",
    "    train = df.iloc[mix[:train_end]]\n",
    "    validate = df.iloc[mix[train_end:validate_end]]\n",
    "    test = df.iloc[mix[validate_end:]]\n",
    "    return train, validate, test"
   ]
  },
  {
   "cell_type": "markdown",
   "metadata": {},
   "source": [
    "Создаем выборки"
   ]
  },
  {
   "cell_type": "code",
   "execution_count": 4,
   "metadata": {},
   "outputs": [],
   "source": [
    "df_train, df_valid, df_test = train_validate_test_split(df, random_state = 42)"
   ]
  },
  {
   "cell_type": "code",
   "execution_count": 5,
   "metadata": {},
   "outputs": [],
   "source": [
    "features_train = df_train.drop(['is_ultra'], axis=1)\n",
    "target_train = df_train['is_ultra']\n",
    "features_valid = df_valid.drop(['is_ultra'], axis=1)\n",
    "target_valid = df_valid['is_ultra']\n",
    "features_test = df_test.drop(['is_ultra'], axis=1)\n",
    "target_test = df_test[['is_ultra']]"
   ]
  },
  {
   "cell_type": "markdown",
   "metadata": {},
   "source": [
    "## 3. Исследуйте модели"
   ]
  },
  {
   "cell_type": "code",
   "execution_count": 6,
   "metadata": {},
   "outputs": [],
   "source": [
    "# Глобальные переменные\n",
    "best_model_score = 0.0\n",
    "best_train_model: object()\n",
    "    \n",
    "# Гиперпараметры \n",
    "greater_depth = 15  #  max_depth\n",
    "n_estimator = 60  # n_estimators\n",
    "step_estimators = 5 # шаг n_estimators"
   ]
  },
  {
   "cell_type": "code",
   "execution_count": 7,
   "metadata": {},
   "outputs": [],
   "source": [
    "def model_fit(model):\n",
    "    global best_train_model\n",
    "    global best_model_score\n",
    "    t = timer()\n",
    "    model.fit(features_train, target_train)\n",
    "    elapsed = timer() - t\n",
    "    model_score = model.score(features_valid, target_valid)\n",
    "    if model_score > best_model_score:\n",
    "        best_model_score = model_score\n",
    "        best_train_model = model\n",
    "    return model_score, elapsed\n",
    "\n",
    "# Строит графики с результатами обучения при различных гиперпараметрах\n",
    "def plot_fit_model(df, title):\n",
    "    x = df.iloc[:,[0]]\n",
    "    y1 = df['accuracy']\n",
    "    y2 = df['elapsed']\n",
    "\n",
    "    fig, ax1 = plt.subplots(1,1,figsize=(12,5), dpi= 80)\n",
    "    ax1.plot(x, y1, color='tab:red')\n",
    "\n",
    "    ax2 = ax1.twinx()  # создание экземпляра второй оси, которая имеет ту же самую ось x\n",
    "    ax2.plot(x, y2, color='tab:blue')\n",
    "\n",
    "    ax1.set_xlabel(df.iloc[:,[0]].columns.values, fontsize=14)\n",
    "    ax1.tick_params(axis='x', rotation=0, labelsize=12)\n",
    "    ax1.set_ylabel('accuracy', color='tab:red', fontsize=14)\n",
    "    ax1.tick_params(axis='y', rotation=0, labelcolor='tab:red' )\n",
    "    ax1.grid(alpha=.4)\n",
    "\n",
    "    \n",
    "    ax2.set_ylabel('Время обучения (сек.)', color='tab:blue', fontsize=14)\n",
    "    ax2.tick_params(axis='y', labelcolor='tab:blue')\n",
    "    ax2.set_title(title, fontsize=20)\n",
    "    fig.tight_layout()\n",
    "    plt.show()\n",
    "\n",
    "# Запускает обучение деревьев в циле с различными гиперпараметрами\n",
    "def tree_calculate():\n",
    "    tree_stat = []\n",
    "    for depth in range(1, greater_depth):\n",
    "        tree_model = DecisionTreeClassifier(random_state=12345, max_depth = depth)\n",
    "        tree_model_score, elapsed = model_fit(tree_model)\n",
    "        tree_stat.append([depth, round(tree_model_score, 2), round(elapsed,4)])\n",
    "        #print(\"max_depth =\", depth, \", \", end='')\n",
    "        #print('accuracy: {0:.2}, Время обучения: {1:.4}'.format(tree_model_score, elapsed))\n",
    "    df = pd.DataFrame(tree_stat, columns = ['max_depth', 'accuracy', 'elapsed'])\n",
    "    plot_fit_model(df, 'Обучение DecisionTreeClassifier')\n",
    "\n",
    "# Запускает обучение леса в циле с различными гиперпараметрами\n",
    "def Forest_calculate():\n",
    "    tree_stat = []\n",
    "    for estimators in range(1, n_estimator, step_estimators):\n",
    "        forest_model = RandomForestClassifier(random_state=12345, n_estimators = estimators)\n",
    "        forest_model_score, elapsed = model_fit(forest_model)\n",
    "        tree_stat.append([estimators, round(forest_model_score, 2), round(elapsed,4)])\n",
    "    df = pd.DataFrame(tree_stat, columns = ['n_estimators', 'accuracy', 'elapsed'])\n",
    "    plot_fit_model(df, 'Обучение RandomForestClassifier')"
   ]
  },
  {
   "cell_type": "markdown",
   "metadata": {},
   "source": [
    "Решающее дерево "
   ]
  },
  {
   "cell_type": "code",
   "execution_count": 8,
   "metadata": {},
   "outputs": [
    {
     "data": {
      "image/png": "[encoded data removed]",
      "text/plain": [
       "<Figure size 960x400 with 2 Axes>"
      ]
     },
     "metadata": {
      "needs_background": "light"
     },
     "output_type": "display_data"
    }
   ],
   "source": [
    "tree_calculate()"
   ]
  },
  {
   "cell_type": "markdown",
   "metadata": {},
   "source": [
    "Случайный лес"
   ]
  },
  {
   "cell_type": "code",
   "execution_count": 9,
   "metadata": {},
   "outputs": [
    {
     "data": {
      "image/png": "[encoded data removed]",
      "text/plain": [
       "<Figure size 960x400 with 2 Axes>"
      ]
     },
     "metadata": {
      "needs_background": "light"
     },
     "output_type": "display_data"
    }
   ],
   "source": [
    "Forest_calculate()"
   ]
  },
  {
   "cell_type": "markdown",
   "metadata": {},
   "source": [
    "Логистическая регрессия"
   ]
  },
  {
   "cell_type": "code",
   "execution_count": 10,
   "metadata": {},
   "outputs": [
    {
     "name": "stdout",
     "output_type": "stream",
     "text": [
      "accuracy: 0.7, Время обучения: 0.03124\n"
     ]
    }
   ],
   "source": [
    "LR_model = LogisticRegression(random_state=12345)\n",
    "LR_model_score, elapsed = model_fit(LR_model)\n",
    "\n",
    "print('accuracy: {0:.2}, Время обучения: {1:.4}'.format(LR_model_score, elapsed))"
   ]
  },
  {
   "cell_type": "markdown",
   "metadata": {},
   "source": [
    "### Вывод\n",
    "\n"
   ]
  },
  {
   "cell_type": "code",
   "execution_count": 11,
   "metadata": {},
   "outputs": [
    {
     "name": "stdout",
     "output_type": "stream",
     "text": [
      "Лучшая модель по результатам валидации:\n",
      " RandomForestClassifier(n_estimators=26, random_state=12345)\n",
      "Точность модели (accuracy) : 0.81\n"
     ]
    }
   ],
   "source": [
    "print('Лучшая модель по результатам валидации:\\n' , best_train_model)\n",
    "print('Точность модели (accuracy) : {:.2}'. format(best_model_score))"
   ]
  },
  {
   "cell_type": "markdown",
   "metadata": {},
   "source": [
    "## 4. Проверка модели на тестовой выборке"
   ]
  },
  {
   "cell_type": "code",
   "execution_count": 12,
   "metadata": {},
   "outputs": [
    {
     "name": "stdout",
     "output_type": "stream",
     "text": [
      "Точность модели (accuracy) на тестовых данных : 0.8\n"
     ]
    }
   ],
   "source": [
    "predictions_test = best_train_model.predict(features_test)\n",
    "accuracy_test = accuracy_score(target_test, predictions_test)\n",
    "print('Точность модели (accuracy) на тестовых данных : {:.2}'. format(accuracy_test))"
   ]
  },
  {
   "cell_type": "markdown",
   "metadata": {},
   "source": [
    "## 5. (бонус) Проверка модели на адекватность"
   ]
  },
  {
   "cell_type": "markdown",
   "metadata": {},
   "source": [
    "Проверка модели в сравнении со случайными средними данными. Среднее целевого тестового датасета показывает отношение с которым тариф является \"ультра\". Заполним датасет случайными 0 и 1 с той же вероятностью появления тарифа ультра, что и в тестовой выборке."
   ]
  },
  {
   "cell_type": "code",
   "execution_count": 13,
   "metadata": {},
   "outputs": [
    {
     "data": {
      "text/plain": [
       "is_ultra    0.309006\n",
       "dtype: float64"
      ]
     },
     "execution_count": 13,
     "metadata": {},
     "output_type": "execute_result"
    }
   ],
   "source": [
    "target_test.mean()"
   ]
  },
  {
   "cell_type": "code",
   "execution_count": 14,
   "metadata": {},
   "outputs": [
    {
     "name": "stdout",
     "output_type": "stream",
     "text": [
      "accuracy случайной средней модели: 0.57\n"
     ]
    }
   ],
   "source": [
    "share = round(target_test.mean().values[0] * 100)\n",
    "predictions_random_mean = pd.Series(\n",
    "    random.choices(\n",
    "        [1, 0], \n",
    "        weights=[share, 100-share], \n",
    "        k=len(target_test)), \n",
    "    index=target_test.index)\n",
    "#print(predictions_random_mean.mean())\n",
    "accuracy_random_mean = accuracy_score(target_test, predictions_random_mean)\n",
    "print('accuracy случайной средней модели: {:.2}'. format(accuracy_random_mean))"
   ]
  },
  {
   "cell_type": "markdown",
   "metadata": {},
   "source": [
    "Проверка модели в сравнении с медианой. В классификации из двух категорий создаем датасет с тарифом \"смарт\" для всех пользователей."
   ]
  },
  {
   "cell_type": "code",
   "execution_count": 15,
   "metadata": {},
   "outputs": [
    {
     "data": {
      "text/plain": [
       "is_ultra    0.0\n",
       "dtype: float64"
      ]
     },
     "execution_count": 15,
     "metadata": {},
     "output_type": "execute_result"
    }
   ],
   "source": [
    "target_test.median()"
   ]
  },
  {
   "cell_type": "code",
   "execution_count": 16,
   "metadata": {},
   "outputs": [
    {
     "name": "stdout",
     "output_type": "stream",
     "text": [
      "accuracy медианы: 0.69\n"
     ]
    }
   ],
   "source": [
    "predictions_random_median = pd.Series(0.0, index=target_test.index)\n",
    "accuracy_random_median = accuracy_score(target_test, predictions_random_median)\n",
    "print('accuracy медианы: {:.2}'. format(accuracy_random_median))"
   ]
  },
  {
   "cell_type": "code",
   "execution_count": 17,
   "metadata": {},
   "outputs": [
    {
     "name": "stdout",
     "output_type": "stream",
     "text": [
      "улучшение обученной модели от случайной средней 0.23\n",
      "улучшение обученной модели от медианы 0.11 \n"
     ]
    }
   ],
   "source": [
    "print('улучшение обученной модели от случайной средней {0:.2}'.format(accuracy_test - accuracy_random_mean))\n",
    "print('улучшение обученной модели от медианы {0:.2} '.format(accuracy_test - accuracy_random_median))"
   ]
  },
  {
   "cell_type": "markdown",
   "metadata": {},
   "source": [
    "## Вывод \n",
    "Обучена модель для задачи классификации, которая выберет подходящий тариф. В сравнении по метрике accuracy (Отношение числа правильных ответов к размеру тестовой выборки), модель превосходит результаты простых решений. Модель вменяемая."
   ]
  }
 ],
 "metadata": {
  "kernelspec": {
   "display_name": "Python 3",
   "language": "python",
   "name": "python3"
  },
  "language_info": {
   "codemirror_mode": {
    "name": "ipython",
    "version": 3
   },
   "file_extension": ".py",
   "mimetype": "text/x-python",
   "name": "python",
   "nbconvert_exporter": "python",
   "pygments_lexer": "ipython3",
   "version": "3.7.5"
  },
  "toc": {
   "base_numbering": 1,
   "nav_menu": {},
   "number_sections": true,
   "sideBar": true,
   "skip_h1_title": true,
   "title_cell": "Table of Contents",
   "title_sidebar": "Contents",
   "toc_cell": false,
   "toc_position": {},
   "toc_section_display": true,
   "toc_window_display": false
  }
 },
 "nbformat": 4,
 "nbformat_minor": 2
}
